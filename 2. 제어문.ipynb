{
 "cells": [
  {
   "cell_type": "code",
   "execution_count": 1,
   "metadata": {},
   "outputs": [],
   "source": [
    "x=10"
   ]
  },
  {
   "cell_type": "code",
   "execution_count": 5,
   "metadata": {},
   "outputs": [
    {
     "name": "stdout",
     "output_type": "stream",
     "text": [
      "x는 10입니다.\n"
     ]
    }
   ],
   "source": [
    "if x==10:\n",
    "    print(\"x는 10입니다.\")"
   ]
  },
  {
   "cell_type": "code",
   "execution_count": 4,
   "metadata": {},
   "outputs": [
    {
     "name": "stdout",
     "output_type": "stream",
     "text": [
      "3보다 크고, 20보다 작습니다\n"
     ]
    }
   ],
   "source": [
    "if x>3 and x<20:\n",
    "    print(\"3보다 크고, 20보다 작습니다\")"
   ]
  },
  {
   "cell_type": "code",
   "execution_count": 8,
   "metadata": {},
   "outputs": [],
   "source": [
    "if x>3:\n",
    "    pass #오류 방지 위해 pass임. 아무 기능 없음."
   ]
  },
  {
   "cell_type": "code",
   "execution_count": 10,
   "metadata": {},
   "outputs": [
    {
     "name": "stdout",
     "output_type": "stream",
     "text": [
      "8이랑 12 사이야\n"
     ]
    }
   ],
   "source": [
    "if 5<x<8:\n",
    "    print(\"5보다 커\")\n",
    "elif 8<x<12:\n",
    "    print(\"8이랑 12 사이야\")\n",
    "else:\n",
    "    print(\"5보다 작아\")"
   ]
  },
  {
   "cell_type": "code",
   "execution_count": null,
   "metadata": {},
   "outputs": [],
   "source": []
  },
  {
   "cell_type": "code",
   "execution_count": null,
   "metadata": {},
   "outputs": [],
   "source": []
  },
  {
   "cell_type": "code",
   "execution_count": 63,
   "metadata": {},
   "outputs": [
    {
     "name": "stdout",
     "output_type": "stream",
     "text": [
      "입력1 : 88.8\n",
      "입력2 : 88.8\n",
      "입력3 : 88.8\n",
      "잘못된 점수가 입력됨\n"
     ]
    }
   ],
   "source": [
    "a= input(\"입력1 : \")\n",
    "b= input(\"입력2 : \")\n",
    "c= input(\"입력3 : \")\n",
    "\n",
    "#a,b,c = map(int, [a,b,c])\n",
    "\n",
    "a=int(a)\n",
    "b=int(b)\n",
    "c=int(c)\n",
    "\n",
    "#if (not (0<=a<=100)) or (not (0<=b<=100)) or (not (0<=c<=100))\n",
    "\n",
    "if (a not in range(101)) or (b not in range(101)) or (c not in range(101)):\n",
    "    print(\"잘못된 점수가 입력됨\")\n",
    "    \n",
    "elif 65<a and 65<b and 65\n",
    "#a,b,c = map(int, [a,b,c])<c:\n",
    "\n",
    "print(\"합격\")\n",
    "    \n",
    "else:\n",
    "    print(\"불합격\")"
   ]
  },
  {
   "cell_type": "code",
   "execution_count": 52,
   "metadata": {},
   "outputs": [
    {
     "name": "stdout",
     "output_type": "stream",
     "text": [
      "a : 202020\n",
      "error\n"
     ]
    }
   ],
   "source": [
    "a= input(\"입력1 : \")\n",
    "b= input(\"입력2 : \")\n",
    "c= input(\"입력3 : \")\n",
    "\n"
   ]
  },
  {
   "cell_type": "code",
   "execution_count": null,
   "metadata": {},
   "outputs": [],
   "source": []
  },
  {
   "cell_type": "code",
   "execution_count": 83,
   "metadata": {},
   "outputs": [
    {
     "name": "stdout",
     "output_type": "stream",
     "text": [
      "입력 : 9\n",
      "9는 홀수입니다.\n"
     ]
    }
   ],
   "source": [
    "a=int(input(\"입력 : \"))\n",
    "\n",
    "if a%2==1:\n",
    "    #print(\"입력하신 %d는 홀수입니다.\"%a)\n",
    "    print(\"{}는 홀수입니다.\".format(a))\n",
    "else:\n",
    "    print(\"입력하신 %d는 짝수입니다.\"%a)"
   ]
  },
  {
   "cell_type": "code",
   "execution_count": null,
   "metadata": {},
   "outputs": [],
   "source": []
  },
  {
   "cell_type": "code",
   "execution_count": null,
   "metadata": {},
   "outputs": [],
   "source": []
  },
  {
   "cell_type": "markdown",
   "metadata": {},
   "source": [
    "# for문"
   ]
  },
  {
   "cell_type": "code",
   "execution_count": 85,
   "metadata": {},
   "outputs": [
    {
     "name": "stdout",
     "output_type": "stream",
     "text": [
      "0\n",
      "1\n",
      "2\n",
      "3\n",
      "4\n"
     ]
    }
   ],
   "source": [
    "for i in range(5):\n",
    "    print(i)"
   ]
  },
  {
   "cell_type": "code",
   "execution_count": 88,
   "metadata": {},
   "outputs": [
    {
     "name": "stdout",
     "output_type": "stream",
     "text": [
      "a\n",
      "b\n",
      "c\n"
     ]
    }
   ],
   "source": [
    "for i in ['a','b','c']: #list는 value 중심이므로. value값이 i로 들어감. \n",
    "    print(i)"
   ]
  },
  {
   "cell_type": "code",
   "execution_count": 91,
   "metadata": {},
   "outputs": [
    {
     "name": "stdout",
     "output_type": "stream",
     "text": [
      "name\n",
      "height\n",
      "city\n"
     ]
    }
   ],
   "source": [
    "profile={\n",
    "    \"name\":\"ㅇㅎㅇ\",\n",
    "    \"height\":190,\n",
    "    \"city\":\"seoul\"\n",
    "}\n",
    "\n",
    "for i in profile: #dictionary는 key 중심\n",
    "    print(i)"
   ]
  },
  {
   "cell_type": "code",
   "execution_count": 93,
   "metadata": {},
   "outputs": [
    {
     "name": "stdout",
     "output_type": "stream",
     "text": [
      "s\n",
      "k\n",
      "y\n"
     ]
    }
   ],
   "source": [
    "for i in \"sky\":\n",
    "    print(i)"
   ]
  },
  {
   "cell_type": "code",
   "execution_count": null,
   "metadata": {},
   "outputs": [],
   "source": []
  },
  {
   "cell_type": "code",
   "execution_count": 94,
   "metadata": {},
   "outputs": [
    {
     "name": "stdout",
     "output_type": "stream",
     "text": [
      "정수 입력하세요 : 5\n",
      "안녕\n",
      "안녕\n",
      "안녕\n",
      "안녕\n",
      "안녕\n"
     ]
    }
   ],
   "source": [
    "a=int(input(\"정수 입력하세요 : \"))\n",
    "for i in range(a):\n",
    "    print(\"안녕\")"
   ]
  },
  {
   "cell_type": "code",
   "execution_count": 105,
   "metadata": {},
   "outputs": [
    {
     "name": "stdout",
     "output_type": "stream",
     "text": [
      "정수 입력하세요 : 5\n",
      "*\n",
      "**\n",
      "***\n",
      "****\n",
      "*****\n",
      "*****\n",
      "****\n",
      "***\n",
      "**\n",
      "*\n"
     ]
    }
   ],
   "source": [
    "a=int(input(\"정수 입력하세요 : \"))\n",
    "for i in range(a):\n",
    "    print(\"*\"*(i+1))\n",
    "for j in range(a):\n",
    "    print(\"*\"*(5-j))"
   ]
  },
  {
   "cell_type": "code",
   "execution_count": null,
   "metadata": {},
   "outputs": [],
   "source": []
  }
 ],
 "metadata": {
  "kernelspec": {
   "display_name": "Python 3",
   "language": "python",
   "name": "python3"
  },
  "language_info": {
   "codemirror_mode": {
    "name": "ipython",
    "version": 3
   },
   "file_extension": ".py",
   "mimetype": "text/x-python",
   "name": "python",
   "nbconvert_exporter": "python",
   "pygments_lexer": "ipython3",
   "version": "3.8.3"
  }
 },
 "nbformat": 4,
 "nbformat_minor": 4
}
