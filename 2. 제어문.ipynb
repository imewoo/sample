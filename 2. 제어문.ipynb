{
 "cells": [
  {
   "cell_type": "code",
   "execution_count": 1,
   "metadata": {},
   "outputs": [
    {
     "data": {
      "text/plain": [
       "200"
      ]
     },
     "execution_count": 1,
     "metadata": {},
     "output_type": "execute_result"
    }
   ],
   "source": [
    "ae=200\n",
    "ae"
   ]
  },
  {
   "cell_type": "code",
   "execution_count": 1,
   "metadata": {},
   "outputs": [],
   "source": [
    "x=10"
   ]
  },
  {
   "cell_type": "code",
   "execution_count": 5,
   "metadata": {},
   "outputs": [
    {
     "name": "stdout",
     "output_type": "stream",
     "text": [
      "x는 10입니다.\n"
     ]
    }
   ],
   "source": [
    "if x==10:\n",
    "    print(\"x는 10입니다.\")"
   ]
  },
  {
   "cell_type": "code",
   "execution_count": 4,
   "metadata": {},
   "outputs": [
    {
     "name": "stdout",
     "output_type": "stream",
     "text": [
      "3보다 크고, 20보다 작습니다\n"
     ]
    }
   ],
   "source": [
    "if x>3 and x<20:\n",
    "    print(\"3보다 크고, 20보다 작습니다\")"
   ]
  },
  {
   "cell_type": "code",
   "execution_count": 8,
   "metadata": {},
   "outputs": [],
   "source": [
    "if x>3:\n",
    "    pass #오류 방지 위해 pass임. 아무 기능 없음."
   ]
  },
  {
   "cell_type": "code",
   "execution_count": 10,
   "metadata": {},
   "outputs": [
    {
     "name": "stdout",
     "output_type": "stream",
     "text": [
      "8이랑 12 사이야\n"
     ]
    }
   ],
   "source": [
    "if 5<x<8:\n",
    "    print(\"5보다 커\")\n",
    "elif 8<x<12:\n",
    "    print(\"8이랑 12 사이야\")\n",
    "else:\n",
    "    print(\"5보다 작아\")"
   ]
  },
  {
   "cell_type": "code",
   "execution_count": null,
   "metadata": {},
   "outputs": [],
   "source": []
  },
  {
   "cell_type": "code",
   "execution_count": null,
   "metadata": {},
   "outputs": [],
   "source": []
  },
  {
   "cell_type": "code",
   "execution_count": 63,
   "metadata": {},
   "outputs": [
    {
     "name": "stdout",
     "output_type": "stream",
     "text": [
      "입력1 : 88.8\n",
      "입력2 : 88.8\n",
      "입력3 : 88.8\n",
      "잘못된 점수가 입력됨\n"
     ]
    }
   ],
   "source": [
    "a= input(\"입력1 : \")\n",
    "b= input(\"입력2 : \")\n",
    "c= input(\"입력3 : \")\n",
    "\n",
    "#a,b,c = map(int, [a,b,c])\n",
    "\n",
    "a=int(a)\n",
    "b=int(b)\n",
    "c=int(c)\n",
    "\n",
    "#if (not (0<=a<=100)) or (not (0<=b<=100)) or (not (0<=c<=100))\n",
    "\n",
    "if (a not in range(101)) or (b not in range(101)) or (c not in range(101)):\n",
    "    print(\"잘못된 점수가 입력됨\")\n",
    "    \n",
    "elif 65<a and 65<b and 65\n",
    "#a,b,c = map(int, [a,b,c])<c:\n",
    "\n",
    "print(\"합격\")\n",
    "    \n",
    "else:\n",
    "    print(\"불합격\")"
   ]
  },
  {
   "cell_type": "code",
   "execution_count": 52,
   "metadata": {},
   "outputs": [
    {
     "name": "stdout",
     "output_type": "stream",
     "text": [
      "a : 202020\n",
      "error\n"
     ]
    }
   ],
   "source": [
    "a= input(\"입력1 : \")\n",
    "b= input(\"입력2 : \")\n",
    "c= input(\"입력3 : \")\n",
    "\n"
   ]
  },
  {
   "cell_type": "code",
   "execution_count": null,
   "metadata": {},
   "outputs": [],
   "source": []
  },
  {
   "cell_type": "code",
   "execution_count": 83,
   "metadata": {},
   "outputs": [
    {
     "name": "stdout",
     "output_type": "stream",
     "text": [
      "입력 : 9\n",
      "9는 홀수입니다.\n"
     ]
    }
   ],
   "source": [
    "a=int(input(\"입력 : \"))\n",
    "\n",
    "if a%2==1:\n",
    "    #print(\"입력하신 %d는 홀수입니다.\"%a)\n",
    "    print(\"{}는 홀수입니다.\".format(a))\n",
    "else:\n",
    "    print(\"입력하신 %d는 짝수입니다.\"%a)"
   ]
  },
  {
   "cell_type": "code",
   "execution_count": null,
   "metadata": {},
   "outputs": [],
   "source": []
  },
  {
   "cell_type": "code",
   "execution_count": null,
   "metadata": {},
   "outputs": [],
   "source": []
  },
  {
   "cell_type": "markdown",
   "metadata": {},
   "source": [
    "# for문"
   ]
  },
  {
   "cell_type": "code",
   "execution_count": 85,
   "metadata": {},
   "outputs": [
    {
     "name": "stdout",
     "output_type": "stream",
     "text": [
      "0\n",
      "1\n",
      "2\n",
      "3\n",
      "4\n"
     ]
    }
   ],
   "source": [
    "for i in range(5):\n",
    "    print(i)"
   ]
  },
  {
   "cell_type": "code",
   "execution_count": 88,
   "metadata": {},
   "outputs": [
    {
     "name": "stdout",
     "output_type": "stream",
     "text": [
      "a\n",
      "b\n",
      "c\n"
     ]
    }
   ],
   "source": [
    "for i in ['a','b','c']: #list는 value 중심이므로. value값이 i로 들어감. \n",
    "    print(i)"
   ]
  },
  {
   "cell_type": "code",
   "execution_count": 91,
   "metadata": {},
   "outputs": [
    {
     "name": "stdout",
     "output_type": "stream",
     "text": [
      "name\n",
      "height\n",
      "city\n"
     ]
    }
   ],
   "source": [
    "profile={\n",
    "    \"name\":\"ㅇㅎㅇ\",\n",
    "    \"height\":190,\n",
    "    \"city\":\"seoul\"\n",
    "}\n",
    "\n",
    "for i in profile: #dictionary는 key 중심\n",
    "    print(i)"
   ]
  },
  {
   "cell_type": "code",
   "execution_count": 93,
   "metadata": {},
   "outputs": [
    {
     "name": "stdout",
     "output_type": "stream",
     "text": [
      "s\n",
      "k\n",
      "y\n"
     ]
    }
   ],
   "source": [
    "for i in \"sky\":\n",
    "    print(i)"
   ]
  },
  {
   "cell_type": "code",
   "execution_count": null,
   "metadata": {},
   "outputs": [],
   "source": []
  },
  {
   "cell_type": "code",
   "execution_count": 94,
   "metadata": {},
   "outputs": [
    {
     "name": "stdout",
     "output_type": "stream",
     "text": [
      "정수 입력하세요 : 5\n",
      "안녕\n",
      "안녕\n",
      "안녕\n",
      "안녕\n",
      "안녕\n"
     ]
    }
   ],
   "source": [
    "a=int(input(\"정수 입력하세요 : \"))\n",
    "for i in range(a):\n",
    "    print(\"안녕\")"
   ]
  },
  {
   "cell_type": "code",
   "execution_count": 12,
   "metadata": {},
   "outputs": [
    {
     "name": "stdout",
     "output_type": "stream",
     "text": [
      "정수 입력하세요 : 5\n",
      "*\n",
      "**\n",
      "***\n",
      "****\n",
      "*****\n"
     ]
    }
   ],
   "source": [
    "a=int(input(\"정수 입력하세요 : \"))\n",
    "for i in range(a):\n",
    "    print(\"*\"*(i+1))"
   ]
  },
  {
   "cell_type": "code",
   "execution_count": 2,
   "metadata": {},
   "outputs": [
    {
     "name": "stdout",
     "output_type": "stream",
     "text": [
      "정수 입력 :5\n",
      "*****\n",
      "****\n",
      "***\n",
      "**\n",
      "*\n"
     ]
    }
   ],
   "source": [
    "a=int(input(\"정수 입력 :\"))\n",
    "for i in range(a):\n",
    "    print(\"*\"*(a-i))"
   ]
  },
  {
   "cell_type": "code",
   "execution_count": 28,
   "metadata": {
    "scrolled": true
   },
   "outputs": [
    {
     "name": "stdout",
     "output_type": "stream",
     "text": [
      "**********\n",
      "****  ****\n",
      "***    ***\n",
      "**      **\n",
      "*        *\n",
      "*        *\n",
      "**      **\n",
      "***    ***\n",
      "****  ****\n",
      "**********\n"
     ]
    }
   ],
   "source": [
    "a=5\n",
    "for i in range(5):\n",
    "    print(\"*\"*(a-i)+\" \"*2*(i)+\"*\"*(a-i))\n",
    "for i in range(5):\n",
    "    print(\"*\"*(i+1)+\" \"*2*(a-i-1)+\"*\"*(i+1))"
   ]
  },
  {
   "cell_type": "code",
   "execution_count": null,
   "metadata": {},
   "outputs": [],
   "source": []
  },
  {
   "cell_type": "code",
   "execution_count": null,
   "metadata": {},
   "outputs": [],
   "source": []
  },
  {
   "cell_type": "code",
   "execution_count": null,
   "metadata": {},
   "outputs": [],
   "source": []
  },
  {
   "cell_type": "markdown",
   "metadata": {},
   "source": [
    "# for문 중첩"
   ]
  },
  {
   "cell_type": "code",
   "execution_count": 33,
   "metadata": {},
   "outputs": [
    {
     "name": "stdout",
     "output_type": "stream",
     "text": [
      "i :  0\n",
      "j :  0\n",
      "j :  1\n",
      "j :  2\n",
      "j :  3\n",
      "-------\n",
      "i :  1\n",
      "j :  0\n",
      "j :  1\n",
      "j :  2\n",
      "j :  3\n",
      "-------\n",
      "i :  2\n",
      "j :  0\n",
      "j :  1\n",
      "j :  2\n",
      "j :  3\n",
      "-------\n"
     ]
    }
   ],
   "source": [
    "for i in range(3):\n",
    "    print(\" : \", i+1)\n",
    "    for j in range(4):\n",
    "        print(\"j : \", j)\n",
    "    print(\"-\" *7)"
   ]
  },
  {
   "cell_type": "code",
   "execution_count": 35,
   "metadata": {},
   "outputs": [
    {
     "name": "stdout",
     "output_type": "stream",
     "text": [
      "(0, 'a')\n",
      "(1, 'b')\n",
      "(2, 'c')\n",
      "(3, 'd')\n"
     ]
    }
   ],
   "source": [
    "l1=['a','b','c','d']\n",
    "for i in enumerate(l1): #튜플로 나오잖아\n",
    "    print(i)"
   ]
  },
  {
   "cell_type": "code",
   "execution_count": 37,
   "metadata": {},
   "outputs": [
    {
     "name": "stdout",
     "output_type": "stream",
     "text": [
      "10\n",
      "20\n"
     ]
    }
   ],
   "source": [
    "a,b=(10,20) #unpack!!!!!! 가능\n",
    "print(a)\n",
    "print(b)"
   ]
  },
  {
   "cell_type": "code",
   "execution_count": 36,
   "metadata": {},
   "outputs": [
    {
     "name": "stdout",
     "output_type": "stream",
     "text": [
      "0 a\n",
      "1 b\n",
      "2 c\n",
      "3 d\n"
     ]
    }
   ],
   "source": [
    "l1=['a','b','c','d']\n",
    "for idx, value in enumerate(l1): #튜플 푸는 방법 unpack\n",
    "    print(idx, value)"
   ]
  },
  {
   "cell_type": "code",
   "execution_count": 41,
   "metadata": {
    "scrolled": true
   },
   "outputs": [
    {
     "name": "stdout",
     "output_type": "stream",
     "text": [
      "0 a\n",
      "1 b\n",
      "2 0\n",
      "3 0\n",
      "['a', 'b', 0, 0]\n"
     ]
    }
   ],
   "source": [
    "for idx, value in enumerate(l1):\n",
    "    if idx>=2:\n",
    "        l1[idx]=0\n",
    "    print(idx, value)\n",
    "print(l1)"
   ]
  },
  {
   "cell_type": "code",
   "execution_count": null,
   "metadata": {},
   "outputs": [],
   "source": []
  },
  {
   "cell_type": "markdown",
   "metadata": {},
   "source": [
    "###### (1) x = [3, 6, 9, 20, -7, 5] 의 값의 모든 요소에 10을 곱한뒤 출력하세요\n",
    "###### 심화 : 출력과 리스트 x 의 값에도 모두 10을 곱해주세요\n"
   ]
  },
  {
   "cell_type": "code",
   "execution_count": 131,
   "metadata": {},
   "outputs": [
    {
     "name": "stdout",
     "output_type": "stream",
     "text": [
      "30\n",
      "출력x10 = 300\n",
      "60\n",
      "출력x10 = 600\n",
      "90\n",
      "출력x10 = 900\n",
      "200\n",
      "출력x10 = 2000\n",
      "-70\n",
      "출력x10 = -700\n",
      "50\n",
      "출력x10 = 500\n"
     ]
    }
   ],
   "source": [
    "x=[3,6,9,20,-7,5]\n",
    "for i in range(len(x)):\n",
    "    print(x[i]*10)\n",
    "    b=x[i]*10\n",
    "    for i in range(1):\n",
    "        print(\"출력x10 = {}\".format(b*10))"
   ]
  },
  {
   "cell_type": "code",
   "execution_count": 138,
   "metadata": {},
   "outputs": [
    {
     "name": "stdout",
     "output_type": "stream",
     "text": [
      "300\n",
      "600\n",
      "900\n",
      "2000\n",
      "-700\n",
      "500\n"
     ]
    },
    {
     "data": {
      "text/plain": [
       "[300, 600, 900, 2000, -700, 500]"
      ]
     },
     "execution_count": 138,
     "metadata": {},
     "output_type": "execute_result"
    }
   ],
   "source": [
    "#심화 답\n",
    "#실제 값 변경 = 리스트 업데이트\n",
    "#x도 변경, 값도 변경.\n",
    "for idx, value in enumerate(x):\n",
    "    x[idx]=value*10\n",
    "    print(x[idx])\n",
    "x"
   ]
  },
  {
   "cell_type": "markdown",
   "metadata": {},
   "source": [
    "###### (2) y = {“math”: 70, “science”: 80, “english”: 20} 의 값의 모든 요소에 10을 더한뒤 출력하세요\n",
    "###### 심화 : 출력과 딕셔너리 y 의 값에도 모두 10을 더해주세요\n"
   ]
  },
  {
   "cell_type": "code",
   "execution_count": 135,
   "metadata": {},
   "outputs": [
    {
     "name": "stdout",
     "output_type": "stream",
     "text": [
      "80\n",
      "90\n",
      "30\n"
     ]
    }
   ],
   "source": [
    "# 모든 값에 10 더해서 출력\n",
    "y={\"math\":70, \"science\":80, \"english\":20}\n",
    "for i in dict.values(y):\n",
    "    print(i+10)\n",
    "    "
   ]
  },
  {
   "cell_type": "code",
   "execution_count": 136,
   "metadata": {},
   "outputs": [
    {
     "name": "stdout",
     "output_type": "stream",
     "text": [
      "math 700\n",
      "science 800\n",
      "english 200\n"
     ]
    }
   ],
   "source": [
    "#답\n",
    "y={\"math\":70, \"science\":80, \"english\":20}\n",
    "for i in y:\n",
    "    print(i, y[i]*10)"
   ]
  },
  {
   "cell_type": "code",
   "execution_count": 137,
   "metadata": {},
   "outputs": [
    {
     "name": "stdout",
     "output_type": "stream",
     "text": [
      "700\n",
      "800\n",
      "200\n"
     ]
    },
    {
     "data": {
      "text/plain": [
       "{'math': 700, 'science': 800, 'english': 200}"
      ]
     },
     "execution_count": 137,
     "metadata": {},
     "output_type": "execute_result"
    }
   ],
   "source": [
    "#심화 답\n",
    "for k in y:\n",
    "    y[k]=y[k]*10\n",
    "    print(y[k])\n",
    "y"
   ]
  },
  {
   "cell_type": "markdown",
   "metadata": {},
   "source": [
    "###### (3) 숫자를 입력받고 입력받은 정수의 구구단을 출력하세요"
   ]
  },
  {
   "cell_type": "code",
   "execution_count": 86,
   "metadata": {},
   "outputs": [
    {
     "name": "stdout",
     "output_type": "stream",
     "text": [
      "정수입력 : 5\n",
      "5 * 1 = 5\n",
      "5 * 2 = 10\n",
      "5 * 3 = 15\n",
      "5 * 4 = 20\n",
      "5 * 5 = 25\n",
      "5 * 6 = 30\n",
      "5 * 7 = 35\n",
      "5 * 8 = 40\n",
      "5 * 9 = 45\n"
     ]
    }
   ],
   "source": [
    "a=int(input(\"정수입력 : \"))\n",
    "for j in range(9):\n",
    "    print(\"{} * {} = {}\".format(a, j+1, a*(j+1)))"
   ]
  },
  {
   "cell_type": "code",
   "execution_count": 140,
   "metadata": {
    "scrolled": true
   },
   "outputs": [
    {
     "name": "stdout",
     "output_type": "stream",
     "text": [
      "몇 단??5\n",
      "5 * 1 = 5\n",
      "5 * 2 = 10\n",
      "5 * 3 = 15\n",
      "5 * 4 = 20\n",
      "5 * 5 = 25\n",
      "5 * 6 = 30\n",
      "5 * 7 = 35\n",
      "5 * 8 = 40\n",
      "5 * 9 = 45\n"
     ]
    }
   ],
   "source": [
    "#답\n",
    "num=int(input(\"몇 단??\"))\n",
    "\n",
    "for i in range(1,10):\n",
    "    print(\"{} * {} = {}\".format(num, i, num*i))"
   ]
  },
  {
   "cell_type": "code",
   "execution_count": null,
   "metadata": {},
   "outputs": [],
   "source": []
  },
  {
   "cell_type": "markdown",
   "metadata": {},
   "source": [
    "###### (1) word = [“school”, “game”, “piano”, “science”, “hotel”, “mountian”] 중 글자수가 6글자 이상인 문자를 모아 새로운 리스트를 생성하세요\n"
   ]
  },
  {
   "cell_type": "code",
   "execution_count": 158,
   "metadata": {},
   "outputs": [
    {
     "name": "stdout",
     "output_type": "stream",
     "text": [
      "['school', 'science', 'mountain']\n"
     ]
    }
   ],
   "source": [
    "word = [\"school\", \"game\", \"piano\", \"science\", \"hotel\", \"mountain\"]\n",
    "\n",
    "result=[]\n",
    "for i in range(len(word)):\n",
    "    if len(word[i])>=6:\n",
    "        result.append(word[i])\n",
    "        \n",
    "print(result)"
   ]
  },
  {
   "cell_type": "code",
   "execution_count": 165,
   "metadata": {},
   "outputs": [
    {
     "data": {
      "text/plain": [
       "['school', 'science', 'mountain']"
      ]
     },
     "execution_count": 165,
     "metadata": {},
     "output_type": "execute_result"
    }
   ],
   "source": [
    "#답\n",
    "word = [\"school\", \"game\", \"piano\", \"science\", \"hotel\", \"mountain\"]\n",
    "\n",
    "new_word=[]\n",
    "for i in word:\n",
    "    if len(i)>=6:\n",
    "        new_word.append(i)\n",
    "new_word"
   ]
  },
  {
   "cell_type": "code",
   "execution_count": 166,
   "metadata": {},
   "outputs": [
    {
     "data": {
      "text/plain": [
       "['school', 'science', 'mountain']"
      ]
     },
     "execution_count": 166,
     "metadata": {},
     "output_type": "execute_result"
    }
   ],
   "source": [
    "#답2\n",
    "word = [\"school\", \"game\", \"piano\", \"science\", \"hotel\", \"mountain\"]\n",
    "new_word=word.copy()\n",
    "for i in word:\n",
    "    if len(i)<6:\n",
    "        new_word.remove(i)\n",
    "new_word"
   ]
  },
  {
   "cell_type": "markdown",
   "metadata": {},
   "source": [
    "###### (2) 구구단을 1단부터 9단까지 출력하세요\n"
   ]
  },
  {
   "cell_type": "code",
   "execution_count": 153,
   "metadata": {},
   "outputs": [
    {
     "name": "stdout",
     "output_type": "stream",
     "text": [
      "1 x 1 = 1\n",
      "1 x 2 = 2\n",
      "2 x 1 = 2\n",
      "2 x 2 = 4\n",
      "3 x 1 = 3\n",
      "3 x 2 = 6\n",
      "4 x 1 = 4\n",
      "4 x 2 = 8\n",
      "5 x 1 = 5\n",
      "5 x 2 = 10\n",
      "6 x 1 = 6\n",
      "6 x 2 = 12\n",
      "7 x 1 = 7\n",
      "7 x 2 = 14\n",
      "8 x 1 = 8\n",
      "8 x 2 = 16\n",
      "9 x 1 = 9\n",
      "9 x 2 = 18\n"
     ]
    }
   ],
   "source": [
    "for i in range(1,10):\n",
    "    for j in range(1,3):\n",
    "        print(\"{} x {} = {}\".format(i,j,i*j))"
   ]
  },
  {
   "cell_type": "code",
   "execution_count": 167,
   "metadata": {},
   "outputs": [
    {
     "name": "stdout",
     "output_type": "stream",
     "text": [
      "[1]단\n",
      "1 x 1 = 1\n",
      "1 x 2 = 2\n",
      "----------\n",
      "[2]단\n",
      "2 x 1 = 2\n",
      "2 x 2 = 4\n",
      "----------\n",
      "[3]단\n",
      "3 x 1 = 3\n",
      "3 x 2 = 6\n",
      "----------\n",
      "[4]단\n",
      "4 x 1 = 4\n",
      "4 x 2 = 8\n",
      "----------\n",
      "[5]단\n",
      "5 x 1 = 5\n",
      "5 x 2 = 10\n",
      "----------\n",
      "[6]단\n",
      "6 x 1 = 6\n",
      "6 x 2 = 12\n",
      "----------\n",
      "[7]단\n",
      "7 x 1 = 7\n",
      "7 x 2 = 14\n",
      "----------\n",
      "[8]단\n",
      "8 x 1 = 8\n",
      "8 x 2 = 16\n",
      "----------\n",
      "[9]단\n",
      "9 x 1 = 9\n",
      "9 x 2 = 18\n",
      "----------\n"
     ]
    }
   ],
   "source": [
    "#답\n",
    "for i in range(1,10):\n",
    "    print(\"[%s]단\"%i)\n",
    "    for j in range(1,3):\n",
    "        print(\"{} x {} = {}\".format(i,j,i*j))\n",
    "    print(\"-\"*10)"
   ]
  },
  {
   "cell_type": "markdown",
   "metadata": {},
   "source": [
    "##### 1-100 까지 숫자중\n",
    "###### 3과 5의 공배수일경우 “3과 5의 공배수”\n",
    "###### 나머지 숫자중 3의배수일경우 “3의배수”\n",
    "###### 나머지 숫자중 5의배수일경우 “5의배수”\n",
    "###### 모두 해당되지 않을경우 그냥숫자\n",
    "###### 를 출력하세요\n",
    "##### 심화 : 1-입력한숫자까지의 숫자중"
   ]
  },
  {
   "cell_type": "code",
   "execution_count": 163,
   "metadata": {
    "scrolled": true
   },
   "outputs": [
    {
     "name": "stdout",
     "output_type": "stream",
     "text": [
      "1\n",
      "2\n",
      "3는 3의 공배수\n",
      "4\n",
      "5는 5의 공배수\n",
      "6는 3의 공배수\n",
      "7\n",
      "8\n",
      "9는 3의 공배수\n",
      "10는 5의 공배수\n",
      "11\n",
      "12는 3의 공배수\n",
      "13\n",
      "14\n",
      "15는 3과 5의 공배수\n"
     ]
    }
   ],
   "source": [
    "#기본문제\n",
    "for i in range(1,16):\n",
    "    if i%3==0 and i%5==0:\n",
    "        print(\"{}는 3과 5의 공배수\".format(i))\n",
    "    elif i%3==0:\n",
    "        print(\"{}는 3의 공배수\".format(i))\n",
    "    elif i%5==0:\n",
    "        print(\"{}는 5의 공배수\".format(i))\n",
    "    else:\n",
    "        print(\"{}\".format(i))"
   ]
  },
  {
   "cell_type": "code",
   "execution_count": 162,
   "metadata": {},
   "outputs": [
    {
     "name": "stdout",
     "output_type": "stream",
     "text": [
      "숫자 입력 : 15\n",
      "1\n",
      "2\n",
      "3는 3의 공배수\n",
      "4\n",
      "5는 5의 공배수\n",
      "6는 3의 공배수\n",
      "7\n",
      "8\n",
      "9는 3의 공배수\n",
      "10는 5의 공배수\n",
      "11\n",
      "12는 3의 공배수\n",
      "13\n",
      "14\n",
      "15는 3과 5의 공배수\n"
     ]
    }
   ],
   "source": [
    "#심화\n",
    "a=int(input(\"숫자 입력 : \"))\n",
    "for i in range(1,a+1):\n",
    "    if i%3==0 and i%5==0:\n",
    "        print(\"{}는 3과 5의 공배수\".format(i))\n",
    "    elif i%3==0:\n",
    "        print(\"{}는 3의 공배수\".format(i))\n",
    "    elif i%5==0:\n",
    "        print(\"{}는 5의 공배수\".format(i))\n",
    "    else:\n",
    "        print(\"{}\".format(i))"
   ]
  },
  {
   "cell_type": "code",
   "execution_count": 173,
   "metadata": {},
   "outputs": [
    {
     "name": "stdout",
     "output_type": "stream",
     "text": [
      "1\n",
      "2\n",
      "3는 3의 공배수\n",
      "4\n",
      "5는 5의 공배수\n",
      "6는 3의 공배수\n",
      "7\n",
      "8\n",
      "9는 3의 공배수\n",
      "10는 5의 공배수\n"
     ]
    }
   ],
   "source": [
    "#답\n",
    "n=11\n",
    "for i in range(1,n):\n",
    "    if (i%3==0) and (i%5==0):\n",
    "        print(\"{}는 3과 5의 공배수\".format(i))\n",
    "    elif i%3==0:\n",
    "        print(\"{}는 3의 공배수\".format(i))\n",
    "    elif i%5==0:\n",
    "        print(\"{}는 5의 공배수\".format(i))\n",
    "    else:\n",
    "        print(\"{}\".format(i))"
   ]
  },
  {
   "cell_type": "code",
   "execution_count": null,
   "metadata": {},
   "outputs": [],
   "source": []
  },
  {
   "cell_type": "code",
   "execution_count": null,
   "metadata": {},
   "outputs": [],
   "source": []
  },
  {
   "cell_type": "markdown",
   "metadata": {},
   "source": [
    "# while문"
   ]
  },
  {
   "cell_type": "code",
   "execution_count": 175,
   "metadata": {},
   "outputs": [
    {
     "name": "stdout",
     "output_type": "stream",
     "text": [
      "i: 0\n",
      "i: 1\n",
      "i: 2\n",
      "i: 3\n",
      "i: 4\n"
     ]
    }
   ],
   "source": [
    "i=0\n",
    "while i<5:\n",
    "    print(\"i:\",i)\n",
    "    i+=1"
   ]
  },
  {
   "cell_type": "code",
   "execution_count": 176,
   "metadata": {},
   "outputs": [
    {
     "name": "stdout",
     "output_type": "stream",
     "text": [
      "s가 입력되면 멈춥니다.i\n",
      "프로세스 동작중\n",
      "s가 입력되면 멈춥니다.w\n",
      "프로세스 동작중\n",
      "s가 입력되면 멈춥니다.s\n"
     ]
    }
   ],
   "source": [
    "#컴퓨터도 while문으로 동작하고 있다\n",
    "i=input(\"s가 입력되면 멈춥니다.\")\n",
    "while i.upper()!='S':\n",
    "    print(\"프로세스 동작중\")\n",
    "    i=input(\"s가 입력되면 멈춥니다.\")"
   ]
  },
  {
   "cell_type": "markdown",
   "metadata": {},
   "source": [
    "###### 사용자로부터 숫자를 계속 입력받다가\n",
    "s or S 를 입력하면 합계출력\n"
   ]
  },
  {
   "cell_type": "code",
   "execution_count": 204,
   "metadata": {},
   "outputs": [
    {
     "name": "stdout",
     "output_type": "stream",
     "text": [
      "숫자를 입력하세요 20\n",
      "숫자를 입력하세요 20\n",
      "숫자를 입력하세요 60\n",
      "숫자를 입력하세요 s\n",
      "100\n"
     ]
    }
   ],
   "source": [
    "a=input(\"숫자를 입력하세요 \")\n",
    "result=0\n",
    "while not(a=='s' or a=='S'):\n",
    "    result+=int(a)\n",
    "    a=input(\"숫자를 입력하세요 \")\n",
    "print(result)"
   ]
  },
  {
   "cell_type": "code",
   "execution_count": 206,
   "metadata": {},
   "outputs": [
    {
     "name": "stdout",
     "output_type": "stream",
     "text": [
      "숫자입력 : 20\n",
      "숫자입력 : 30\n",
      "숫자입력 : s\n"
     ]
    },
    {
     "data": {
      "text/plain": [
       "50"
      ]
     },
     "execution_count": 206,
     "metadata": {},
     "output_type": "execute_result"
    }
   ],
   "source": [
    "#답\n",
    "num = input(\"숫자입력 : \")\n",
    "\n",
    "result=0\n",
    "while num.lower()!='s':\n",
    "    result+=int(num)\n",
    "    num=input(\"숫자입력 : \")\n",
    "result"
   ]
  },
  {
   "cell_type": "code",
   "execution_count": null,
   "metadata": {},
   "outputs": [],
   "source": []
  },
  {
   "cell_type": "markdown",
   "metadata": {},
   "source": [
    "###### 랜덤값 가져오기"
   ]
  },
  {
   "cell_type": "code",
   "execution_count": 238,
   "metadata": {},
   "outputs": [
    {
     "name": "stdout",
     "output_type": "stream",
     "text": [
      "가위(1), 바위(2), 보(3) 을 입력해주세요! :2\n",
      "유저 : 바위, 컴퓨터 : 바위\n",
      "가위(1), 바위(2), 보(3) 을 입력해주세요! :3\n",
      "유저 : 보, 컴퓨터 : 가위\n",
      "가위(1), 바위(2), 보(3) 을 입력해주세요! :1\n",
      "유저 : 가위, 컴퓨터 : 가위\n",
      "가위(1), 바위(2), 보(3) 을 입력해주세요! :4\n",
      "3 0 2\n"
     ]
    }
   ],
   "source": [
    "#가위(1), 바위(2), 보(3) 을 입력해주세요! : 3\n",
    "#유저 : 보, 컴퓨터 : 보\n",
    "\n",
    "import random\n",
    "total=0\n",
    "victory=0\n",
    "draw=0\n",
    "\n",
    "dictionary={\n",
    "    1:'가위',\n",
    "    2:'바위',\n",
    "    3:'보'\n",
    "}\n",
    "\n",
    "a=int(input(\"가위(1), 바위(2), 보(3) 을 입력해주세요! :\"))        \n",
    "while a<=3: \n",
    "    total=total+1\n",
    "    \n",
    "    b=random.randint(1,3)\n",
    "    \n",
    "    \n",
    "    print(\"유저 : {}, 컴퓨터 : {}\".format(dictionary[a], dictionary[b]))\n",
    "    \n",
    "    \n",
    "    \n",
    "    if (a==1 and b==3) or (a==2 and b==1) or (a==3 and b==2):\n",
    "        victory=victory+1\n",
    "    elif a==b:\n",
    "        draw=draw+1\n",
    "        \n",
    "    a=int(input(\"가위(1), 바위(2), 보(3) 을 입력해주세요! :\"))\n",
    "    \n",
    "        \n",
    "print(total, victory, draw)\n"
   ]
  },
  {
   "cell_type": "code",
   "execution_count": 237,
   "metadata": {},
   "outputs": [
    {
     "name": "stdout",
     "output_type": "stream",
     "text": [
      "가위(1), 바위(2), 보(3) 을 입력해주세요! :3\n",
      "유저 : 보, 컴퓨터 : 바위\n",
      "가위(1), 바위(2), 보(3) 을 입력해주세요! :3\n",
      "유저 : 보, 컴퓨터 : 가위\n",
      "가위(1), 바위(2), 보(3) 을 입력해주세요! :3\n",
      "유저 : 보, 컴퓨터 : 가위\n",
      "가위(1), 바위(2), 보(3) 을 입력해주세요! :4\n",
      "3 0 0\n"
     ]
    }
   ],
   "source": [
    "### 답\n",
    "import random\n",
    "\n",
    "user = int(input(\"가위(1), 바위(2), 보(3) 을 입력해주세요! :\"))\n",
    "com=random.randint(1,3)\n",
    "\n",
    "rsp_list=[None, \"가위\", \"바위\", \"보\"]\n",
    "\n",
    "total=0\n",
    "win=0\n",
    "draw=0\n",
    "\n",
    "while user in [1,2,3]:\n",
    "    user = int(user)\n",
    "    print(\"유저 : {}, 컴퓨터 : {}\".format(rsp_list[user], rsp_list[com]))\n",
    "    \n",
    "    #비긴경우\n",
    "    if user==com:\n",
    "        draw+=1\n",
    "        pass\n",
    "    \n",
    "    #이긴경우\n",
    "    elif (a==1 and b==3) or (a==2 and b==1) or (a==3 and b==2):\n",
    "        win+=1\n",
    "        pass\n",
    "    \n",
    "    #진 경우= 전체-(승리+비김)\n",
    "    \n",
    "    total+=1\n",
    "    \n",
    "    user = int(input(\"가위(1), 바위(2), 보(3) 을 입력해주세요! :\"))\n",
    "    com=random.randint(1,3)\n",
    "    \n",
    "print(total, win, draw)"
   ]
  },
  {
   "cell_type": "code",
   "execution_count": null,
   "metadata": {},
   "outputs": [],
   "source": []
  },
  {
   "cell_type": "code",
   "execution_count": null,
   "metadata": {},
   "outputs": [],
   "source": []
  },
  {
   "cell_type": "markdown",
   "metadata": {},
   "source": [
    "# break, Continue"
   ]
  },
  {
   "cell_type": "code",
   "execution_count": 242,
   "metadata": {},
   "outputs": [
    {
     "name": "stdout",
     "output_type": "stream",
     "text": [
      "0\n",
      "1\n",
      "2\n"
     ]
    }
   ],
   "source": [
    "for i in range(5):\n",
    "    if i==3:\n",
    "        break;\n",
    "    print(i)"
   ]
  },
  {
   "cell_type": "code",
   "execution_count": 243,
   "metadata": {},
   "outputs": [
    {
     "name": "stdout",
     "output_type": "stream",
     "text": [
      "0\n",
      "1\n",
      "2\n",
      "3\n",
      "4\n",
      "5\n",
      "9\n"
     ]
    }
   ],
   "source": [
    "for i in range(10):\n",
    "    if 5<i<=8:\n",
    "        continue\n",
    "    print(i)"
   ]
  },
  {
   "cell_type": "code",
   "execution_count": 244,
   "metadata": {},
   "outputs": [
    {
     "name": "stdout",
     "output_type": "stream",
     "text": [
      "hello\n",
      "s입력 시 멈춥니다.2\n",
      "hello\n",
      "s입력 시 멈춥니다.1\n",
      "hello\n",
      "s입력 시 멈춥니다.2\n",
      "hello\n",
      "s입력 시 멈춥니다.s\n"
     ]
    }
   ],
   "source": [
    "while True:\n",
    "    print(\"hello\")\n",
    "    num=input('s입력 시 멈춥니다.')\n",
    "    if num.lower()=='s':\n",
    "        break;"
   ]
  },
  {
   "cell_type": "markdown",
   "metadata": {},
   "source": [
    "#### (1) while 문과 break 문을 사용하여 사용자가 입력한 숫자만큼 반복하여 ‘hi’ 출력하기\n",
    "\n",
    "#### (2) for 문과 continue 문을 사용하여 사용자가 입력한 숫자까지의 짝수를 출력하기\n"
   ]
  },
  {
   "cell_type": "code",
   "execution_count": 254,
   "metadata": {},
   "outputs": [
    {
     "name": "stdout",
     "output_type": "stream",
     "text": [
      "숫자입력:s\n"
     ]
    }
   ],
   "source": [
    "while True:\n",
    "    a=input(\"숫자입력:\")\n",
    "    \n",
    "    if a.lower() =='s':\n",
    "        break;\n",
    "        \n",
    "    for i in range(int(a)):\n",
    "        print(\"hi\")\n",
    "    "
   ]
  },
  {
   "cell_type": "code",
   "execution_count": 257,
   "metadata": {},
   "outputs": [
    {
     "ename": "KeyboardInterrupt",
     "evalue": "Interrupted by user",
     "output_type": "error",
     "traceback": [
      "\u001b[1;31m---------------------------------------------------------------------------\u001b[0m",
      "\u001b[1;31mKeyboardInterrupt\u001b[0m                         Traceback (most recent call last)",
      "\u001b[1;32m<ipython-input-257-8a1a731b4baa>\u001b[0m in \u001b[0;36m<module>\u001b[1;34m\u001b[0m\n\u001b[0;32m      1\u001b[0m \u001b[1;32mwhile\u001b[0m \u001b[1;32mTrue\u001b[0m\u001b[1;33m:\u001b[0m\u001b[1;33m\u001b[0m\u001b[1;33m\u001b[0m\u001b[0m\n\u001b[1;32m----> 2\u001b[1;33m     \u001b[0ma\u001b[0m\u001b[1;33m=\u001b[0m\u001b[0minput\u001b[0m\u001b[1;33m(\u001b[0m\u001b[1;34m\"숫자입력 :\"\u001b[0m\u001b[1;33m)\u001b[0m\u001b[1;33m\u001b[0m\u001b[1;33m\u001b[0m\u001b[0m\n\u001b[0m\u001b[0;32m      3\u001b[0m \u001b[1;33m\u001b[0m\u001b[0m\n\u001b[0;32m      4\u001b[0m     \u001b[1;32mif\u001b[0m \u001b[0ma\u001b[0m\u001b[1;33m.\u001b[0m\u001b[0mlower\u001b[0m\u001b[1;33m(\u001b[0m\u001b[1;33m)\u001b[0m\u001b[1;33m==\u001b[0m\u001b[1;34m's'\u001b[0m\u001b[1;33m:\u001b[0m\u001b[1;33m\u001b[0m\u001b[1;33m\u001b[0m\u001b[0m\n\u001b[0;32m      5\u001b[0m         \u001b[1;32mbreak\u001b[0m\u001b[1;33m;\u001b[0m\u001b[1;33m\u001b[0m\u001b[1;33m\u001b[0m\u001b[0m\n",
      "\u001b[1;32m~\\.conda\\envs\\study1\\lib\\site-packages\\ipykernel\\kernelbase.py\u001b[0m in \u001b[0;36mraw_input\u001b[1;34m(self, prompt)\u001b[0m\n\u001b[0;32m    858\u001b[0m                 \u001b[1;34m\"raw_input was called, but this frontend does not support input requests.\"\u001b[0m\u001b[1;33m\u001b[0m\u001b[1;33m\u001b[0m\u001b[0m\n\u001b[0;32m    859\u001b[0m             )\n\u001b[1;32m--> 860\u001b[1;33m         return self._input_request(str(prompt),\n\u001b[0m\u001b[0;32m    861\u001b[0m             \u001b[0mself\u001b[0m\u001b[1;33m.\u001b[0m\u001b[0m_parent_ident\u001b[0m\u001b[1;33m,\u001b[0m\u001b[1;33m\u001b[0m\u001b[1;33m\u001b[0m\u001b[0m\n\u001b[0;32m    862\u001b[0m             \u001b[0mself\u001b[0m\u001b[1;33m.\u001b[0m\u001b[0m_parent_header\u001b[0m\u001b[1;33m,\u001b[0m\u001b[1;33m\u001b[0m\u001b[1;33m\u001b[0m\u001b[0m\n",
      "\u001b[1;32m~\\.conda\\envs\\study1\\lib\\site-packages\\ipykernel\\kernelbase.py\u001b[0m in \u001b[0;36m_input_request\u001b[1;34m(self, prompt, ident, parent, password)\u001b[0m\n\u001b[0;32m    902\u001b[0m             \u001b[1;32mexcept\u001b[0m \u001b[0mKeyboardInterrupt\u001b[0m\u001b[1;33m:\u001b[0m\u001b[1;33m\u001b[0m\u001b[1;33m\u001b[0m\u001b[0m\n\u001b[0;32m    903\u001b[0m                 \u001b[1;31m# re-raise KeyboardInterrupt, to truncate traceback\u001b[0m\u001b[1;33m\u001b[0m\u001b[1;33m\u001b[0m\u001b[1;33m\u001b[0m\u001b[0m\n\u001b[1;32m--> 904\u001b[1;33m                 \u001b[1;32mraise\u001b[0m \u001b[0mKeyboardInterrupt\u001b[0m\u001b[1;33m(\u001b[0m\u001b[1;34m\"Interrupted by user\"\u001b[0m\u001b[1;33m)\u001b[0m \u001b[1;32mfrom\u001b[0m \u001b[1;32mNone\u001b[0m\u001b[1;33m\u001b[0m\u001b[1;33m\u001b[0m\u001b[0m\n\u001b[0m\u001b[0;32m    905\u001b[0m             \u001b[1;32mexcept\u001b[0m \u001b[0mException\u001b[0m \u001b[1;32mas\u001b[0m \u001b[0me\u001b[0m\u001b[1;33m:\u001b[0m\u001b[1;33m\u001b[0m\u001b[1;33m\u001b[0m\u001b[0m\n\u001b[0;32m    906\u001b[0m                 \u001b[0mself\u001b[0m\u001b[1;33m.\u001b[0m\u001b[0mlog\u001b[0m\u001b[1;33m.\u001b[0m\u001b[0mwarning\u001b[0m\u001b[1;33m(\u001b[0m\u001b[1;34m\"Invalid Message:\"\u001b[0m\u001b[1;33m,\u001b[0m \u001b[0mexc_info\u001b[0m\u001b[1;33m=\u001b[0m\u001b[1;32mTrue\u001b[0m\u001b[1;33m)\u001b[0m\u001b[1;33m\u001b[0m\u001b[1;33m\u001b[0m\u001b[0m\n",
      "\u001b[1;31mKeyboardInterrupt\u001b[0m: Interrupted by user"
     ]
    }
   ],
   "source": [
    "while True:\n",
    "    a=input(\"숫자입력 :\")\n",
    "    \n",
    "    if a.lower()=='s':\n",
    "        break;\n",
    "    \n",
    "    for i in range(int(a)):\n",
    "        if i%2==1:\n",
    "            continue\n",
    "        print(i)\n",
    "    \n",
    "    #홀수면 while로??????????????????????????????????????????"
   ]
  },
  {
   "cell_type": "code",
   "execution_count": 258,
   "metadata": {},
   "outputs": [
    {
     "name": "stdout",
     "output_type": "stream",
     "text": [
      "입력5\n",
      "hi\n",
      "hi\n",
      "hi\n",
      "hi\n",
      "hi\n"
     ]
    }
   ],
   "source": [
    "#답\n",
    "num=int(input(\"입력\"))\n",
    "count=0\n",
    "while True:\n",
    "    if count<num:\n",
    "        print(\"hi\")\n",
    "    else:\n",
    "        break\n",
    "    count+=1"
   ]
  },
  {
   "cell_type": "code",
   "execution_count": 260,
   "metadata": {},
   "outputs": [
    {
     "name": "stdout",
     "output_type": "stream",
     "text": [
      "숫자 입력 : 8\n",
      "0\n",
      "2\n",
      "4\n",
      "6\n"
     ]
    }
   ],
   "source": [
    "#답\n",
    "num=int(input(\"숫자 입력 : \"))\n",
    "\n",
    "for i in range(num):\n",
    "    if not (i%2==0):\n",
    "        continue\n",
    "    print(i)"
   ]
  },
  {
   "cell_type": "markdown",
   "metadata": {},
   "source": [
    "#### randint함수를 사용하여 정수(1~1000)로 이루어진 길이가 100개인 리스트 a를 만들고 \n",
    "가장 큰 수를 구하는 코드를 작성하시오.\n",
    "\n",
    "예) a=[32, 45, 2, 5, 76] 일때, 출력결과는 76이 나와야 함.\n"
   ]
  },
  {
   "cell_type": "code",
   "execution_count": 271,
   "metadata": {},
   "outputs": [
    {
     "name": "stdout",
     "output_type": "stream",
     "text": [
      "998\n"
     ]
    }
   ],
   "source": [
    "import random\n",
    "\n",
    "max=0\n",
    "\n",
    "new_list=[]\n",
    "\n",
    "for i in range(100):\n",
    "    a=random.randint(1,1000)\n",
    "    new_list.append(a)\n",
    "\n",
    "for i in new_list:\n",
    "    if i>max:\n",
    "        max=i\n",
    "print(max)"
   ]
  },
  {
   "cell_type": "code",
   "execution_count": 275,
   "metadata": {},
   "outputs": [
    {
     "name": "stdout",
     "output_type": "stream",
     "text": [
      "990\n"
     ]
    }
   ],
   "source": [
    "#답\n",
    "new_list=[]\n",
    "max_num=0\n",
    "\n",
    "for i in range(100):\n",
    "    rand_num=random.randint(1,1000)\n",
    "    new_list.append(rand_num)\n",
    "    \n",
    "    if max_num < rand_num:\n",
    "        max_num = rand_num\n",
    "        \n",
    "print(max_num)"
   ]
  },
  {
   "cell_type": "markdown",
   "metadata": {},
   "source": [
    "#### 연습문제 8\n",
    "randint함수를 사용하여 정수(1~1000)로 이루어진 길이가 100개인 리스트 a를 만들고 \n",
    "리스트의 모든 요소의 합계를 구하는 코드를 작성하시오.\n",
    "\n",
    "예) a=[32, 45, 2, 5, 76] 일때, 출력결과는 160이 나와야 함.\n"
   ]
  },
  {
   "cell_type": "code",
   "execution_count": 273,
   "metadata": {},
   "outputs": [
    {
     "name": "stdout",
     "output_type": "stream",
     "text": [
      "50610\n"
     ]
    }
   ],
   "source": [
    "import random\n",
    "\n",
    "result=0\n",
    "\n",
    "new_list=[]\n",
    "\n",
    "for i in range(100):\n",
    "    a=random.randint(1,1000)\n",
    "    new_list.append(a)\n",
    "    \n",
    "for i in new_list:\n",
    "    result +=i\n",
    "print(result)"
   ]
  },
  {
   "cell_type": "code",
   "execution_count": null,
   "metadata": {},
   "outputs": [],
   "source": []
  },
  {
   "cell_type": "code",
   "execution_count": null,
   "metadata": {},
   "outputs": [],
   "source": []
  },
  {
   "cell_type": "markdown",
   "metadata": {},
   "source": [
    "# 리스트 컴프리핸션"
   ]
  },
  {
   "cell_type": "code",
   "execution_count": 276,
   "metadata": {},
   "outputs": [
    {
     "data": {
      "text/plain": [
       "[1, 2, 3, 4]"
      ]
     },
     "execution_count": 276,
     "metadata": {},
     "output_type": "execute_result"
    }
   ],
   "source": [
    "list(range(1,5))"
   ]
  },
  {
   "cell_type": "code",
   "execution_count": 277,
   "metadata": {},
   "outputs": [
    {
     "data": {
      "text/plain": [
       "[10, 20, 30, 40]"
      ]
     },
     "execution_count": 277,
     "metadata": {},
     "output_type": "execute_result"
    }
   ],
   "source": [
    "#1. range\n",
    "list(range(10,50,10))"
   ]
  },
  {
   "cell_type": "code",
   "execution_count": 278,
   "metadata": {},
   "outputs": [
    {
     "data": {
      "text/plain": [
       "[10, 20, 30, 40]"
      ]
     },
     "execution_count": 278,
     "metadata": {},
     "output_type": "execute_result"
    }
   ],
   "source": [
    "#2. new_list\n",
    "new_list=[]\n",
    "for i in range(1,5):\n",
    "    new_list.append(i*10)\n",
    "new_list"
   ]
  },
  {
   "cell_type": "code",
   "execution_count": 279,
   "metadata": {},
   "outputs": [
    {
     "data": {
      "text/plain": [
       "[1, 2, 3, 4]"
      ]
     },
     "execution_count": 279,
     "metadata": {},
     "output_type": "execute_result"
    }
   ],
   "source": [
    "#syntax\n",
    "new_list=[i for i in range(1,5)]\n",
    "new_list"
   ]
  },
  {
   "cell_type": "code",
   "execution_count": 280,
   "metadata": {},
   "outputs": [
    {
     "data": {
      "text/plain": [
       "[17.5, 27.5, 37.5, 47.5]"
      ]
     },
     "execution_count": 280,
     "metadata": {},
     "output_type": "execute_result"
    }
   ],
   "source": [
    "#syntax\n",
    "new_list=[i*10+7.5 for i in range(1,5)]\n",
    "new_list"
   ]
  },
  {
   "cell_type": "code",
   "execution_count": 287,
   "metadata": {},
   "outputs": [
    {
     "data": {
      "text/plain": [
       "[3, 6, 9, 12, 15, 18, 21, 24, 27, 30, 33, 36, 39, 42, 45, 48]"
      ]
     },
     "execution_count": 287,
     "metadata": {},
     "output_type": "execute_result"
    }
   ],
   "source": [
    "# 1부터 100까지의 숫자 중에서 3의 배수만 모아서 새로운 리스트를 만드시오.\n",
    "new_list=[i for i in range(1,51) if i%3==0]\n",
    "new_list"
   ]
  },
  {
   "cell_type": "code",
   "execution_count": 289,
   "metadata": {},
   "outputs": [
    {
     "name": "stdout",
     "output_type": "stream",
     "text": [
      "[1, 2, 3, 4, 5, 6, 7, 8, 9, 10, 2, 4, 6, 8, 10, 12, 14, 16, 18, 20, 3, 6, 9, 12, 15, 18, 21, 24, 27, 30, 4, 8, 12, 16, 20, 24, 28, 32, 36, 40, 5, 10, 15, 20, 25, 30, 35, 40, 45, 50, 6, 12, 18, 24, 30, 36, 42, 48, 54, 60, 7, 14, 21, 28, 35, 42, 49, 56, 63, 70, 8, 16, 24, 32, 40, 48, 56, 64, 72, 80, 9, 18, 27, 36, 45, 54, 63, 72, 81, 90, 10, 20, 30, 40, 50, 60, 70, 80, 90, 100]\n"
     ]
    }
   ],
   "source": [
    "new_list = [i*j for i in range(1,11) for j in range(1,11)]\n",
    "print(new_list)"
   ]
  },
  {
   "cell_type": "code",
   "execution_count": 290,
   "metadata": {},
   "outputs": [
    {
     "data": {
      "text/plain": [
       "{'city': 'Seoul', 'name': 'ㅇㅎㅇ', 'height': 180}"
      ]
     },
     "execution_count": 290,
     "metadata": {},
     "output_type": "execute_result"
    }
   ],
   "source": [
    "keys=['city', 'name', 'height']\n",
    "value=['Seoul', 'ㅇㅎㅇ', 180]\n",
    "\n",
    "new_dict={keys[i]:value[i] for i in range(len(keys))}\n",
    "new_dict"
   ]
  },
  {
   "cell_type": "markdown",
   "metadata": {},
   "source": [
    "# zip 함수"
   ]
  },
  {
   "cell_type": "code",
   "execution_count": 291,
   "metadata": {},
   "outputs": [
    {
     "name": "stdout",
     "output_type": "stream",
     "text": [
      "city Seoul\n",
      "name ㅇㅎㅇ\n",
      "height 180\n"
     ]
    }
   ],
   "source": [
    "for i in range(len(keys)):\n",
    "    k=keys[i]\n",
    "    v=value[i]\n",
    "    print(k,v)"
   ]
  },
  {
   "cell_type": "code",
   "execution_count": 294,
   "metadata": {},
   "outputs": [
    {
     "data": {
      "text/plain": [
       "[('city', 'Seoul'), ('name', 'ㅇㅎㅇ'), ('height', 180)]"
      ]
     },
     "execution_count": 294,
     "metadata": {},
     "output_type": "execute_result"
    }
   ],
   "source": [
    "keys=['city', 'name', 'height']\n",
    "value=['Seoul', 'ㅇㅎㅇ', 180]\n",
    "\n",
    "list(zip(keys, value))"
   ]
  },
  {
   "cell_type": "code",
   "execution_count": 295,
   "metadata": {},
   "outputs": [
    {
     "name": "stdout",
     "output_type": "stream",
     "text": [
      "city Seoul\n",
      "name ㅇㅎㅇ\n",
      "height 180\n"
     ]
    }
   ],
   "source": [
    "for k, v in zip(keys, value):\n",
    "    print(k,v)"
   ]
  },
  {
   "cell_type": "code",
   "execution_count": 296,
   "metadata": {},
   "outputs": [
    {
     "data": {
      "text/plain": [
       "{'city': 'Seoul', 'name': 'ㅇㅎㅇ', 'height': 180}"
      ]
     },
     "execution_count": 296,
     "metadata": {},
     "output_type": "execute_result"
    }
   ],
   "source": [
    "dict(zip(keys, value))"
   ]
  },
  {
   "cell_type": "code",
   "execution_count": null,
   "metadata": {},
   "outputs": [],
   "source": []
  },
  {
   "cell_type": "markdown",
   "metadata": {},
   "source": [
    "####  word = [“school”, “game”, “piano”, “science”, “hotel”, “mountain”] 중 글자수가 6글자 이상인 문자를 모아 새로운 리스트를 생성하세요|\n",
    "(리스트 컴프리핸션을 사용해주세요)"
   ]
  },
  {
   "cell_type": "code",
   "execution_count": 302,
   "metadata": {},
   "outputs": [
    {
     "data": {
      "text/plain": [
       "['school', 'science', 'mountain']"
      ]
     },
     "execution_count": 302,
     "metadata": {},
     "output_type": "execute_result"
    }
   ],
   "source": [
    "word=[\"school\", \"game\", \"piano\", \"science\", \"hotel\", \"mountain\"]\n",
    "\n",
    "new_list=[i for i in word if len(i)>=6]\n",
    "new_list"
   ]
  },
  {
   "cell_type": "markdown",
   "metadata": {},
   "source": [
    "#### (2) word = [“school”, “game”, “piano”, “science”, “hotel”, “mountian”] 리스트의 글자수가 들어가있는 새로운 리스트를 생성하세요\n",
    "(리스트 컴프리핸션을 사용해주세요)\n"
   ]
  },
  {
   "cell_type": "code",
   "execution_count": 328,
   "metadata": {},
   "outputs": [
    {
     "data": {
      "text/plain": [
       "[6, 4, 5, 7, 5, 8]"
      ]
     },
     "execution_count": 328,
     "metadata": {},
     "output_type": "execute_result"
    }
   ],
   "source": [
    "word=[\"school\", \"game\", \"piano\", \"science\", \"hotel\", \"mountain\"]\n",
    "\n",
    "new_list=[len(i) for i in word]\n",
    "new_list"
   ]
  },
  {
   "cell_type": "markdown",
   "metadata": {},
   "source": [
    "#### (1) 아래 두 리스트를 각 요소들을 곱해 새로운 리스트 C 를 만드세요\n",
    "a = [[10, 20], [30, 40], [50, 60]]\n",
    "b = [[2, 3], [4, 5], [6, 7]]\n",
    "\n",
    "##### 심화 2X3 리스트 a, b를 사용자로부터 입력받아 두 값을 곱해 새로운 리스트 C 를 만드세요"
   ]
  },
  {
   "cell_type": "code",
   "execution_count": 342,
   "metadata": {},
   "outputs": [
    {
     "data": {
      "text/plain": [
       "[20, 60, 120, 200, 300, 420]"
      ]
     },
     "execution_count": 342,
     "metadata": {},
     "output_type": "execute_result"
    }
   ],
   "source": [
    "a = [[10, 20], [30, 40], [50, 60]]\n",
    "b = [[2, 3], [4, 5], [6, 7]]\n",
    "\n",
    "#matrix=[[ 0 for x in range(w)] for y in range(h)]\n",
    "\n",
    "#new_list3=[[0 for i in range(len(a))] for j in range(len(b))]\n",
    "\n",
    "for i in range(len(a)):\n",
    "    for j in range(len(a[0])):\n",
    "        result=a[i][j]*b[i][j]\n",
    "        new_list.append(result)\n",
    "        \n",
    "new_list"
   ]
  },
  {
   "cell_type": "code",
   "execution_count": 346,
   "metadata": {},
   "outputs": [
    {
     "data": {
      "text/plain": [
       "[[20, 60], [120, 200], [300, 420]]"
      ]
     },
     "execution_count": 346,
     "metadata": {},
     "output_type": "execute_result"
    }
   ],
   "source": [
    "#답\n",
    "a = [[10, 20], [30, 40], [50, 60]]\n",
    "b = [[2, 3], [4, 5], [6, 7]]\n",
    "\n",
    "new_list=[]\n",
    "\n",
    "for i in range(len(a)):\n",
    "    in_list=[]\n",
    "    for j in range(len(a[i])):\n",
    "        in_list.append(a[i][j] * b[i][j])\n",
    "    new_list.append(in_list)\n",
    "new_list"
   ]
  },
  {
   "cell_type": "code",
   "execution_count": 347,
   "metadata": {},
   "outputs": [
    {
     "data": {
      "text/plain": [
       "[([10, 20], [2, 3]), ([30, 40], [4, 5]), ([50, 60], [6, 7])]"
      ]
     },
     "execution_count": 347,
     "metadata": {},
     "output_type": "execute_result"
    }
   ],
   "source": [
    "#답2\n",
    "a = [[10, 20], [30, 40], [50, 60]]\n",
    "b = [[2, 3], [4, 5], [6, 7]]\n",
    "\n",
    "list(zip(a,b))"
   ]
  },
  {
   "cell_type": "code",
   "execution_count": 349,
   "metadata": {},
   "outputs": [
    {
     "name": "stdout",
     "output_type": "stream",
     "text": [
      "([10, 20], [2, 3])\n"
     ]
    }
   ],
   "source": [
    "for i in zip(a,b):\n",
    "    print(i)\n",
    "    break"
   ]
  },
  {
   "cell_type": "code",
   "execution_count": 350,
   "metadata": {},
   "outputs": [
    {
     "name": "stdout",
     "output_type": "stream",
     "text": [
      "[10, 20] [2, 3]\n"
     ]
    }
   ],
   "source": [
    "for l1, l2 in zip(a,b):\n",
    "    print(l1, l2)\n",
    "    break"
   ]
  },
  {
   "cell_type": "code",
   "execution_count": 351,
   "metadata": {},
   "outputs": [
    {
     "name": "stdout",
     "output_type": "stream",
     "text": [
      "10 20\n",
      "2 3\n"
     ]
    }
   ],
   "source": [
    "for [a1,a2], [b1,b2] in zip(a,b):\n",
    "    print(a1,a2)\n",
    "    print(b1,b2)\n",
    "    break"
   ]
  },
  {
   "cell_type": "code",
   "execution_count": 352,
   "metadata": {},
   "outputs": [
    {
     "data": {
      "text/plain": [
       "[[20, 60], [120, 200], [300, 420]]"
      ]
     },
     "execution_count": 352,
     "metadata": {},
     "output_type": "execute_result"
    }
   ],
   "source": [
    "new_list=[]\n",
    "for [a1,a2], [b1,b2] in zip(a,b):\n",
    "    new_list.append([a1*b1, a2*b2])\n",
    "new_list"
   ]
  },
  {
   "cell_type": "markdown",
   "metadata": {},
   "source": [
    "#### (1) 아래의 학습코드를 가지고 a 리스트가 [[1,2],[3,4],[5,6]] 와 같이 만들어지도록 수정하세요\n",
    " a = []\n",
    " for i in range(3):\n",
    "     line = []\n",
    "     for j in range(2):\n",
    "        line.append(0)\n",
    "     a.append(line)\n",
    " print(a)\n"
   ]
  },
  {
   "cell_type": "code",
   "execution_count": 5,
   "metadata": {},
   "outputs": [
    {
     "name": "stdout",
     "output_type": "stream",
     "text": [
      "[[1, 2], [3, 4], [5, 6]]\n"
     ]
    }
   ],
   "source": [
    "a=[]\n",
    "for i in range(3):\n",
    "    line=[]\n",
    "    for j in range(2):\n",
    "        line.append(i*2+j+1)\n",
    "    a.append(line)\n",
    "print(a)"
   ]
  },
  {
   "cell_type": "code",
   "execution_count": null,
   "metadata": {},
   "outputs": [],
   "source": []
  }
 ],
 "metadata": {
  "kernelspec": {
   "display_name": "Python 3",
   "language": "python",
   "name": "python3"
  },
  "language_info": {
   "codemirror_mode": {
    "name": "ipython",
    "version": 3
   },
   "file_extension": ".py",
   "mimetype": "text/x-python",
   "name": "python",
   "nbconvert_exporter": "python",
   "pygments_lexer": "ipython3",
   "version": "3.8.3"
  }
 },
 "nbformat": 4,
 "nbformat_minor": 4
}
