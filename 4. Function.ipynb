{
 "cells": [
  {
   "cell_type": "code",
   "execution_count": 1,
   "metadata": {},
   "outputs": [],
   "source": [
    "def add_num(num1, num2):\n",
    "    print(\"add_num 함수 실행\")\n",
    "    return num1 + num2"
   ]
  },
  {
   "cell_type": "code",
   "execution_count": 2,
   "metadata": {},
   "outputs": [
    {
     "name": "stdout",
     "output_type": "stream",
     "text": [
      "add_num 함수 실행\n"
     ]
    },
    {
     "data": {
      "text/plain": [
       "8"
      ]
     },
     "execution_count": 2,
     "metadata": {},
     "output_type": "execute_result"
    }
   ],
   "source": [
    "add_num(3,5)"
   ]
  },
  {
   "cell_type": "code",
   "execution_count": 3,
   "metadata": {},
   "outputs": [
    {
     "name": "stdout",
     "output_type": "stream",
     "text": [
      "add_num 함수 실행\n"
     ]
    }
   ],
   "source": [
    "output=add_num(3,5)"
   ]
  },
  {
   "cell_type": "code",
   "execution_count": 4,
   "metadata": {},
   "outputs": [
    {
     "data": {
      "text/plain": [
       "8"
      ]
     },
     "execution_count": 4,
     "metadata": {},
     "output_type": "execute_result"
    }
   ],
   "source": [
    "output"
   ]
  },
  {
   "cell_type": "code",
   "execution_count": 16,
   "metadata": {},
   "outputs": [
    {
     "name": "stdout",
     "output_type": "stream",
     "text": [
      "Hello World\n"
     ]
    }
   ],
   "source": [
    "def func1():\n",
    "    print(\"Hello World\")\n",
    "func1()"
   ]
  },
  {
   "cell_type": "code",
   "execution_count": 15,
   "metadata": {},
   "outputs": [
    {
     "data": {
      "text/plain": [
       "'Hello World'"
      ]
     },
     "execution_count": 15,
     "metadata": {},
     "output_type": "execute_result"
    }
   ],
   "source": [
    "def func2():\n",
    "    return (\"Hello World\")\n",
    "a=func2()\n",
    "a"
   ]
  },
  {
   "cell_type": "code",
   "execution_count": 10,
   "metadata": {},
   "outputs": [
    {
     "data": {
      "text/plain": [
       "'Hello 하이'"
      ]
     },
     "execution_count": 10,
     "metadata": {},
     "output_type": "execute_result"
    }
   ],
   "source": [
    "def func3(name):\n",
    "    return \"Hello %s\" % name\n",
    "\n",
    "func3(\"하이\")"
   ]
  },
  {
   "cell_type": "code",
   "execution_count": 17,
   "metadata": {},
   "outputs": [
    {
     "data": {
      "text/plain": [
       "'Hello 하이'"
      ]
     },
     "execution_count": 17,
     "metadata": {},
     "output_type": "execute_result"
    }
   ],
   "source": [
    "def func3_1(name):\n",
    "    return (\"Hello %s\") % name\n",
    "\n",
    "func3_1(\"하이\")"
   ]
  },
  {
   "cell_type": "code",
   "execution_count": 27,
   "metadata": {},
   "outputs": [
    {
     "name": "stdout",
     "output_type": "stream",
     "text": [
      "나는 진행되고 있어요 함수가 실행되면 이걸 프린트해줘요 꼮꼮꼮꼮\n",
      "None\n"
     ]
    }
   ],
   "source": [
    "def func4(name):\n",
    "    print(\"나는 진행되고 있어요 함수가 실행되면 이걸 프린트해줘요 %s\" % name)\n",
    "    \n",
    "a=func4(\"꼮꼮꼮꼮\")\n",
    "print(a)"
   ]
  },
  {
   "cell_type": "code",
   "execution_count": null,
   "metadata": {},
   "outputs": [],
   "source": []
  },
  {
   "cell_type": "markdown",
   "metadata": {},
   "source": [
    "# 변수의 scope"
   ]
  },
  {
   "cell_type": "code",
   "execution_count": 28,
   "metadata": {},
   "outputs": [],
   "source": [
    "a,b,c=1,2,5"
   ]
  },
  {
   "cell_type": "code",
   "execution_count": 37,
   "metadata": {},
   "outputs": [
    {
     "name": "stdout",
     "output_type": "stream",
     "text": [
      "3 4 5\n",
      "None\n"
     ]
    }
   ],
   "source": [
    "def func1():\n",
    "    a=3\n",
    "    b=4\n",
    "    print(a,b,c)\n",
    "    return\n",
    "\n",
    "print(func1())"
   ]
  },
  {
   "cell_type": "code",
   "execution_count": 31,
   "metadata": {},
   "outputs": [
    {
     "name": "stdout",
     "output_type": "stream",
     "text": [
      "3 4 5\n"
     ]
    }
   ],
   "source": [
    "func1()"
   ]
  },
  {
   "cell_type": "code",
   "execution_count": 32,
   "metadata": {},
   "outputs": [
    {
     "data": {
      "text/plain": [
       "(1, 2, 5)"
      ]
     },
     "execution_count": 32,
     "metadata": {},
     "output_type": "execute_result"
    }
   ],
   "source": [
    "a,b,c"
   ]
  },
  {
   "cell_type": "code",
   "execution_count": 33,
   "metadata": {},
   "outputs": [],
   "source": [
    "def func2():\n",
    "    a=5\n",
    "    b=6\n",
    "    func1()\n",
    "    print(a,b)"
   ]
  },
  {
   "cell_type": "code",
   "execution_count": 34,
   "metadata": {},
   "outputs": [
    {
     "name": "stdout",
     "output_type": "stream",
     "text": [
      "3 4 5\n",
      "5 6\n"
     ]
    }
   ],
   "source": [
    "func2()"
   ]
  },
  {
   "cell_type": "code",
   "execution_count": 42,
   "metadata": {},
   "outputs": [],
   "source": [
    "a=5\n",
    "def func3():\n",
    "    global a #'global은 전역변수를 사용하겠다' 라는 의미\n",
    "    a=1\n",
    "    print(a)"
   ]
  },
  {
   "cell_type": "code",
   "execution_count": 39,
   "metadata": {},
   "outputs": [
    {
     "name": "stdout",
     "output_type": "stream",
     "text": [
      "1\n"
     ]
    }
   ],
   "source": [
    "func3()"
   ]
  },
  {
   "cell_type": "code",
   "execution_count": 40,
   "metadata": {},
   "outputs": [
    {
     "data": {
      "text/plain": [
       "1"
      ]
     },
     "execution_count": 40,
     "metadata": {},
     "output_type": "execute_result"
    }
   ],
   "source": [
    "a"
   ]
  },
  {
   "cell_type": "markdown",
   "metadata": {},
   "source": [
    "#### 사칙연산 함수만들기\n",
    "ex)\n",
    "calc(5, 6)\n",
    "덧셈: 11, 뺄셈: -1, 곱셈: 30, 나눗셈: 0.8333333333333334\n"
   ]
  },
  {
   "cell_type": "code",
   "execution_count": 52,
   "metadata": {},
   "outputs": [
    {
     "name": "stdout",
     "output_type": "stream",
     "text": [
      "덧셈: 11, 뺄셈: -1, 곱셈: 30, 나눗셈: 0.8333333333333334\n"
     ]
    },
    {
     "data": {
      "text/plain": [
       "(11, -1, 30, 0.8333333333333334)"
      ]
     },
     "execution_count": 52,
     "metadata": {},
     "output_type": "execute_result"
    }
   ],
   "source": [
    "def calc(num1, num2):\n",
    "    d=num1+num2\n",
    "    bb=num1-num2\n",
    "    gob=num1*num2\n",
    "    na=num1/num2\n",
    "    print(\"덧셈: {}, 뺄셈: {}, 곱셈: {}, 나눗셈: {}\".format(d, bb, gob, na))\n",
    "    return d, bb, gob, na\n",
    "    \n",
    "calc(5,6)"
   ]
  },
  {
   "cell_type": "code",
   "execution_count": 62,
   "metadata": {},
   "outputs": [
    {
     "name": "stdout",
     "output_type": "stream",
     "text": [
      "덧셈: 11, 뺄셈: -1, 곱셈: 30, 나눗셈: 0.8333333333333334\n"
     ]
    },
    {
     "data": {
      "text/plain": [
       "(11, -1, 30, 0.8333333333333334)"
      ]
     },
     "execution_count": 62,
     "metadata": {},
     "output_type": "execute_result"
    }
   ],
   "source": [
    "#답\n",
    "def calc(a,b):\n",
    "    result=(a+b, a-b, a*b, a/b)\n",
    "    #print(\"덧셈: {}, 뺄셈: {}, 곱셈: {}, 나눗셈: {}\".format(result[0],result[1],result[2],result[3]))\n",
    "    print(\"덧셈: {}, 뺄셈: {}, 곱셈: {}, 나눗셈: {}\".format(*result))\n",
    "    return result\n",
    "calc(5,6)"
   ]
  },
  {
   "cell_type": "markdown",
   "metadata": {},
   "source": [
    "#### 해당값을 모두 찾아 위치를 리턴해주는 함수만들기\n",
    "###### ex)\n",
    "###### >>> lis = [1, 2, 3, 1, 4, 2, 1]\n",
    "###### >>> allindex(lis, 1)\n",
    "###### [0, 3, 6]\n",
    "\n",
    "###### def allinedx(a, b):\n"
   ]
  },
  {
   "cell_type": "code",
   "execution_count": 63,
   "metadata": {},
   "outputs": [
    {
     "data": {
      "text/plain": [
       "[0, 3, 6, 12, 13, 14, 15, 16, 17]"
      ]
     },
     "execution_count": 63,
     "metadata": {},
     "output_type": "execute_result"
    }
   ],
   "source": [
    "lis=[1,2,3,1,4,2,1,2,2,2,2,2,1,1,1,1,1,1]\n",
    "\n",
    "def allinedx(list,num):\n",
    "\n",
    "#     result_list=[]\n",
    "#     for i in range(len(list)):\n",
    "#         if num==list[i]:\n",
    "#             result_list.append(i)\n",
    "#     return result_list\n",
    "\n",
    "    result_list=[i for i in range(len(list)) if num==list[i]]\n",
    "    return result_list\n",
    "    \n",
    "allinedx(lis, 1)"
   ]
  },
  {
   "cell_type": "code",
   "execution_count": 67,
   "metadata": {},
   "outputs": [
    {
     "data": {
      "text/plain": [
       "[0, 3, 6, 12, 13, 14, 15, 16, 17]"
      ]
     },
     "execution_count": 67,
     "metadata": {},
     "output_type": "execute_result"
    }
   ],
   "source": [
    "#답\n",
    "def allinedx(l, target):\n",
    "    result=[]\n",
    "    for idx, value in enumerate(l):\n",
    "        if value==target:\n",
    "            result.append(idx)\n",
    "    return result\n",
    "allinedx(lis, 1)"
   ]
  },
  {
   "cell_type": "code",
   "execution_count": null,
   "metadata": {},
   "outputs": [],
   "source": []
  },
  {
   "cell_type": "markdown",
   "metadata": {},
   "source": [
    "# lambda 함수"
   ]
  },
  {
   "cell_type": "code",
   "execution_count": 70,
   "metadata": {},
   "outputs": [
    {
     "data": {
      "text/plain": [
       "100"
      ]
     },
     "execution_count": 70,
     "metadata": {},
     "output_type": "execute_result"
    }
   ],
   "source": [
    "(lambda x:x**2)(10)"
   ]
  },
  {
   "cell_type": "code",
   "execution_count": 71,
   "metadata": {},
   "outputs": [
    {
     "data": {
      "text/plain": [
       "25"
      ]
     },
     "execution_count": 71,
     "metadata": {},
     "output_type": "execute_result"
    }
   ],
   "source": [
    "(lambda x:x**2)(5)"
   ]
  },
  {
   "cell_type": "code",
   "execution_count": 73,
   "metadata": {},
   "outputs": [
    {
     "data": {
      "text/plain": [
       "(7, -1)"
      ]
     },
     "execution_count": 73,
     "metadata": {},
     "output_type": "execute_result"
    }
   ],
   "source": [
    "(lambda x,y:(x+y, x-y))(3,4)"
   ]
  },
  {
   "cell_type": "code",
   "execution_count": 75,
   "metadata": {},
   "outputs": [
    {
     "data": {
      "text/plain": [
       "7"
      ]
     },
     "execution_count": 75,
     "metadata": {},
     "output_type": "execute_result"
    }
   ],
   "source": [
    "add=lambda x,y:x+y\n",
    "add(3,4)"
   ]
  },
  {
   "cell_type": "code",
   "execution_count": 80,
   "metadata": {},
   "outputs": [
    {
     "data": {
      "text/plain": [
       "['1', '2', '3', '1', '4', '2', '1', '2']"
      ]
     },
     "execution_count": 80,
     "metadata": {},
     "output_type": "execute_result"
    }
   ],
   "source": [
    "#map(함수, iterable한 인자)\n",
    "\n",
    "lis=[1,2,3,1,4,2,1,2]\n",
    "list(map(str, lis))"
   ]
  },
  {
   "cell_type": "code",
   "execution_count": 82,
   "metadata": {},
   "outputs": [
    {
     "data": {
      "text/plain": [
       "[1, 4, 9, 1, 16, 4, 1, 4]"
      ]
     },
     "execution_count": 82,
     "metadata": {},
     "output_type": "execute_result"
    }
   ],
   "source": [
    "#인자를 함수로 전달해줄 때\n",
    "list(map(lambda x:x**2, lis))"
   ]
  },
  {
   "cell_type": "markdown",
   "metadata": {},
   "source": [
    "# 인수(Arguments)"
   ]
  },
  {
   "cell_type": "code",
   "execution_count": 86,
   "metadata": {},
   "outputs": [],
   "source": [
    "def make_profile(name, email,height):\n",
    "    return{\n",
    "        'name':name,\n",
    "        'email':email,\n",
    "        'height':height\n",
    "    }"
   ]
  },
  {
   "cell_type": "code",
   "execution_count": 87,
   "metadata": {},
   "outputs": [
    {
     "data": {
      "text/plain": [
       "{'name': 'ㅇㅎㅇ', 'email': 'hi@naver.com', 'height': 180}"
      ]
     },
     "execution_count": 87,
     "metadata": {},
     "output_type": "execute_result"
    }
   ],
   "source": [
    "make_profile(\"ㅇㅎㅇ\", 'hi@naver.com', 180)"
   ]
  },
  {
   "cell_type": "code",
   "execution_count": 89,
   "metadata": {},
   "outputs": [
    {
     "data": {
      "text/plain": [
       "{'name': 'ㅇㅎㅇ', 'email': 'email@naver.com', 'height': 240}"
      ]
     },
     "execution_count": 89,
     "metadata": {},
     "output_type": "execute_result"
    }
   ],
   "source": [
    "make_profile(\"ㅇㅎㅇ\", height=240, email='email@naver.com')"
   ]
  },
  {
   "cell_type": "markdown",
   "metadata": {},
   "source": [
    "# 가변인수(*args)"
   ]
  },
  {
   "cell_type": "code",
   "execution_count": 92,
   "metadata": {},
   "outputs": [
    {
     "name": "stdout",
     "output_type": "stream",
     "text": [
      "(1, 2, 3, 4, 5)\n",
      "<class 'tuple'>\n"
     ]
    },
    {
     "data": {
      "text/plain": [
       "15"
      ]
     },
     "execution_count": 92,
     "metadata": {},
     "output_type": "execute_result"
    }
   ],
   "source": [
    "def add(*args):\n",
    "    print(args)\n",
    "    print(type(args))\n",
    "    return sum(args)\n",
    "add(1,2,3,4,5)"
   ]
  },
  {
   "cell_type": "markdown",
   "metadata": {},
   "source": [
    "# 가변키워드인수 (*kwargs)"
   ]
  },
  {
   "cell_type": "code",
   "execution_count": 94,
   "metadata": {},
   "outputs": [
    {
     "name": "stdout",
     "output_type": "stream",
     "text": [
      "{'name': 'ㅇㅎㅇ', 'city': 'seoul', 'email': 'hi@naver.com'}\n",
      "<class 'dict'>\n"
     ]
    },
    {
     "data": {
      "text/plain": [
       "{'name': 'ㅇㅎㅇ', 'city': 'seoul', 'email': 'hi@naver.com'}"
      ]
     },
     "execution_count": 94,
     "metadata": {},
     "output_type": "execute_result"
    }
   ],
   "source": [
    "def make_profile(**kwargs):\n",
    "    print(kwargs)\n",
    "    print(type(kwargs))\n",
    "    \n",
    "# 이런 식으로 사용됨\n",
    "#     if kwargs.get('email'):\n",
    "#         make_email(kwargs['email'])\n",
    "    \n",
    "#     if kwargs.get('password'):\n",
    "#         make_password(kwargs['password'])\n",
    "        \n",
    "    return kwargs\n",
    "\n",
    "make_profile(name=\"ㅇㅎㅇ\", city=\"seoul\", email=\"hi@naver.com\")"
   ]
  },
  {
   "cell_type": "code",
   "execution_count": 99,
   "metadata": {},
   "outputs": [
    {
     "data": {
      "text/plain": [
       "{'name': 'ㅇㅎㅇ', 'email': 'aa#naver.com', 'city': 'seoul', 'friends': ()}"
      ]
     },
     "execution_count": 99,
     "metadata": {},
     "output_type": "execute_result"
    }
   ],
   "source": [
    "def make_profile(name, email, city='seoul', *friends, **kwargs):\n",
    "    result={\n",
    "        'name':name,\n",
    "        'email':email,\n",
    "        'city':city,\n",
    "        'friends':friends\n",
    "    }\n",
    "    result.update(kwargs)\n",
    "    return result\n",
    "\n",
    "make_profile(\"ㅇㅎㅇ\", \"aa#naver.com\")"
   ]
  },
  {
   "cell_type": "code",
   "execution_count": 100,
   "metadata": {},
   "outputs": [
    {
     "data": {
      "text/plain": [
       "{'name': '하이요',\n",
       " 'email': 'bbbb@naver.com',\n",
       " 'city': '부산',\n",
       " 'friends': ('judy', 'mike', 'poll'),\n",
       " 'intro': 'I am iron man'}"
      ]
     },
     "execution_count": 100,
     "metadata": {},
     "output_type": "execute_result"
    }
   ],
   "source": [
    "make_profile(\"하이요\", \"bbbb@naver.com\",\"부산\",\"judy\",\"mike\",\"poll\", intro=\"I am iron man\")"
   ]
  },
  {
   "cell_type": "code",
   "execution_count": 104,
   "metadata": {},
   "outputs": [
    {
     "ename": "TypeError",
     "evalue": "unsupported operand type(s) for +: 'int' and 'list'",
     "output_type": "error",
     "traceback": [
      "\u001b[1;31m---------------------------------------------------------------------------\u001b[0m",
      "\u001b[1;31mTypeError\u001b[0m                                 Traceback (most recent call last)",
      "\u001b[1;32m<ipython-input-104-1e3fd8e5828c>\u001b[0m in \u001b[0;36m<module>\u001b[1;34m\u001b[0m\n\u001b[0;32m      2\u001b[0m     \u001b[1;32mreturn\u001b[0m \u001b[0msum\u001b[0m\u001b[1;33m(\u001b[0m\u001b[0margs\u001b[0m\u001b[1;33m)\u001b[0m\u001b[1;33m\u001b[0m\u001b[1;33m\u001b[0m\u001b[0m\n\u001b[0;32m      3\u001b[0m \u001b[0mlist1\u001b[0m\u001b[1;33m=\u001b[0m\u001b[1;33m[\u001b[0m\u001b[1;36m1\u001b[0m\u001b[1;33m,\u001b[0m\u001b[1;36m2\u001b[0m\u001b[1;33m,\u001b[0m\u001b[1;36m3\u001b[0m\u001b[1;33m,\u001b[0m\u001b[1;36m4\u001b[0m\u001b[1;33m,\u001b[0m\u001b[1;36m5\u001b[0m\u001b[1;33m]\u001b[0m\u001b[1;33m\u001b[0m\u001b[1;33m\u001b[0m\u001b[0m\n\u001b[1;32m----> 4\u001b[1;33m \u001b[0mfunc1\u001b[0m\u001b[1;33m(\u001b[0m\u001b[0mlist1\u001b[0m\u001b[1;33m,\u001b[0m\u001b[1;36m2\u001b[0m\u001b[1;33m)\u001b[0m\u001b[1;33m\u001b[0m\u001b[1;33m\u001b[0m\u001b[0m\n\u001b[0m",
      "\u001b[1;32m<ipython-input-104-1e3fd8e5828c>\u001b[0m in \u001b[0;36mfunc1\u001b[1;34m(*args)\u001b[0m\n\u001b[0;32m      1\u001b[0m \u001b[1;32mdef\u001b[0m \u001b[0mfunc1\u001b[0m\u001b[1;33m(\u001b[0m\u001b[1;33m*\u001b[0m\u001b[0margs\u001b[0m\u001b[1;33m)\u001b[0m\u001b[1;33m:\u001b[0m\u001b[1;33m\u001b[0m\u001b[1;33m\u001b[0m\u001b[0m\n\u001b[1;32m----> 2\u001b[1;33m     \u001b[1;32mreturn\u001b[0m \u001b[0msum\u001b[0m\u001b[1;33m(\u001b[0m\u001b[0margs\u001b[0m\u001b[1;33m)\u001b[0m\u001b[1;33m\u001b[0m\u001b[1;33m\u001b[0m\u001b[0m\n\u001b[0m\u001b[0;32m      3\u001b[0m \u001b[0mlist1\u001b[0m\u001b[1;33m=\u001b[0m\u001b[1;33m[\u001b[0m\u001b[1;36m1\u001b[0m\u001b[1;33m,\u001b[0m\u001b[1;36m2\u001b[0m\u001b[1;33m,\u001b[0m\u001b[1;36m3\u001b[0m\u001b[1;33m,\u001b[0m\u001b[1;36m4\u001b[0m\u001b[1;33m,\u001b[0m\u001b[1;36m5\u001b[0m\u001b[1;33m]\u001b[0m\u001b[1;33m\u001b[0m\u001b[1;33m\u001b[0m\u001b[0m\n\u001b[0;32m      4\u001b[0m \u001b[0mfunc1\u001b[0m\u001b[1;33m(\u001b[0m\u001b[0mlist1\u001b[0m\u001b[1;33m,\u001b[0m\u001b[1;36m2\u001b[0m\u001b[1;33m)\u001b[0m\u001b[1;33m\u001b[0m\u001b[1;33m\u001b[0m\u001b[0m\n",
      "\u001b[1;31mTypeError\u001b[0m: unsupported operand type(s) for +: 'int' and 'list'"
     ]
    }
   ],
   "source": [
    "def func1(*args):\n",
    "    return sum(args)\n",
    "list1=[1,2,3,4,5]\n",
    "func1(list1,2)"
   ]
  },
  {
   "cell_type": "code",
   "execution_count": 105,
   "metadata": {},
   "outputs": [
    {
     "data": {
      "text/plain": [
       "15"
      ]
     },
     "execution_count": 105,
     "metadata": {},
     "output_type": "execute_result"
    }
   ],
   "source": [
    "func1(*list1)"
   ]
  },
  {
   "cell_type": "code",
   "execution_count": 106,
   "metadata": {},
   "outputs": [],
   "source": [
    "def validate_profile(**profile):\n",
    "    print(profile)\n",
    "    print(type(profile))\n",
    "    if not profile.get('email'):\n",
    "        return False\n",
    "    \n",
    "    if not profile['email'].count(\"0\"):\n",
    "        return False\n",
    "    \n",
    "    return True"
   ]
  },
  {
   "cell_type": "code",
   "execution_count": 108,
   "metadata": {},
   "outputs": [
    {
     "name": "stdout",
     "output_type": "stream",
     "text": [
      "{'name': 'ㅇㅎㅇ', 'city': 'seoul'}\n",
      "<class 'dict'>\n"
     ]
    },
    {
     "data": {
      "text/plain": [
       "False"
      ]
     },
     "execution_count": 108,
     "metadata": {},
     "output_type": "execute_result"
    }
   ],
   "source": [
    "profile={\n",
    "    'name':'ㅇㅎㅇ',\n",
    "    'city':'seoul'\n",
    "}\n",
    "# validate_profile(profile) #키워드없이 인자 하나로 전달하면 오류\n",
    "validate_profile(**profile)"
   ]
  },
  {
   "cell_type": "markdown",
   "metadata": {},
   "source": [
    "#### 가변인수와 고정인수를 사용해 모든값을 더하거나 빼거나 곱하는 함수 작성\n",
    "######  ex)\n",
    "###### >>> calc(\"+\", 1, 2, 3, 4, 5) # 1 + 2 + 3 + 4 + 5\n",
    "###### 15\n",
    "###### >>> calc(\"-\", 1, 2, 3, 4, 5) # 1 - 2 - 3 - 4 - 5\n",
    "###### -13\n",
    "###### >>> calc(\"*\", 1, 2, 3, 4, 5) # 1 * 2 * 3 * 4 * 5\n",
    "###### 120\n"
   ]
  },
  {
   "cell_type": "code",
   "execution_count": 135,
   "metadata": {
    "scrolled": true
   },
   "outputs": [
    {
     "data": {
      "text/plain": [
       "[1, 2, 3, 4, 5]"
      ]
     },
     "execution_count": 135,
     "metadata": {},
     "output_type": "execute_result"
    }
   ],
   "source": [
    "#풀기 실패\n",
    "def calc(a,*args):\n",
    "    result_list=[]\n",
    "    for i in args:\n",
    "        result_list.append(i)\n",
    "    \n",
    "    if a=='+':\n",
    "        for i in result_list:\n",
    "            result_list[0]+=result_list[i]\n",
    "        return result_list[0]\n",
    "\n",
    "#     result=0\n",
    "#     if a=='+':\n",
    "#         for i in args: #i=1,2,3,4,5\n",
    "#             result+=i\n",
    "            \n",
    "#     elif a=='-':\n",
    "#         for i in args:\n",
    "#             result-=i\n",
    "    \n",
    "#     elif a=='*':\n",
    "#         for i in args:\n",
    "#             result *=i\n",
    "#return result\n",
    "    \n",
    "    \n",
    "calc(\"+\", 1,2,3,4,5)\n",
    "# print(calc(\"+\", 1,2,3,4,5))\n",
    "# print(calc(\"-\", 1,2,3,4,5))\n",
    "# print(calc(\"*\", 1,2,3,4,5))"
   ]
  },
  {
   "cell_type": "code",
   "execution_count": 137,
   "metadata": {},
   "outputs": [
    {
     "name": "stdout",
     "output_type": "stream",
     "text": [
      "15\n",
      "-13\n",
      "120\n"
     ]
    }
   ],
   "source": [
    "def calc(operator, *args):\n",
    "    if operator=='+':\n",
    "        return sum(args)\n",
    "        \n",
    "    elif operator=='-':\n",
    "        #return args[0]-sum(args[1:])\n",
    "        result=args[0]\n",
    "        for i in args[1:]:\n",
    "            result-=i\n",
    "        return result\n",
    "        \n",
    "    elif operator=='*':\n",
    "        result=args[0]\n",
    "        for i in args[1:]:\n",
    "            result*=i\n",
    "        return result\n",
    "    \n",
    "    return False\n",
    "\n",
    "print(calc(\"+\", 1,2,3,4,5))\n",
    "print(calc(\"-\", 1,2,3,4,5))\n",
    "print(calc(\"*\", 1,2,3,4,5))"
   ]
  },
  {
   "cell_type": "markdown",
   "metadata": {},
   "source": [
    "#### 가변인수를 이용 가장 높은값, 낮은값, 평균값을 구하는 함수 작성\n",
    "ex)\n",
    ">>> calc(1,2,3,4,5)\n",
    "최대값 : 5, 최소값 : 1, 평균값 : 3.0\n"
   ]
  },
  {
   "cell_type": "code",
   "execution_count": 124,
   "metadata": {},
   "outputs": [
    {
     "name": "stdout",
     "output_type": "stream",
     "text": [
      "최대값:5, 최소값:1, 평균값:3.0\n"
     ]
    }
   ],
   "source": [
    "def calc(*args):\n",
    "    list=[max(args), min(args), sum(args)/len(args)]\n",
    "    print(\"최대값:{}, 최소값:{}, 평균값:{}\".format(*list))\n",
    "    \n",
    "calc(1,2,3,4,5)"
   ]
  },
  {
   "cell_type": "markdown",
   "metadata": {},
   "source": [
    "# 객체와 클래스"
   ]
  },
  {
   "cell_type": "code",
   "execution_count": 192,
   "metadata": {
    "scrolled": true
   },
   "outputs": [
    {
     "name": "stdout",
     "output_type": "stream",
     "text": [
      "{'name': 'Choco', 'color': 'black'}\n",
      "밥먹음 -10\n",
      "밥먹음 -20\n",
      "산책  -10\n",
      "-10\n",
      "0\n"
     ]
    }
   ],
   "source": [
    "class Dog:\n",
    "    \n",
    "    #메소드 3개\n",
    "    def __init__(self,name,color): #생성자\n",
    "        self.hungry=0\n",
    "        self.name=name\n",
    "        self.color=color\n",
    "        \n",
    "    def eat(self):\n",
    "        self.hungry-=10\n",
    "        print(\"밥먹음\", self.hungry)\n",
    "        \n",
    "    def walk(self):\n",
    "        self.hungry += 10\n",
    "        print(\"산책 \", self.hungry)\n",
    "\n",
    "        \n",
    "    #문법임. print(choco) 했을 때, 주소로 나오는 것을 보기 쉽게 바꾸는 법\n",
    "    def __str__(self):\n",
    "        return repr(self)\n",
    "    \n",
    "    def __repr__(self):\n",
    "        return str({\n",
    "            'name':self.name,\n",
    "            'color':self.color\n",
    "        })\n",
    "        \n",
    "choco = Dog(\"Choco\",\"black\")\n",
    "jjong = Dog(\"jjong\", \"white\")\n",
    "\n",
    "print(choco)\n",
    "\n",
    "choco.eat()\n",
    "choco.eat()\n",
    "choco.walk()\n",
    "print(choco.hungry)\n",
    "print(jjong.hungry)\n"
   ]
  },
  {
   "cell_type": "code",
   "execution_count": 146,
   "metadata": {},
   "outputs": [
    {
     "name": "stdout",
     "output_type": "stream",
     "text": [
      "0\n",
      "jjong\n",
      "white\n"
     ]
    }
   ],
   "source": [
    "print(jjong.hungry)\n",
    "print(jjong.name)\n",
    "print(jjong.color)"
   ]
  },
  {
   "cell_type": "code",
   "execution_count": 149,
   "metadata": {},
   "outputs": [
    {
     "name": "stdout",
     "output_type": "stream",
     "text": [
      "-324\n"
     ]
    }
   ],
   "source": [
    "jjong.hungry = -324\n",
    "print(jjong.hungry)"
   ]
  },
  {
   "cell_type": "code",
   "execution_count": 154,
   "metadata": {},
   "outputs": [
    {
     "ename": "AttributeError",
     "evalue": "'Dog' object has no attribute '__hungry'",
     "output_type": "error",
     "traceback": [
      "\u001b[1;31m---------------------------------------------------------------------------\u001b[0m",
      "\u001b[1;31mAttributeError\u001b[0m                            Traceback (most recent call last)",
      "\u001b[1;32m<ipython-input-154-471f84ebbc1a>\u001b[0m in \u001b[0;36m<module>\u001b[1;34m\u001b[0m\n\u001b[0;32m     18\u001b[0m \u001b[1;33m\u001b[0m\u001b[0m\n\u001b[0;32m     19\u001b[0m \u001b[0mjjong\u001b[0m \u001b[1;33m=\u001b[0m \u001b[0mDog\u001b[0m\u001b[1;33m(\u001b[0m\u001b[1;34m\"jjong\"\u001b[0m\u001b[1;33m,\u001b[0m \u001b[1;34m\"white\"\u001b[0m\u001b[1;33m)\u001b[0m\u001b[1;33m\u001b[0m\u001b[1;33m\u001b[0m\u001b[0m\n\u001b[1;32m---> 20\u001b[1;33m \u001b[0mjjong\u001b[0m\u001b[1;33m.\u001b[0m\u001b[0m__hungry\u001b[0m\u001b[1;33m\u001b[0m\u001b[1;33m\u001b[0m\u001b[0m\n\u001b[0m",
      "\u001b[1;31mAttributeError\u001b[0m: 'Dog' object has no attribute '__hungry'"
     ]
    }
   ],
   "source": [
    "#private\n",
    "class Dog:\n",
    "    \n",
    "    #메소드 3개\n",
    "    def __init__(self,name,color): #생성자\n",
    "        self.__hungry=0 #private. 외부에서 접근 불가. class내부에서만 접근 가능.\n",
    "        self.name=name\n",
    "        self.color=color\n",
    "        \n",
    "    def eat(self):\n",
    "        self.__hungry-=10\n",
    "        print(\"밥먹음\", self.__hungry)\n",
    "        \n",
    "    def walk(self):\n",
    "        self.__hungry += 10\n",
    "        print(\"산책 \", self.__hungry)\n",
    "\n",
    "\n",
    "jjong = Dog(\"jjong\", \"white\")\n",
    "jjong.__hungry #볼 수 없으니까 에러남"
   ]
  },
  {
   "cell_type": "code",
   "execution_count": 156,
   "metadata": {},
   "outputs": [
    {
     "data": {
      "text/plain": [
       "0"
      ]
     },
     "execution_count": 156,
     "metadata": {},
     "output_type": "execute_result"
    }
   ],
   "source": [
    "#private\n",
    "class Dog:\n",
    "    \n",
    "    #메소드 3개\n",
    "    def __init__(self,name,color): #생성자\n",
    "        self.__hungry=0 #private. 외부에서 접근 불가. class내부에서만 접근 가능.\n",
    "        self.name=name\n",
    "        self.color=color\n",
    "        \n",
    "    def eat(self):\n",
    "        self.__hungry-=10\n",
    "        print(\"밥먹음\", self.__hungry)\n",
    "        \n",
    "    def walk(self):\n",
    "        self.__hungry += 10\n",
    "        print(\"산책 \", self.__hungry)\n",
    "\n",
    "    def get_hungry(self):\n",
    "        return self.__hungry\n",
    "\n",
    "\n",
    "jjong = Dog(\"jjong\", \"white\")\n",
    "jjong.get_hungry() #볼 수 없으니까 에러남"
   ]
  },
  {
   "cell_type": "markdown",
   "metadata": {},
   "source": [
    "# 클래스 속성"
   ]
  },
  {
   "cell_type": "code",
   "execution_count": 158,
   "metadata": {},
   "outputs": [
    {
     "data": {
      "text/plain": [
       "0"
      ]
     },
     "execution_count": 158,
     "metadata": {},
     "output_type": "execute_result"
    }
   ],
   "source": [
    "#private\n",
    "class Dog:\n",
    "    dog_count=0 #class attribute(attrs)\n",
    "    \n",
    "    #메소드 3개\n",
    "    def __init__(self,name,color): #생성자\n",
    "        self.__hungry=0 #private. 외부에서 접근 불가. class내부에서만 접근 가능.\n",
    "        self.name=name\n",
    "        self.color=color\n",
    "        \n",
    "    def eat(self):\n",
    "        self.__hungry-=10\n",
    "        print(\"밥먹음\", self.__hungry)\n",
    "        \n",
    "    def walk(self):\n",
    "        self.__hungry += 10\n",
    "        print(\"산책 \", self.__hungry)\n",
    "\n",
    "    def get_hungry(self):\n",
    "        return self.__hungry\n",
    "\n",
    "\n",
    "Dog.dog_count #클래스 내에서 관리하는 변수"
   ]
  },
  {
   "cell_type": "code",
   "execution_count": 166,
   "metadata": {},
   "outputs": [],
   "source": [
    "#private\n",
    "class Dog:\n",
    "    dog_count=0 #class attribute(attrs)\n",
    "    \n",
    "    #메소드 3개\n",
    "    def __init__(self,name,color): #생성자\n",
    "        self.__hungry=0 #private. 외부에서 접근 불가. class내부에서만 접근 가능.\n",
    "        self.name=name\n",
    "        self.color=color\n",
    "        #클래스 속성\n",
    "        Dog.dog_count+=1\n",
    "        \n",
    "    def eat(self):\n",
    "        self.__hungry-=10\n",
    "        print(\"밥먹음\", self.__hungry)\n",
    "        \n",
    "    def walk(self):\n",
    "        self.__hungry += 10\n",
    "        print(\"산책 \", self.__hungry)\n",
    "\n",
    "    def get_hungry(self):\n",
    "        return self.__hungry\n",
    "\n",
    "    @classmethod\n",
    "    def create_black_dog(cls,name):\n",
    "        print(\"현재 강아지수\", cls.dog_count)\n",
    "        return cls(name, \"Black\") #cls랑 아래 Dog랑 똑같음\n",
    "\n",
    "    @staticmethod\n",
    "    def intro():\n",
    "        print(\"안녕하세요. 동물의 숲입니다.\")"
   ]
  },
  {
   "cell_type": "code",
   "execution_count": 164,
   "metadata": {},
   "outputs": [
    {
     "name": "stdout",
     "output_type": "stream",
     "text": [
      "현재 강아지수 0\n"
     ]
    }
   ],
   "source": [
    "choco=Dog.create_black_dog(\"초코\")"
   ]
  },
  {
   "cell_type": "code",
   "execution_count": 165,
   "metadata": {},
   "outputs": [
    {
     "data": {
      "text/plain": [
       "'초코'"
      ]
     },
     "execution_count": 165,
     "metadata": {},
     "output_type": "execute_result"
    }
   ],
   "source": [
    "choco.name"
   ]
  },
  {
   "cell_type": "code",
   "execution_count": 167,
   "metadata": {},
   "outputs": [
    {
     "name": "stdout",
     "output_type": "stream",
     "text": [
      "안녕하세요. 동물의 숲입니다.\n"
     ]
    }
   ],
   "source": [
    "Dog.intro()"
   ]
  },
  {
   "cell_type": "markdown",
   "metadata": {},
   "source": [
    "#### 연습문제1\n",
    "Car 클래스를 만드세요\n",
    "객체 생성시 차이름, 배기량, 생산년도 입력받으세요\n",
    "객체 생성시 등록된 차이름, 배기량, 생산년도는 직접 변경하지 못합니다\n",
    "차 이름을 변경하는 함수를 만드세요\n",
    "배기량에 따라 1000CC 이하 소형\n",
    "                      1000CC 이상 2000CC 이하 중형\n",
    "                      2000CC 이상 대형을 출력하는 함수를 만드세요\n",
    "객체 생성시마다 등록된 차량 갯수를 기록해주세요\n",
    "총 등록된 차량개수를 출력하는 클래스 함수를 만드세요\n"
   ]
  },
  {
   "cell_type": "code",
   "execution_count": 194,
   "metadata": {},
   "outputs": [
    {
     "name": "stdout",
     "output_type": "stream",
     "text": [
      "소형차\n"
     ]
    },
    {
     "ename": "UnboundLocalError",
     "evalue": "local variable 'car_speed' referenced before assignment",
     "output_type": "error",
     "traceback": [
      "\u001b[1;31m---------------------------------------------------------------------------\u001b[0m",
      "\u001b[1;31mUnboundLocalError\u001b[0m                         Traceback (most recent call last)",
      "\u001b[1;32m<ipython-input-194-66630a26936f>\u001b[0m in \u001b[0;36m<module>\u001b[1;34m\u001b[0m\n\u001b[0;32m     41\u001b[0m \u001b[0mcar\u001b[0m\u001b[1;33m=\u001b[0m\u001b[0mCar\u001b[0m\u001b[1;33m(\u001b[0m\u001b[1;34m\"ㅇㅎㅇ\"\u001b[0m\u001b[1;33m,\u001b[0m \u001b[1;36m800\u001b[0m\u001b[1;33m,\u001b[0m \u001b[1;36m2018\u001b[0m\u001b[1;33m)\u001b[0m\u001b[1;33m\u001b[0m\u001b[1;33m\u001b[0m\u001b[0m\n\u001b[0;32m     42\u001b[0m \u001b[0mcar\u001b[0m\u001b[1;33m.\u001b[0m\u001b[0mcarmode\u001b[0m\u001b[1;33m(\u001b[0m\u001b[1;33m)\u001b[0m\u001b[1;33m\u001b[0m\u001b[1;33m\u001b[0m\u001b[0m\n\u001b[1;32m---> 43\u001b[1;33m \u001b[0mcar\u001b[0m\u001b[1;33m.\u001b[0m\u001b[0mexcel\u001b[0m\u001b[1;33m(\u001b[0m\u001b[1;33m)\u001b[0m\u001b[1;33m\u001b[0m\u001b[1;33m\u001b[0m\u001b[0m\n\u001b[0m\u001b[0;32m     44\u001b[0m \u001b[0mprint\u001b[0m\u001b[1;33m(\u001b[0m\u001b[0mcar\u001b[0m\u001b[1;33m.\u001b[0m\u001b[0mcar_count\u001b[0m\u001b[1;33m)\u001b[0m\u001b[1;33m\u001b[0m\u001b[1;33m\u001b[0m\u001b[0m\n",
      "\u001b[1;32m<ipython-input-194-66630a26936f>\u001b[0m in \u001b[0;36mexcel\u001b[1;34m(self)\u001b[0m\n\u001b[0;32m     25\u001b[0m \u001b[1;33m\u001b[0m\u001b[0m\n\u001b[0;32m     26\u001b[0m     \u001b[1;32mdef\u001b[0m \u001b[0mexcel\u001b[0m\u001b[1;33m(\u001b[0m\u001b[0mself\u001b[0m\u001b[1;33m)\u001b[0m\u001b[1;33m:\u001b[0m\u001b[1;33m\u001b[0m\u001b[1;33m\u001b[0m\u001b[0m\n\u001b[1;32m---> 27\u001b[1;33m         \u001b[0mcar_speed\u001b[0m\u001b[1;33m+=\u001b[0m\u001b[1;36m1\u001b[0m\u001b[1;33m\u001b[0m\u001b[1;33m\u001b[0m\u001b[0m\n\u001b[0m\u001b[0;32m     28\u001b[0m \u001b[1;33m\u001b[0m\u001b[0m\n\u001b[0;32m     29\u001b[0m     \u001b[1;32mdef\u001b[0m \u001b[0mbreak_\u001b[0m\u001b[1;33m(\u001b[0m\u001b[0mself\u001b[0m\u001b[1;33m)\u001b[0m\u001b[1;33m:\u001b[0m\u001b[1;33m\u001b[0m\u001b[1;33m\u001b[0m\u001b[0m\n",
      "\u001b[1;31mUnboundLocalError\u001b[0m: local variable 'car_speed' referenced before assignment"
     ]
    }
   ],
   "source": [
    "class Car:\n",
    "    car_count=0\n",
    "    car_speed=0\n",
    "    \n",
    "    def __init__(self, name, cc, year):\n",
    "        self.mode=\"자동차\"\n",
    "        self.name=name\n",
    "        self.__cc=cc\n",
    "        self.__year=year\n",
    "        Car.car_count+=1\n",
    "        \n",
    "    def modify(self, name): #차 이름 변경하는 함수\n",
    "        self.name=name\n",
    "        \n",
    "    def carmode(self):\n",
    "        if self.__cc<1000:\n",
    "            self.mode=\"소형차\"\n",
    "            print(\"소형차\")\n",
    "        elif 1000<=self.__cc<2000:\n",
    "            self.mode=\"중형차\"\n",
    "            print(\"중형차\")\n",
    "        elif 2000<self.__cc:\n",
    "            self.mode=\"대형차\"\n",
    "            print(\"대형차\")\n",
    "    \n",
    "    def excel(self):\n",
    "        car_speed+=1\n",
    "        \n",
    "    def break_(self):\n",
    "        car_speed-=1\n",
    "    \n",
    "    def get_name(self):\n",
    "        return self.name\n",
    "    \n",
    "    def get_cc(self):\n",
    "        return self.__cc\n",
    "    \n",
    "    def get_prod_year(self):\n",
    "        return self.__year\n",
    "    \n",
    "car=Car(\"ㅇㅎㅇ\", 800, 2018)\n",
    "car.carmode()\n",
    "car.excel()\n",
    "print(car.car_count)"
   ]
  },
  {
   "cell_type": "code",
   "execution_count": 247,
   "metadata": {},
   "outputs": [],
   "source": [
    "#답\n",
    "class Car(object):\n",
    "    \n",
    "    count=0\n",
    "    \n",
    "    def __init__(self, name, cc, year):\n",
    "        self.__name=name\n",
    "        self.__cc=cc\n",
    "        self.__year=year\n",
    "        \n",
    "        self.__speed = 0\n",
    "        \n",
    "        Car.count+=1\n",
    "    \n",
    "    def excel(self):\n",
    "        self.__speed +=4\n",
    "    \n",
    "    def _break(self):\n",
    "        if (self.__speed-4)<0:\n",
    "            self.__speed=0\n",
    "        else:\n",
    "            self.__speed -=4\n",
    "        \n",
    "    @classmethod\n",
    "    def get_total_count(cls):\n",
    "        print(cls.count)\n",
    "        return cls.count\n",
    "    \n",
    "    def set_name(self, name):\n",
    "        self.__name=name\n",
    "        return self.__name\n",
    "    \n",
    "    def get_name(self):\n",
    "        return self.__name\n",
    "    \n",
    "    def get_size(self):\n",
    "        size=None\n",
    "        if self.__cc < 1000:\n",
    "            size=\"소형\"\n",
    "        elif self.__cc<=2000:\n",
    "            size=\"중형\"\n",
    "        else:\n",
    "            size=\"대형\"\n",
    "        print(size)\n",
    "        return size\n",
    "    \n",
    "    def get_cc(self):\n",
    "        return self.__cc\n",
    "    \n",
    "    def get_prod_year(self):\n",
    "        return self.__year\n",
    "    \n",
    "    def get_speed(self):\n",
    "        return self.__speed\n",
    "    \n",
    "    @property\n",
    "    def speed(self):\n",
    "        return self.__speed"
   ]
  },
  {
   "cell_type": "code",
   "execution_count": 241,
   "metadata": {},
   "outputs": [
    {
     "data": {
      "text/plain": [
       "<__main__.Car at 0x244c34087f0>"
      ]
     },
     "execution_count": 241,
     "metadata": {},
     "output_type": "execute_result"
    }
   ],
   "source": [
    "sonata1 = Car(\"소나타\",2000,2019)\n",
    "sonata1"
   ]
  },
  {
   "cell_type": "code",
   "execution_count": 242,
   "metadata": {},
   "outputs": [
    {
     "data": {
      "text/plain": [
       "'Audi'"
      ]
     },
     "execution_count": 242,
     "metadata": {},
     "output_type": "execute_result"
    }
   ],
   "source": [
    "sonata1.set_name(\"Audi\")\n",
    "sonata1.get_name()"
   ]
  },
  {
   "cell_type": "code",
   "execution_count": 243,
   "metadata": {},
   "outputs": [
    {
     "name": "stdout",
     "output_type": "stream",
     "text": [
      "중형\n"
     ]
    },
    {
     "data": {
      "text/plain": [
       "'중형'"
      ]
     },
     "execution_count": 243,
     "metadata": {},
     "output_type": "execute_result"
    }
   ],
   "source": [
    "sonata1.get_size()"
   ]
  },
  {
   "cell_type": "code",
   "execution_count": 244,
   "metadata": {},
   "outputs": [
    {
     "data": {
      "text/plain": [
       "4"
      ]
     },
     "execution_count": 244,
     "metadata": {},
     "output_type": "execute_result"
    }
   ],
   "source": [
    "sonata1.excel()\n",
    "sonata1.get_speed()"
   ]
  },
  {
   "cell_type": "code",
   "execution_count": 245,
   "metadata": {},
   "outputs": [
    {
     "data": {
      "text/plain": [
       "0"
      ]
     },
     "execution_count": 245,
     "metadata": {},
     "output_type": "execute_result"
    }
   ],
   "source": [
    "sonata1._break()\n",
    "sonata1.get_speed()"
   ]
  },
  {
   "cell_type": "code",
   "execution_count": 246,
   "metadata": {},
   "outputs": [
    {
     "data": {
      "text/plain": [
       "0"
      ]
     },
     "execution_count": 246,
     "metadata": {},
     "output_type": "execute_result"
    }
   ],
   "source": [
    "sonata1.speed"
   ]
  },
  {
   "cell_type": "markdown",
   "metadata": {},
   "source": [
    "# 상속"
   ]
  },
  {
   "cell_type": "code",
   "execution_count": 308,
   "metadata": {},
   "outputs": [],
   "source": [
    "from abc import *"
   ]
  },
  {
   "cell_type": "code",
   "execution_count": 335,
   "metadata": {},
   "outputs": [],
   "source": [
    "class Animal():\n",
    "    def __init__(self, name):\n",
    "        self.__hungry=0\n",
    "        self.name=name\n",
    "        \n",
    "\n",
    "        \n",
    "    def intro(self):\n",
    "        print(\"안녕하세요. 동물의 숲입니다\")\n",
    "        \n",
    "    def eat(self):\n",
    "        self.__hungry -= 10"
   ]
  },
  {
   "cell_type": "code",
   "execution_count": 339,
   "metadata": {},
   "outputs": [],
   "source": [
    "class Dog(Animal):\n",
    "    pass"
   ]
  },
  {
   "cell_type": "code",
   "execution_count": 340,
   "metadata": {},
   "outputs": [],
   "source": [
    "class Cat(Animal):\n",
    "    pass"
   ]
  },
  {
   "cell_type": "code",
   "execution_count": 341,
   "metadata": {},
   "outputs": [
    {
     "ename": "TypeError",
     "evalue": "__init__() missing 1 required positional argument: 'name'",
     "output_type": "error",
     "traceback": [
      "\u001b[1;31m---------------------------------------------------------------------------\u001b[0m",
      "\u001b[1;31mTypeError\u001b[0m                                 Traceback (most recent call last)",
      "\u001b[1;32m<ipython-input-341-870252ed4fb9>\u001b[0m in \u001b[0;36m<module>\u001b[1;34m\u001b[0m\n\u001b[1;32m----> 1\u001b[1;33m \u001b[0mdog1\u001b[0m\u001b[1;33m=\u001b[0m\u001b[0mDog\u001b[0m\u001b[1;33m(\u001b[0m\u001b[1;33m)\u001b[0m\u001b[1;33m\u001b[0m\u001b[1;33m\u001b[0m\u001b[0m\n\u001b[0m\u001b[0;32m      2\u001b[0m \u001b[0mcat1\u001b[0m\u001b[1;33m=\u001b[0m\u001b[0mCat\u001b[0m\u001b[1;33m(\u001b[0m\u001b[1;33m)\u001b[0m\u001b[1;33m\u001b[0m\u001b[1;33m\u001b[0m\u001b[0m\n",
      "\u001b[1;31mTypeError\u001b[0m: __init__() missing 1 required positional argument: 'name'"
     ]
    }
   ],
   "source": [
    "dog1=Dog()\n",
    "cat1=Cat()"
   ]
  },
  {
   "cell_type": "code",
   "execution_count": 295,
   "metadata": {},
   "outputs": [
    {
     "name": "stdout",
     "output_type": "stream",
     "text": [
      "안녕하세요. 동물의 숲입니다\n"
     ]
    }
   ],
   "source": [
    "dog1.intro()"
   ]
  },
  {
   "cell_type": "code",
   "execution_count": 296,
   "metadata": {},
   "outputs": [
    {
     "name": "stdout",
     "output_type": "stream",
     "text": [
      "안녕하세요. 동물의 숲입니다\n"
     ]
    }
   ],
   "source": [
    "cat1.intro()"
   ]
  },
  {
   "cell_type": "code",
   "execution_count": 320,
   "metadata": {},
   "outputs": [],
   "source": [
    "class Bird(Animal):\n",
    "    def fly(self):\n",
    "        pass\n",
    "\n",
    "class LandAnimal(Animal, metaclass=ABCMeta):\n",
    "    def __init__(self, name):\n",
    "        super().__init__(name)\n",
    "        \n",
    "    #def walk(self):\n",
    "    #    raise NotImplemented #서비스 출시 전에 오류 발견 위해 pass 대신 사용\n",
    "\n",
    "    @abstractmethod #여기서 뭐 할지는 아직 안정했는데 자식클래스에서는 무조건 정리해\n",
    "    def walk(self): #없으면 오류를 발생시킨다.\n",
    "        pass\n",
    "    \n",
    "class SeaAnimal(Animal):\n",
    "    def swim(self):\n",
    "        pass"
   ]
  },
  {
   "cell_type": "code",
   "execution_count": 321,
   "metadata": {},
   "outputs": [],
   "source": [
    "class Craw(Bird):\n",
    "    def cry(self):\n",
    "        print(\"까악 까악\")"
   ]
  },
  {
   "cell_type": "code",
   "execution_count": 324,
   "metadata": {},
   "outputs": [],
   "source": [
    "class Lion(LandAnimal):\n",
    "    def __init__(self, name, type_):\n",
    "        self._type=type_\n",
    "        super().__init__(name) #super() 부모클래스에 있는 init을 호출할거야\n",
    "        \n",
    "    def intro(self):\n",
    "        #메소드 오버라이딩\n",
    "        print(\"여기 선물상자가 있어요.\")\n",
    "        #부모클래스 접근\n",
    "        super().intro()\n",
    "        \n",
    "    def walk(self):\n",
    "        print(\"걷기. 터벅터벅\")\n",
    "    \n",
    "    def cry(self):\n",
    "        print(\"어흥!!\")"
   ]
  },
  {
   "cell_type": "code",
   "execution_count": 325,
   "metadata": {},
   "outputs": [
    {
     "name": "stdout",
     "output_type": "stream",
     "text": [
      "어흥!!\n",
      "여기 선물상자가 있어요.\n",
      "안녕하세요. 동물의 숲입니다\n"
     ]
    }
   ],
   "source": [
    "lion1 = Lion(\"어흥이\", \"아프리카사자\")\n",
    "lion1.cry()\n",
    "lion1.intro()"
   ]
  },
  {
   "cell_type": "code",
   "execution_count": 326,
   "metadata": {},
   "outputs": [
    {
     "data": {
      "text/plain": [
       "'아프리카사자'"
      ]
     },
     "execution_count": 326,
     "metadata": {},
     "output_type": "execute_result"
    }
   ],
   "source": [
    "lion1._type"
   ]
  },
  {
   "cell_type": "code",
   "execution_count": 327,
   "metadata": {},
   "outputs": [
    {
     "name": "stdout",
     "output_type": "stream",
     "text": [
      "안녕하세요. 동물의 숲입니다\n"
     ]
    }
   ],
   "source": [
    "cat1.intro()"
   ]
  },
  {
   "cell_type": "code",
   "execution_count": 329,
   "metadata": {},
   "outputs": [
    {
     "name": "stdout",
     "output_type": "stream",
     "text": [
      "여기 선물상자가 있어요.\n",
      "안녕하세요. 동물의 숲입니다\n",
      "걷기. 터벅터벅\n"
     ]
    }
   ],
   "source": [
    "lion1.intro()\n",
    "lion1.walk()"
   ]
  },
  {
   "cell_type": "markdown",
   "metadata": {},
   "source": [
    "# 다중 상속"
   ]
  },
  {
   "cell_type": "code",
   "execution_count": 347,
   "metadata": {},
   "outputs": [],
   "source": [
    "class Bird(Animal):\n",
    "    def __init__(self, name):\n",
    "        self.has_wing=True\n",
    "        super().__init__(name)"
   ]
  },
  {
   "cell_type": "code",
   "execution_count": 348,
   "metadata": {},
   "outputs": [],
   "source": [
    "class Fliable(object,metaclass=ABCMeta):\n",
    "    @abstractmethod\n",
    "    def fly(self):\n",
    "        pass"
   ]
  },
  {
   "cell_type": "code",
   "execution_count": 349,
   "metadata": {},
   "outputs": [],
   "source": [
    "class Walkable(object, metaclass=ABCMeta):\n",
    "    @abstractmethod\n",
    "    def walk(self):\n",
    "        pass"
   ]
  },
  {
   "cell_type": "code",
   "execution_count": 351,
   "metadata": {},
   "outputs": [],
   "source": [
    "class Ostrich(Bird, Walkable):\n",
    "    def __init__(self, name):\n",
    "        super().__init__(name)\n",
    "    def walk(self):\n",
    "        print(\"턱턱\")"
   ]
  },
  {
   "cell_type": "code",
   "execution_count": null,
   "metadata": {},
   "outputs": [],
   "source": []
  },
  {
   "cell_type": "markdown",
   "metadata": {},
   "source": [
    "# 예외처리"
   ]
  },
  {
   "cell_type": "code",
   "execution_count": 352,
   "metadata": {},
   "outputs": [
    {
     "ename": "ZeroDivisionError",
     "evalue": "division by zero",
     "output_type": "error",
     "traceback": [
      "\u001b[1;31m---------------------------------------------------------------------------\u001b[0m",
      "\u001b[1;31mZeroDivisionError\u001b[0m                         Traceback (most recent call last)",
      "\u001b[1;32m<ipython-input-352-720e881e96a7>\u001b[0m in \u001b[0;36m<module>\u001b[1;34m\u001b[0m\n\u001b[1;32m----> 1\u001b[1;33m \u001b[0ma\u001b[0m\u001b[1;33m=\u001b[0m \u001b[1;36m10\u001b[0m\u001b[1;33m/\u001b[0m\u001b[1;36m0\u001b[0m\u001b[1;33m\u001b[0m\u001b[1;33m\u001b[0m\u001b[0m\n\u001b[0m\u001b[0;32m      2\u001b[0m \u001b[0ma\u001b[0m\u001b[1;33m\u001b[0m\u001b[1;33m\u001b[0m\u001b[0m\n",
      "\u001b[1;31mZeroDivisionError\u001b[0m: division by zero"
     ]
    }
   ],
   "source": [
    "a= 10/0\n",
    "a"
   ]
  },
  {
   "cell_type": "code",
   "execution_count": 353,
   "metadata": {},
   "outputs": [
    {
     "name": "stdout",
     "output_type": "stream",
     "text": [
      "0으로 나눌 수 없습니다\n"
     ]
    }
   ],
   "source": [
    "try:\n",
    "    a=10/0\n",
    "except ZeroDivisionError:\n",
    "    print(\"0으로 나눌 수 없습니다\")"
   ]
  },
  {
   "cell_type": "code",
   "execution_count": 358,
   "metadata": {},
   "outputs": [
    {
     "name": "stdout",
     "output_type": "stream",
     "text": [
      "에러 없이 끝났습니다.\n",
      "모든 연산이 끝났습니다.\n"
     ]
    }
   ],
   "source": [
    "try:\n",
    "    #a=10/0\n",
    "    a=10/1\n",
    "except ZeroDivisionError:\n",
    "    print(\"0으로 나눌 수 없습니다\")\n",
    "else:\n",
    "    print(\"에러 없이 끝났습니다.\")\n",
    "finally:\n",
    "    print(\"모든 연산이 끝났습니다.\")"
   ]
  },
  {
   "cell_type": "code",
   "execution_count": 361,
   "metadata": {},
   "outputs": [
    {
     "data": {
      "text/plain": [
       "Exception"
      ]
     },
     "execution_count": 361,
     "metadata": {},
     "output_type": "execute_result"
    }
   ],
   "source": [
    "Exception"
   ]
  },
  {
   "cell_type": "code",
   "execution_count": 363,
   "metadata": {},
   "outputs": [
    {
     "name": "stdout",
     "output_type": "stream",
     "text": [
      "에러 발생\n"
     ]
    }
   ],
   "source": [
    "try:\n",
    "    a=10/0\n",
    "except Exception: #모든 에러들은 Exception을 상속받는다.\n",
    "    print(\"에러 발생\")"
   ]
  },
  {
   "cell_type": "code",
   "execution_count": 364,
   "metadata": {},
   "outputs": [
    {
     "ename": "IndexError",
     "evalue": "list index out of range",
     "output_type": "error",
     "traceback": [
      "\u001b[1;31m---------------------------------------------------------------------------\u001b[0m",
      "\u001b[1;31mIndexError\u001b[0m                                Traceback (most recent call last)",
      "\u001b[1;32m<ipython-input-364-784eb532573a>\u001b[0m in \u001b[0;36m<module>\u001b[1;34m\u001b[0m\n\u001b[0;32m      1\u001b[0m \u001b[0ma\u001b[0m\u001b[1;33m=\u001b[0m\u001b[1;33m[\u001b[0m\u001b[1;36m3\u001b[0m\u001b[1;33m,\u001b[0m\u001b[1;36m4\u001b[0m\u001b[1;33m,\u001b[0m\u001b[1;36m5\u001b[0m\u001b[1;33m]\u001b[0m\u001b[1;33m\u001b[0m\u001b[1;33m\u001b[0m\u001b[0m\n\u001b[1;32m----> 2\u001b[1;33m \u001b[0mprint\u001b[0m\u001b[1;33m(\u001b[0m\u001b[0ma\u001b[0m\u001b[1;33m[\u001b[0m\u001b[1;36m3\u001b[0m\u001b[1;33m]\u001b[0m\u001b[1;33m)\u001b[0m\u001b[1;33m\u001b[0m\u001b[1;33m\u001b[0m\u001b[0m\n\u001b[0m",
      "\u001b[1;31mIndexError\u001b[0m: list index out of range"
     ]
    }
   ],
   "source": [
    "a=[3,4,5]\n",
    "print(a[3])\n"
   ]
  },
  {
   "cell_type": "code",
   "execution_count": 367,
   "metadata": {},
   "outputs": [
    {
     "name": "stdout",
     "output_type": "stream",
     "text": [
      "Index Error 발생\n"
     ]
    }
   ],
   "source": [
    "try:\n",
    "    a=[3,4,5]\n",
    "    print(a[3])\n",
    "except ZeroDivisionError:\n",
    "    print(\"zero Division Error 발생\")\n",
    "except IndexError:\n",
    "    print(\"Index Error 발생\")\n",
    "except Exception:\n",
    "    print(\"Exception\")"
   ]
  },
  {
   "cell_type": "code",
   "execution_count": 368,
   "metadata": {},
   "outputs": [
    {
     "ename": "Exception",
     "evalue": "에러발생",
     "output_type": "error",
     "traceback": [
      "\u001b[1;31m---------------------------------------------------------------------------\u001b[0m",
      "\u001b[1;31mException\u001b[0m                                 Traceback (most recent call last)",
      "\u001b[1;32m<ipython-input-368-3e93b0536d76>\u001b[0m in \u001b[0;36m<module>\u001b[1;34m\u001b[0m\n\u001b[1;32m----> 1\u001b[1;33m \u001b[1;32mraise\u001b[0m \u001b[0mException\u001b[0m\u001b[1;33m(\u001b[0m\u001b[1;34m\"에러발생\"\u001b[0m\u001b[1;33m)\u001b[0m\u001b[1;33m\u001b[0m\u001b[1;33m\u001b[0m\u001b[0m\n\u001b[0m",
      "\u001b[1;31mException\u001b[0m: 에러발생"
     ]
    }
   ],
   "source": [
    "raise Exception(\"에러발생\")"
   ]
  },
  {
   "cell_type": "code",
   "execution_count": 369,
   "metadata": {},
   "outputs": [
    {
     "ename": "ValueError",
     "evalue": "Value Error 발생",
     "output_type": "error",
     "traceback": [
      "\u001b[1;31m---------------------------------------------------------------------------\u001b[0m",
      "\u001b[1;31mValueError\u001b[0m                                Traceback (most recent call last)",
      "\u001b[1;32m<ipython-input-369-65093d90af71>\u001b[0m in \u001b[0;36m<module>\u001b[1;34m\u001b[0m\n\u001b[1;32m----> 1\u001b[1;33m \u001b[1;32mraise\u001b[0m \u001b[0mValueError\u001b[0m\u001b[1;33m(\u001b[0m\u001b[1;34m\"Value Error 발생\"\u001b[0m\u001b[1;33m)\u001b[0m\u001b[1;33m\u001b[0m\u001b[1;33m\u001b[0m\u001b[0m\n\u001b[0m",
      "\u001b[1;31mValueError\u001b[0m: Value Error 발생"
     ]
    }
   ],
   "source": [
    "raise ValueError(\"Value Error 발생\")"
   ]
  },
  {
   "cell_type": "code",
   "execution_count": 370,
   "metadata": {},
   "outputs": [],
   "source": [
    "#에러 예시\n",
    "class NotMatchArgsError(Exception):\n",
    "    pass\n",
    "\n",
    "def calc(*args):\n",
    "    if len(args)<2:\n",
    "        raise NotMatchArgsError"
   ]
  },
  {
   "cell_type": "code",
   "execution_count": 371,
   "metadata": {},
   "outputs": [
    {
     "ename": "NotMatchArgsError",
     "evalue": "",
     "output_type": "error",
     "traceback": [
      "\u001b[1;31m---------------------------------------------------------------------------\u001b[0m",
      "\u001b[1;31mNotMatchArgsError\u001b[0m                         Traceback (most recent call last)",
      "\u001b[1;32m<ipython-input-371-3fb03e838747>\u001b[0m in \u001b[0;36m<module>\u001b[1;34m\u001b[0m\n\u001b[1;32m----> 1\u001b[1;33m \u001b[0mcalc\u001b[0m\u001b[1;33m(\u001b[0m\u001b[1;36m45\u001b[0m\u001b[1;33m)\u001b[0m\u001b[1;33m\u001b[0m\u001b[1;33m\u001b[0m\u001b[0m\n\u001b[0m",
      "\u001b[1;32m<ipython-input-370-da942826f0d6>\u001b[0m in \u001b[0;36mcalc\u001b[1;34m(*args)\u001b[0m\n\u001b[0;32m      5\u001b[0m \u001b[1;32mdef\u001b[0m \u001b[0mcalc\u001b[0m\u001b[1;33m(\u001b[0m\u001b[1;33m*\u001b[0m\u001b[0margs\u001b[0m\u001b[1;33m)\u001b[0m\u001b[1;33m:\u001b[0m\u001b[1;33m\u001b[0m\u001b[1;33m\u001b[0m\u001b[0m\n\u001b[0;32m      6\u001b[0m     \u001b[1;32mif\u001b[0m \u001b[0mlen\u001b[0m\u001b[1;33m(\u001b[0m\u001b[0margs\u001b[0m\u001b[1;33m)\u001b[0m\u001b[1;33m<\u001b[0m\u001b[1;36m2\u001b[0m\u001b[1;33m:\u001b[0m\u001b[1;33m\u001b[0m\u001b[1;33m\u001b[0m\u001b[0m\n\u001b[1;32m----> 7\u001b[1;33m         \u001b[1;32mraise\u001b[0m \u001b[0mNotMatchArgsError\u001b[0m\u001b[1;33m\u001b[0m\u001b[1;33m\u001b[0m\u001b[0m\n\u001b[0m",
      "\u001b[1;31mNotMatchArgsError\u001b[0m: "
     ]
    }
   ],
   "source": [
    "calc(45)"
   ]
  },
  {
   "cell_type": "markdown",
   "metadata": {},
   "source": [
    "# 모듈, 패키지"
   ]
  },
  {
   "cell_type": "code",
   "execution_count": 372,
   "metadata": {},
   "outputs": [
    {
     "name": "stdout",
     "output_type": "stream",
     "text": [
      "Collecting requests\n",
      "  Downloading requests-2.24.0-py2.py3-none-any.whl (61 kB)\n",
      "Collecting idna<3,>=2.5\n",
      "  Downloading idna-2.10-py2.py3-none-any.whl (58 kB)\n",
      "Collecting urllib3!=1.25.0,!=1.25.1,<1.26,>=1.21.1\n",
      "  Downloading urllib3-1.25.10-py2.py3-none-any.whl (127 kB)\n",
      "Collecting chardet<4,>=3.0.2\n",
      "  Downloading chardet-3.0.4-py2.py3-none-any.whl (133 kB)\n",
      "Requirement already satisfied: certifi>=2017.4.17 in c:\\users\\user\\.conda\\envs\\study1\\lib\\site-packages (from requests) (2020.6.20)\n",
      "Installing collected packages: idna, urllib3, chardet, requests\n",
      "Successfully installed chardet-3.0.4 idna-2.10 requests-2.24.0 urllib3-1.25.10\n"
     ]
    }
   ],
   "source": [
    "!pip install requests"
   ]
  },
  {
   "cell_type": "code",
   "execution_count": 373,
   "metadata": {},
   "outputs": [
    {
     "data": {
      "text/plain": [
       "6"
      ]
     },
     "execution_count": 373,
     "metadata": {},
     "output_type": "execute_result"
    }
   ],
   "source": [
    "import calc\n",
    "calc.add(1,2,3)"
   ]
  },
  {
   "cell_type": "code",
   "execution_count": 374,
   "metadata": {},
   "outputs": [
    {
     "data": {
      "text/plain": [
       "60"
      ]
     },
     "execution_count": 374,
     "metadata": {},
     "output_type": "execute_result"
    }
   ],
   "source": [
    "calc.multiply(3,4,5)"
   ]
  },
  {
   "cell_type": "code",
   "execution_count": 375,
   "metadata": {},
   "outputs": [
    {
     "data": {
      "text/plain": [
       "18"
      ]
     },
     "execution_count": 375,
     "metadata": {},
     "output_type": "execute_result"
    }
   ],
   "source": [
    "from calc import add, multiply\n",
    "add(5,6,7)"
   ]
  },
  {
   "cell_type": "code",
   "execution_count": 376,
   "metadata": {},
   "outputs": [
    {
     "data": {
      "text/plain": [
       "60"
      ]
     },
     "execution_count": 376,
     "metadata": {},
     "output_type": "execute_result"
    }
   ],
   "source": [
    "multiply(3,4,5)"
   ]
  },
  {
   "cell_type": "code",
   "execution_count": null,
   "metadata": {},
   "outputs": [],
   "source": []
  },
  {
   "cell_type": "code",
   "execution_count": 377,
   "metadata": {},
   "outputs": [
    {
     "data": {
      "text/plain": [
       "18"
      ]
     },
     "execution_count": 377,
     "metadata": {},
     "output_type": "execute_result"
    }
   ],
   "source": [
    "from calc import add as _ #이름 수정. add를 _로\n",
    "_(5,6,7)"
   ]
  },
  {
   "cell_type": "code",
   "execution_count": 379,
   "metadata": {},
   "outputs": [
    {
     "data": {
      "text/plain": [
       "6"
      ]
     },
     "execution_count": 379,
     "metadata": {},
     "output_type": "execute_result"
    }
   ],
   "source": [
    "from calc import *\n",
    "add(1,2,3)\n",
    "multiply(1,2,3)"
   ]
  },
  {
   "cell_type": "code",
   "execution_count": null,
   "metadata": {},
   "outputs": [],
   "source": []
  },
  {
   "cell_type": "code",
   "execution_count": null,
   "metadata": {},
   "outputs": [],
   "source": []
  },
  {
   "cell_type": "code",
   "execution_count": 384,
   "metadata": {},
   "outputs": [
    {
     "name": "stdout",
     "output_type": "stream",
     "text": [
      "moduleA func1\n"
     ]
    }
   ],
   "source": [
    "import firstp.modulea as ma\n",
    "ma.func_a1()"
   ]
  },
  {
   "cell_type": "code",
   "execution_count": 385,
   "metadata": {},
   "outputs": [
    {
     "name": "stdout",
     "output_type": "stream",
     "text": [
      "module B 1\n"
     ]
    }
   ],
   "source": [
    "from firstp.moduleb import module_b1\n",
    "module_b1()"
   ]
  },
  {
   "cell_type": "code",
   "execution_count": 386,
   "metadata": {},
   "outputs": [],
   "source": [
    "# spider firstp 패키지의 __init__ 수정 후.."
   ]
  },
  {
   "cell_type": "code",
   "execution_count": 1,
   "metadata": {},
   "outputs": [
    {
     "name": "stdout",
     "output_type": "stream",
     "text": [
      "module B 1\n"
     ]
    }
   ],
   "source": [
    "import firstp\n",
    "firstp.module_b1()"
   ]
  },
  {
   "cell_type": "code",
   "execution_count": null,
   "metadata": {},
   "outputs": [],
   "source": []
  }
 ],
 "metadata": {
  "kernelspec": {
   "display_name": "Python 3",
   "language": "python",
   "name": "python3"
  },
  "language_info": {
   "codemirror_mode": {
    "name": "ipython",
    "version": 3
   },
   "file_extension": ".py",
   "mimetype": "text/x-python",
   "name": "python",
   "nbconvert_exporter": "python",
   "pygments_lexer": "ipython3",
   "version": "3.8.3"
  }
 },
 "nbformat": 4,
 "nbformat_minor": 4
}
