{
 "cells": [
  {
   "cell_type": "code",
   "execution_count": 21,
   "metadata": {},
   "outputs": [],
   "source": [
    "############################################################\n",
    "##########프로젝트 MBN 홈페이지 긁어오는 함수 코드##########\n",
    "############################################################\n",
    "\n",
    "\n",
    "import requests\n",
    "import sys\n",
    "from bs4 import BeautifulSoup\n",
    "import json\n",
    "\n",
    "\n",
    "def MBN_News_Function(category,time):\n",
    "    \n",
    "# 오류참고. 이렇게 쓰면 category에 다른게 들어와도 '사회'로 인식됨.\n",
    "#     if category == '사회'or'society':\n",
    "#         category_s='society'\n",
    "#         MBN_url='https://www.mbn.co.kr/news/society/'\n",
    "    \n",
    "    if category in ('사회'or'society'):\n",
    "        category_s='society'\n",
    "        MBN_url='https://www.mbn.co.kr/news/society/'\n",
    "        \n",
    "    elif category in ('경제'or'economy'):\n",
    "        category_s='economy'\n",
    "        MBN_url='https://www.mbn.co.kr/news/economy/'\n",
    "        \n",
    "    elif category in ('국제'or'world'):\n",
    "        category_s='world'\n",
    "        MBN_url='https://www.mbn.co.kr/news/world/'\n",
    "        \n",
    "    elif category in ('문화'or'culture'):\n",
    "        category_s='category'\n",
    "        MBN_url='https://www.mbn.co.kr/news/category/'\n",
    "        \n",
    "    elif category in ('스포츠'or'sports'):\n",
    "        category_s='sports'\n",
    "        MBN_url='https://www.mbn.co.kr/news/sports/'\n",
    "        \n",
    "    elif category in ('연예'or'entertain'):\n",
    "        category_s='entertain'\n",
    "        MBN_url='https://www.mbn.co.kr/news/entertain/'\n",
    "        \n",
    "    elif category in ('생활건강'or'life'):\n",
    "        category_s='life'\n",
    "        MBN_url='https://www.mbn.co.kr/news/life/'\n",
    "    \n",
    "    \n",
    "    result_list=[]\n",
    "    \n",
    "    for i in range(1,15): #페이지번호\n",
    "        params={\n",
    "            'page':i,\n",
    "            'vod':None,\n",
    "            'category':category_s\n",
    "        }\n",
    "        resp=requests.get(MBN_url, params=params)\n",
    "\n",
    "        resp.encoding='eur-kr'\n",
    "        soup=BeautifulSoup(resp.text, \"lxml\")\n",
    "        #soup=BeautifulSoup(resp.text,'html.parser',from_encoding='euc-kr')\n",
    "        \n",
    "        MBN_news_list=soup.select('div.list_area > dl.article_list > dt.tit > a')\n",
    "        MBN_news_list_date=soup.select('div.list_area > dl.article_list > dd.desc > span.date')\n",
    "\n",
    "        news_list=[]\n",
    "        for news,date in zip(MBN_news_list, MBN_news_list_date):\n",
    "            \n",
    "            news=news.text.strip() #제목 내 띄어쓰기 제거\n",
    "            news=news.replace(\"\\'\" , \" \") #제목 내 따옴표 제거\n",
    "            news=news.replace(\"[포토]\",\" \") #제목 내 [포토] 제거\n",
    "\n",
    "            date=date.text[0:10].replace(\"-\",\"\")\n",
    "            \n",
    "            if date == time:\n",
    "                news_list.append(news)\n",
    "        \n",
    "        result_list.extend(news_list)\n",
    "\n",
    "    return result_list"
   ]
  },
  {
   "cell_type": "code",
   "execution_count": 22,
   "metadata": {},
   "outputs": [],
   "source": [
    "import os #파일경로 바탕화면으로 수정\n",
    "path='C:/Users/user/Desktop'\n",
    "os.chdir(path)"
   ]
  },
  {
   "cell_type": "code",
   "execution_count": 26,
   "metadata": {},
   "outputs": [
    {
     "name": "stdout",
     "output_type": "stream",
     "text": [
      "카테고리 입력 : 문화\n",
      "날짜입력 : 20200803\n"
     ]
    },
    {
     "data": {
      "text/plain": [
       "[]"
      ]
     },
     "execution_count": 26,
     "metadata": {},
     "output_type": "execute_result"
    }
   ],
   "source": [
    "############################################################\n",
    "#########프로젝트 MBN 메모장으로 꺼내오는 함수 코드#########\n",
    "############################################################\n",
    "\n",
    "category=input(\"카테고리 입력 : \")\n",
    "day=input(\"날짜입력 : \")\n",
    "\n",
    "if category in ('사회'or'society'):\n",
    "    f=open('MBN_사회.txt', 'w')\n",
    "\n",
    "elif category in ('경제'or'economy'):\n",
    "    f=open('MBN_경제.txt', 'w')\n",
    "\n",
    "elif category in ('국제'or'world'):\n",
    "    f=open('MBN_국제.txt', 'w')\n",
    "\n",
    "elif category in ('문화'or'culture'):\n",
    "    f=open('MBN_문화.txt', 'w')\n",
    "\n",
    "elif category in ('스포츠'or'sports'):\n",
    "    f=open('MBN_스포츠.txt', 'w')\n",
    "\n",
    "elif category in ('연예'or'entertain'):\n",
    "    f=open('MBN_연예.txt', 'w')\n",
    "\n",
    "elif category in ('생활건강'or'life'):\n",
    "    f=open('MBN_생활건강.txt', 'w')\n",
    "\n",
    "    \n",
    "To_Memo=MBN_News_Function(category, day)        \n",
    "\n",
    "for i in To_Memo:\n",
    "    f.write(i)\n",
    "f.close()\n",
    "\n",
    "\n",
    "To_Memo"
   ]
  },
  {
   "cell_type": "code",
   "execution_count": null,
   "metadata": {},
   "outputs": [],
   "source": []
  }
 ],
 "metadata": {
  "kernelspec": {
   "display_name": "Python 3",
   "language": "python",
   "name": "python3"
  },
  "language_info": {
   "codemirror_mode": {
    "name": "ipython",
    "version": 3
   },
   "file_extension": ".py",
   "mimetype": "text/x-python",
   "name": "python",
   "nbconvert_exporter": "python",
   "pygments_lexer": "ipython3",
   "version": "3.8.3"
  }
 },
 "nbformat": 4,
 "nbformat_minor": 4
}
