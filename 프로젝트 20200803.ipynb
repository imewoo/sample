{
 "cells": [
  {
   "cell_type": "code",
   "execution_count": 64,
   "metadata": {
    "collapsed": true
   },
   "outputs": [
    {
     "data": {
      "text/plain": [
       "[{'product': '[파머스토리]노르웨이산 생 연어회 몸/뱃살 필렛1kg +클럽덤 소스', 'price': '33,900원'},\n",
       " {'product': '대형/소형 일회용 3중 MB필터 마스크  50매/100매', 'price': '2,500원'},\n",
       " {'product': '[넥슨]바람의나라: 연 100원 기부딜', 'price': '100원'},\n",
       " {'product': '[바라던]6 7 8번 꽃갈비 부위를 사용한 LA갈비 1kg', 'price': '21,900원'},\n",
       " {'product': '[얌테이블]쫄깃탱탱 제철 햇오징어 (급냉)1kg(10~20미) /2020년산', 'price': '11,500원'},\n",
       " {'product': '업계를 리드하는 기업 3SK택배박스', 'price': '28,600원'},\n",
       " {'product': '[에쓰오일]S-OIL 모바일주유권 5만원권', 'price': '48,500원'},\n",
       " {'product': '[스파클]스파클생수 2L 30병', 'price': '14,900원'},\n",
       " {'product': '2박스(100봉) 고멧 참깨 코코넛 크래커 과자 간식', 'price': '8,790원'},\n",
       " {'product': 'KF94 4중필터 마스크 50매 (개당 798원 특가) 개별포장', 'price': '39,900원'},\n",
       " {'product': '[박스포유]박스포유 택배박스 /100%직접생산', 'price': '28,500원'},\n",
       " {'product': '[키친아트]키친아트/로벤탈 프라이팬 1종 골라담기', 'price': '6,900원'},\n",
       " {'product': '[다이슨]다이슨 에어랩 스타일러 컴플리트 DYSON-AIRWRAP-CO', 'price': '482,380원'},\n",
       " {'product': '[아워홈]포기김치10kg 배추 / 무 / 고춧가루 / 국산', 'price': '27,900원'},\n",
       " {'product': '전남 함평 나비원 영양식 추어탕 500g x 2팩', 'price': '6,900원'},\n",
       " {'product': '[파머스토리](비비수산) 베트남산 생 새우살 220g+220g(70미내외)', 'price': '9,900원'},\n",
       " {'product': '자연미소 20kg 19년산 (당일도정)', 'price': '45,900원'},\n",
       " {'product': '[종근당건강]종근당건강 아이케어 오메가3 로얄 2병 6개월', 'price': '20,900원'},\n",
       " {'product': '10+10+7 하이드로 더치커피 콜드브루 원두 커피 30ml', 'price': '3,900원'},\n",
       " {'product': '[CONAIR]콤팩트 파워 핸디형 스팀다리미 GS2K 타임딜 특가', 'price': '19,900원'},\n",
       " {'product': '마녀 총각김치/열무김치/깍두기 2kg 외 골라담기 + 증정 행사', 'price': '9,810원'},\n",
       " {'product': '[아침농산]국산 농부의아침 백미 10kg 2019년산 햅쌀', 'price': '24,490원'},\n",
       " {'product': '[휘센]휘센 LG 휘센 인버터 제습기 20L DQ200PBBC 1등급', 'price': '449,000원'},\n",
       " {'product': '태송 새우볶음밥 300g x10봉/2건이상만두증정', 'price': '12,900원'},\n",
       " {'product': '입맛 살리는 신기마을 자색양파 10kg 특품', 'price': '7,000원'},\n",
       " {'product': '[이지바이](최대12%쿠폰)균일가 시즌오프/쿨티셔츠/등산복', 'price': '6,800원'},\n",
       " {'product': '[오뚜기밥]맛있는 오뚜기밥 210g x 24개입(1박스)', 'price': '17,500원'},\n",
       " {'product': '[맥심]맥심 모카골드 마일드 커피믹스 320T +비치타월증정', 'price': '34,800원'},\n",
       " {'product': '[쿠첸]10인용 다이킹코팅 전기압력밥솥 CJS-FC1003F (추천)', 'price': '105,560원'},\n",
       " {'product': '[아워홈]지리산수 핑크 500ml 20병/생수전문배송', 'price': '3,900원'},\n",
       " {'product': '[트롬]LG 트롬 RH9WGAN 듀얼인버터 건조기 9kg RH9WGAN', 'price': '745,000원'},\n",
       " {'product': '[이너리즘]5장세트 특가 남자팬티 모달 메쉬드로즈 남자속옷', 'price': '9,900원'},\n",
       " {'product': 'KF94 마스크 100매 (개당 789원특가)당일출고/개별포장', 'price': '78,890원'},\n",
       " {'product': '환상의 궁합 벌꿀 칼집왕구이 1.2kg+1.2kg 총2.4kg', 'price': '12,900원'},\n",
       " {'product': '편안한 고스판 남성 드로즈팬티 10종세트 추가할인', 'price': '27,900원'},\n",
       " {'product': '[삼성전자]그랑데건조기16KG DV16R8520KP+실내키트', 'price': '977,600원'},\n",
       " {'product': '고빛깔 복분자왕구이 1.2kgx2팩 (총 2.4kg)', 'price': '14,900원'},\n",
       " {'product': '[에쓰오일](S-OIL) 모바일주유권 5만원/ 실시간발송/ 주유상품권', 'price': '48,500원'},\n",
       " {'product': '[코디]블루 3겹 데코 화장지 27m 30롤 1팩 휴지', 'price': '7,320원'},\n",
       " {'product': '[팔도]일품 삼선짜장 120g 4개입 3팩', 'price': '7,900원'},\n",
       " {'product': '[맥심]맥심모카골드 마일드 커피믹스 320T +비치타월', 'price': '34,800원'},\n",
       " {'product': '[아이러브베베]아이러브베베물티슈핑크100매캡형X20팩', 'price': '13,900원'},\n",
       " {'product': '[LG전자]LG판매점 (JS) 일반냉장고 B507SEM 507L', 'price': '580,000원'},\n",
       " {'product': '국가부도의날 (1Disc 풀슬립 Fullslip Limited Edition) : 블루레이',\n",
       "  'price': '25,000원'},\n",
       " {'product': '전국쌀자랑 20kg 19년도 당일도정 박스포장 품질보장', 'price': '48,890원'},\n",
       " {'product': '[대웅모닝컴]대웅 3D 입체회전 리모컨 스탠드 써큘레이터 선풍기', 'price': '39,900원'},\n",
       " {'product': '[통돌이]LG전자 통돌이 세탁기 14kg(TR14WK1)', 'price': '401,500원'},\n",
       " {'product': '[제주삼다수]제주삼다수 2L 12병/생수전문배송', 'price': '11,900원'},\n",
       " {'product': '단짠 프리미엄 참쥐포 270g 최대 30장 아귀포 쥐포', 'price': '4,900원'},\n",
       " {'product': '[스카트]스카트 THE 보송 습기제거제 20개(1BOX)', 'price': '15,900원'},\n",
       " {'product': '[겔업]겔업 고농축 액체세제 2.5L x 4개 세탁세제 총10000ml', 'price': '7,900원'},\n",
       " {'product': '부안 이철희님의 소문난 뽕편육 300gx2팩', 'price': '7,900원'},\n",
       " {'product': '[랑방] 지미추 랑방 몽블랑外  남여향수 6종 2만원대 균일가+쇼핑백 증정', 'price': '22,200원'},\n",
       " {'product': '농사꾼 양심쌀 백미 20kg 2019년산 햅쌀', 'price': '48,700원'},\n",
       " {'product': '핸드폰 미러 스마트톡 + 스트랩 목걸이 케이스 크로스', 'price': '6,900원'},\n",
       " {'product': '[서울우유]서울우유 사과나무 150mlx24입', 'price': '5,900원'},\n",
       " {'product': '[목우촌]목우촌 순살 닭다리살 구이 2종세트(110 16팩)_3', 'price': '40,900원'},\n",
       " {'product': '[퍼스트클로]12%쿠폰/1+1/쿨레깅스~3900원/반바지/린넨/빅사이즈', 'price': '5,900원'},\n",
       " {'product': '[위니아](공식) 위니아 제습기 EDH18DDE 20년형(18리터)', 'price': '298,000원'},\n",
       " {'product': '[Adonis]81cm(32) LED TV 삼성정품패널 당일출고1등급 10%환급',\n",
       "  'price': '99,000원'},\n",
       " {'product': '[한상궁김치]100% 국산 겉절이 2kg 출고당일 버무린 배추 김치', 'price': '9,900원'},\n",
       " {'product': '갤러리아   갤러리아 바이어 추천  괴산 대학찰옥수수 30입 (특품)', 'price': '19,800원'},\n",
       " {'product': '국산 순면 두툼한 누빔 매트리스커버/침대/매트/커버', 'price': '9,900원'},\n",
       " {'product': '더쌀집 백미 20kg', 'price': '45,490원'},\n",
       " {'product': '[삼성전자]삼성전자 삼성 그랑데 WF19T6000KP', 'price': '849,000원'},\n",
       " {'product': '[롯데푸드]롯데햄 키스틱 25g x 100개', 'price': '17,900원'},\n",
       " {'product': '가정식 포기김치10kg/총각/깍두기/반찬 /3일특가행사', 'price': '24,650원'},\n",
       " {'product': '(현대Hmall) 얌테이블  고창 갯벌 자연산 동죽 물총조개 3kg / 2건구매시 초장',\n",
       "  'price': '10,900원'},\n",
       " {'product': 'S831W32 821L 양문형냉장고', 'price': '939,780원'},\n",
       " {'product': '오존수 세척복숭아 4kg (17-19과)', 'price': '11,900원'},\n",
       " {'product': '실리콘 만능 보관 뚜껑(6종) 덮개 랩 밀봉뚜껑', 'price': '3,760원'},\n",
       " {'product': '강블리라이프 블링 휴 30M 3겹 30롤 X 2팩/화장지/휴지', 'price': '15,900원'},\n",
       " {'product': '[에쓰오일](S-OIL) 모바일주유권 3만원/ 실시간발송/ 주유상품권', 'price': '29,100원'},\n",
       " {'product': '[닌텐도]닌텐도 스위치 모여봐요 동물의 숲 에디션', 'price': '425,900원'},\n",
       " {'product': '[삼성전자]갤럭시버즈 플러스 완전무선 블루투스 이어폰 SM-R175', 'price': '124,890원'},\n",
       " {'product': '[Miel]신상품 런칭기념 미엘물티슈 클래식 100매 캡형 20팩', 'price': '22,670원'},\n",
       " {'product': '[그래놀라]그래놀라 크랜베리570g +카카오호두510g+키친락', 'price': '10,500원'},\n",
       " {'product': '[에이지케이]리모컨 써큘레이터 선풍기/에어컨/공기순환기', 'price': '29,800원'},\n",
       " {'product': '[진라면]진라면 순한맛 용기 110g 12개', 'price': '7,900원'},\n",
       " {'product': '[현대]오늘 천연펄프 3겹 27M 30롤 3개 화장지 휴지 롤휴지', 'price': '29,120원'},\n",
       " {'product': '[네스까페]수프리모 오리지널 300T', 'price': '23,900원'},\n",
       " {'product': '[뽀송]2020년형 위닉스 제습기 10리터 DXAH100-JWK 습기제거', 'price': '216,600원'},\n",
       " {'product': '[더릭스홈]기절 마약매트리스 침대 접이식 바닥 토퍼 수면매트', 'price': '29,900원'},\n",
       " {'product': '[윈드피아]14/16/18 가정용 업소용 영업용 스탠드 벽걸이 선풍기', 'price': '17,860원'},\n",
       " {'product': '[퓨어시스]국산 덴탈 마스크 50매 여름 비말 차단 일회용 KF94', 'price': '15,900원'},\n",
       " {'product': '(행사) LEZEN 르젠 2세대 BLDC 선풍기 LZEF-DC02', 'price': '59,800원'},\n",
       " {'product': '수애랑 세면대 주방 수압상승 녹물 정수+필터 3P 세트', 'price': '15,900원'},\n",
       " {'product': '[HP]HP A4 복사용지(A4용지) 80g 2500매 2BOX/더블에이', 'price': '31,190원'},\n",
       " {'product': '[햇반]햇반 210g x 36입 (1박스)', 'price': '30,900원'},\n",
       " {'product': '파란정원 / 맛있는 책읽기 시리즈외 선택구매', 'price': '81,000원'},\n",
       " {'product': '[청정원]청정원 해물감치미1kg 10개', 'price': '95,830원'},\n",
       " {'product': '[LG전자]LG전자 A328S / R328S 컨버터블 냉동고 냉장고 LG정품',\n",
       "  'price': '685,000원'},\n",
       " {'product': '[샤오미]디어마 대용량 제습기 DEM-DT16C 15L', 'price': '99,500원'},\n",
       " {'product': '[미샤]미샤 데싱디바 전품목 단독할인 Up to 29%(8/3~8/5)', 'price': '8,480원'},\n",
       " {'product': '[제주삼다수]제주삼다수 2L 24병/생수전문배송', 'price': '23,800원'},\n",
       " {'product': '여성팬티5매 여자 팬티 맥시 미디 위생 삼각 면 스판', 'price': '5,900원'},\n",
       " {'product': '[소다스쿨]베이킹소다 대용량 3kg 2개 / 다양한 용도의 천연세제', 'price': '6,900원'},\n",
       " {'product': '[골프존](골프존) 모바일 골프문화상품권 5만원권', 'price': '49,000원'},\n",
       " {'product': '[설정숙김치본가]설정숙김치본가 배추김치10kg 국내산', 'price': '28,900원'},\n",
       " {'product': '국내산 KF-AD 비말차단 마스크 대형 화이트50매 입체형', 'price': '26,900원'},\n",
       " {'product': '[아워홈손수]지리산수 블루 2L 24병/생수전문배송', 'price': '11,600원'},\n",
       " {'product': '[맥심]맥심 모카골드마일드 커피믹스 12g 160개 2팩', 'price': '34,800원'},\n",
       " {'product': '[아이피타임]오늘출발 IPTIME A2003ns-MU 공유기/와이파이/무선', 'price': '45,900원'},\n",
       " {'product': '6개 앱소뉴트릭스 시서스 가루 분말 1600 mg 120 캡슐', 'price': '124,900원'},\n",
       " {'product': '스피드랙 3/4/5단 무볼트 경량 조립식 앵글 선반', 'price': '30,700원'},\n",
       " {'product': '[삼립]삼립 미니꿀약과 1kg x2개 무료배송', 'price': '9,500원'},\n",
       " {'product': '[골프존](골프존) 모바일 골프문화상품권 10만원권', 'price': '98,000원'},\n",
       " {'product': '[리벤스]매직폼 매직블럭 100종세트 +클린집게 2개(중대형)', 'price': '7,900원'},\n",
       " {'product': 'LG 휘센 인버터 제습기 20L DQ200PBBC 1등급', 'price': '425,900원'},\n",
       " {'product': '[레이디플러스]국내생산 3D 비말차단 검증완료 입체 3중 마스크 대형', 'price': '10,000원'},\n",
       " {'product': '[Montbell]남여공용 다리오 (DARIO) 플리스 자켓 (ML3CWUJF621/622/623)',\n",
       "  'price': '23,100원'},\n",
       " {'product': '여름용 MB필터 멜트블로운 일회용 마스크 50매 블루', 'price': '5,500원'},\n",
       " {'product': '|최대 10만원 할인||경남 펜션| 하동 꿈펜션 (하동 산청 함양)', 'price': '80,000원'},\n",
       " {'product': '행복한세상 양배추즙 100팩 100% 통양배추로~', 'price': '19,900원'},\n",
       " {'product': '[남양]초코에몽 180ml 24입', 'price': '13,900원'},\n",
       " {'product': '[햇반]햇반 매일찰잡곡밥 210g 24개', 'price': '22,900원'},\n",
       " {'product': '[아웃백스테이크하우스](아웃백/빕스)Pays 외식/카페 결합 금액권 5만원권', 'price': '46,000원'},\n",
       " {'product': '[통돌이]LG 통돌이 TR13BK 일반세탁기 13kg 스마트인버터모터', 'price': '408,000원'},\n",
       " {'product': '쏘팔코사놀 쏘팔메토 전립선 영양제 소팔메토 130캡슐', 'price': '99,900원'},\n",
       " {'product': '[머거본]쇠고기육포 25g x10개', 'price': '13,900원'},\n",
       " {'product': ' 휴안청 식약처인증 KF94 /KFAD 비말마스크 50매', 'price': '39,500원'},\n",
       " {'product': '[리바트온라인]세레나 벨벳의자(8종/택1)', 'price': '87,700원'},\n",
       " {'product': '[풀무원]얇은피 교자만두 420g 혼합8봉(고기4봉+매콤해물 4봉)', 'price': '30,900원'},\n",
       " {'product': '[트롬]LG 트롬 F21VDU 드럼세탁기 21KG 으뜸효율환급대상', 'price': '949,000원'},\n",
       " {'product': '제주 김경보님의 레드비트 5kg 맛과 영양이 더 풍부해~', 'price': '8,900원'},\n",
       " {'product': '데일리앤 여름 여리 기본 티셔츠 무지티 반팔 레터링', 'price': '7,600원'},\n",
       " {'product': '[GNM자연의품격]석류 콜라겐 젤리 스틱 3박스(총 45포) 석류즙', 'price': '25,900원'},\n",
       " {'product': '[모나리자]모나리자 미용티슈 250매 3입 4개 총12개 각티슈 휴지', 'price': '15,900원'},\n",
       " {'product': '[크리넥스]미니맥시 각티슈 250매X 6 갑티슈/휴지/사무실 46043', 'price': '9,900원'},\n",
       " {'product': '[LG전자]LG전자 그램15 15ZD990-LX10K 최저가판매', 'price': '932,940원'},\n",
       " {'product': '[삼성물산]삼성 프리미엄 그린 A4 복사용지 A4용지 75g 2BOX', 'price': '28,890원'},\n",
       " {'product': '전국쌀자랑 신동진미 10kg 19년도 당일도정 박스포장', 'price': '27,500원'},\n",
       " {'product': '[인셀덤]더마톨로지 2종 세트 (부스터+세럼)', 'price': '53,900원'},\n",
       " {'product': '[마미손]면코팅 중형고무장갑10+1 2세트이상 구매시 랩증정', 'price': '9,900원'},\n",
       " {'product': '루즈델리 10/12%쿠폰 롱원피스/빅사이즈/티셔츠/SET', 'price': '12,900원'},\n",
       " {'product': '[에쓰오일]S-OIL 모바일주유권 3만원권', 'price': '29,100원'},\n",
       " {'product': '[종근당]종근당 칼슘 앤 마그네슘 비타민D 2병 6개월', 'price': '20,900원'},\n",
       " {'product': '[롯데제과]롯데제과 롯데 비스킷 5종 총 4세트', 'price': '11,900원'},\n",
       " {'product': '[풀무원]노엣지꽉찬토핑피자 4판(불고기2+치즈1+콤비네이션1)', 'price': '26,900원'},\n",
       " {'product': '[투썸플레이스](스마일클럽) 스트로베리 초콜릿 생크림', 'price': '29,990원'},\n",
       " {'product': '완도산 활전복 구이용 1kg/25-30마리', 'price': '24,650원'},\n",
       " {'product': '[뉴케어]뉴케어 구수한맛 200ml x 30팩 환자영양보충 선호1위', 'price': '41,900원'},\n",
       " {'product': '[프로스펙스]오리지널 남성여성 워킹화 디스트릭 901 902 903', 'price': '29,160원'},\n",
       " {'product': '호두파이 가장행복한베이커리 호두파이850g 원형', 'price': '14,500원'},\n",
       " {'product': '[아이디어패드]SLIM3-15ARE R3 그레이/ R3-4300U/ 램4G증정(동봉)',\n",
       "  'price': '459,000원'},\n",
       " {'product': '[한상궁김치]100% 국산 열무김치 2kg /오늘은 시원한 열무냉면', 'price': '9,900원'},\n",
       " {'product': '[파머스토리](산과들에) 미국산 호두 1/4태 400gX2봉', 'price': '10,500원'},\n",
       " {'product': '[뽀송]공식인증 위닉스 제습기 16리터 DN2H160-IWK 1등급', 'price': '349,000원'},\n",
       " {'product': '가성비 아침이슬 여름사과 햇 아오리 5kg 한입(28-35)', 'price': '7,500원'},\n",
       " {'product': '|최대 10만원 할인||충남 펜션| 태안(안면도) 만리포호텔 (태안 안면도 서산)',\n",
       "  'price': '50,000원'},\n",
       " {'product': '이지컷팅테이프크리너리필9개 찍찍이테이프 돌돌이', 'price': '6,900원'},\n",
       " {'product': '[뽀송]위닉스 제습기 {DN2H160-IWK} 16리터 1등급 위닉스뽀송', 'price': '390,000원'},\n",
       " {'product': '(교과서 옆 필수구비서)초등개념사전 수학/과학/사회/한국사/세계사 시리즈/낱권 선택구매',\n",
       "  'price': '21,000원'},\n",
       " {'product': '[동원에프앤비]동원 개성 왕새우 만두 630g 3개', 'price': '17,500원'},\n",
       " {'product': '통돌이 LG 통돌이 TR16VK 일반세탁기 16kg', 'price': '496,800원'},\n",
       " {'product': '아희패션 원피스 블라우스 스커트 가디건 자켓', 'price': '9,900원'},\n",
       " {'product': '다이슨 HD03 다이슨 슈퍼소닉 헤어 드라이어 HD03', 'price': '360,900원'},\n",
       " {'product': '[LG전자]19년형 울트라HD TV 60UT640S0NA 60인치 스탠드형', 'price': '818,900원'},\n",
       " {'product': '[필립스]데일리 컬렉션 토스터 HD2584/30', 'price': '29,150원'},\n",
       " {'product': '[헬로]헬로 순수 3겹 천연펄프 화장지 30m 30롤 3팩 특가행사', 'price': '29,900원'},\n",
       " {'product': '[밀크]밀크 A4용지 80g 2박스(4000매) A4 복시용지 복사지', 'price': '34,590원'},\n",
       " {'product': '[맥심]맥심모카골드 커피믹스 400T+사은품+할인쿠폰4000원', 'price': '42,900원'},\n",
       " {'product': '제주양돈농협 냉장 제주돼지 구이살 400g x 5팩 총2kg', 'price': '9,900원'},\n",
       " {'product': '[참사랑김치]맛보기초특가/김치10kg/포기김치/맛김치(썰은김치)', 'price': '12,370원'},\n",
       " {'product': '어선생 보리 굴비 3마리(30cm내외)/순살 굴비/반찬', 'price': '17,810원'},\n",
       " {'product': '[삼성전자]삼성전자 삼성 그랑데 WF19T6000KP', 'price': '849,000원'},\n",
       " {'product': '코잡라이스 쌀 순수미 20kg/2019년 햅쌀 당일도정 쌀', 'price': '45,990원'},\n",
       " {'product': '(현대Hmall) 다향오리  훈제오리 200gx11팩 +  소스증정', 'price': '25,900원'},\n",
       " {'product': '패션라인 12%쿠폰 펀칭원피스/블라우스/티셔츠/박시', 'price': '12,900원'},\n",
       " {'product': '[아워홈손수]지리산수 블루 2L 12병/생수전문배송', 'price': '5,900원'},\n",
       " {'product': '아이러브베베 아기물티슈 Plus옐로우120매 리필형X20팩', 'price': '13,900원'},\n",
       " {'product': '성주꿀 아삭 참외 오늘의추천 가정용랜덤10kg 판매1위', 'price': '7,890원'},\n",
       " {'product': '[롬앤]~64%off 롬앤x네온문 한정 콜라보 특가전', 'price': '12,900원'},\n",
       " {'product': '스피드랙 철제 무볼트조립식 앵글선반 베란다 수납장', 'price': '27,000원'},\n",
       " {'product': '[나무야나무야]나무야 도톰한 3겹데코 30m 30롤 3팩/화장지/휴지', 'price': '29,800원'},\n",
       " {'product': '[농협]보성다향미20kg/쌀20kg 2019 백미20kg/당일도정/상등급', 'price': '49,890원'},\n",
       " {'product': '[쿠첸]쿠첸 전기밥솥 IH방식 6인용(CJR-PM0610RHW/2019년형)',\n",
       "  'price': '327,690원'},\n",
       " {'product': '[애경]르샤트라 고농축섬유유연제 피오니부케향1.6L 3개 리필', 'price': '16,900원'},\n",
       " {'product': '(프로젝트M(PROJECT M)) (신세계의정부점) 프로젝트M 여름반바지 남 여 5종택1 (EPA2PH1901/EPA2PH902/E...',\n",
       "  'price': '11,070원'},\n",
       " {'product': '[풀무원]얇은피 교자만두 고기420g 6봉', 'price': '23,900원'},\n",
       " {'product': '[한상궁김치]100% 국산 포기김치 10kg 맛있는 양념 풍부한 배추김치', 'price': '36,900원'},\n",
       " {'product': '[코디]코디 홈데코 롤화장지 30롤 3팩 / 휴지 티슈 키친타올', 'price': '24,900원'},\n",
       " {'product': '[필립스]PHILIPS 커피메이커 그라인드 앱 드립 HD7761/00', 'price': '135,000원'},\n",
       " {'product': '[신일전자]신일 초미풍 스탠드 선풍기 SIF-D14BS', 'price': '54,900원'},\n",
       " {'product': 'who 세계 위인 양장본', 'price': '4,860원'},\n",
       " {'product': '[오동통면]오동통면 1팩 맛남의광장 한정판', 'price': '1,980원'},\n",
       " {'product': '냉장/냉동 제주흑돼지 500g x 4팩 균일가전(구이/보쌈/불고기/찌개외)', 'price': '10,840원'},\n",
       " {'product': '[키자니아](카드10%할인)사전예약필수/직업체험 NO.1 키자니아 서울/부산 이용권(8/1~9/30) / 직업체험',\n",
       "  'price': '27,300원'},\n",
       " {'product': '쏘렌 고급형 남성 남자 사무실슬리퍼 실내화', 'price': '15,700원'},\n",
       " {'product': '[유닉스]메탈티 무광블랙 1600W 헤어 드라이기 UN-A1610 접이식', 'price': '22,900원'},\n",
       " {'product': '시즌오프 여자남자 덧신 페이크삭스 발목 중목양말', 'price': '6,900원'},\n",
       " {'product': '[맥심]맥심 화이트골드 커피믹스 320T', 'price': '32,900원'},\n",
       " {'product': '[Aaron]미용실전용 실크 스넬트리트먼트컬러 새치염색약', 'price': '20,000원'},\n",
       " {'product': '[LG전자]LED TV 평면 벽걸이형 138cm(55UM7800ENA/각도조절)',\n",
       "  'price': '724,060원'},\n",
       " {'product': '아오맥스 카본 원투낚시대 3종세트/바다 낚시대 홈쇼핑', 'price': '127,710원'},\n",
       " {'product': '[스파클]스파클생수 500ml 60병', 'price': '10,900원'},\n",
       " {'product': '[힐링팩토리]캐나다직수입 오메가3 1303mg+비타민D 1000IU  6개월', 'price': '16,900원'},\n",
       " {'product': '[SK매직]트리플케어 식기세척기 DWA-19R0P 자동 문 열림닫힘', 'price': '778,130원'},\n",
       " {'product': '[파세코](10%쿠폰) 파세코 창문형 에어컨2 PWA-3200WE/인버터', 'price': '719,000원'},\n",
       " {'product': '더쌀집 백미 10kg (19년산/무료배송/박스포장)', 'price': '23,890원'}]"
      ]
     },
     "execution_count": 64,
     "metadata": {},
     "output_type": "execute_result"
    }
   ],
   "source": [
    "import requests\n",
    "from bs4 import BeautifulSoup\n",
    "import json\n",
    "\n",
    "Auction_url='http://corners.auction.co.kr/corner/CategoryBest.aspx'\n",
    "\n",
    "resp=requests.get(Auction_url)\n",
    "\n",
    "\n",
    "soup=BeautifulSoup(resp.text)\n",
    "\n",
    "\n",
    "Auction_product_list=soup.select('div.uxc-aucbest-cont>div>ul>li>div>div>em>a')\n",
    "Auction_price_list=soup.select('div.uxc-aucbest-cont>div>ul>li>div>div>ul>li>span.sale')\n",
    "\n",
    "Auction_result_list=[]\n",
    "for product,price in zip(Auction_product_list,Auction_price_list):\n",
    "    Auction_result_list.append({\n",
    "        'product':product.text,\n",
    "        'price':price.text.strip() # 출력 ex) 10000원\n",
    "    })\n",
    "    \n",
    "Auction_result_list"
   ]
  },
  {
   "cell_type": "code",
   "execution_count": 67,
   "metadata": {
    "collapsed": true
   },
   "outputs": [
    {
     "ename": "ConnectionError",
     "evalue": "('Connection aborted.', TimeoutError(10060, '연결된 구성원으로부터 응답이 없어 연결하지 못했거나, 호스트로부터 응답이 없어 연결이 끊어졌습니다', None, 10060, None))",
     "output_type": "error",
     "traceback": [
      "\u001b[1;31m---------------------------------------------------------------------------\u001b[0m",
      "\u001b[1;31mTimeoutError\u001b[0m                              Traceback (most recent call last)",
      "\u001b[1;32m~\\.conda\\envs\\study1\\lib\\site-packages\\urllib3\\connectionpool.py\u001b[0m in \u001b[0;36murlopen\u001b[1;34m(self, method, url, body, headers, retries, redirect, assert_same_host, timeout, pool_timeout, release_conn, chunked, body_pos, **response_kw)\u001b[0m\n\u001b[0;32m    669\u001b[0m             \u001b[1;31m# Make the request on the httplib connection object.\u001b[0m\u001b[1;33m\u001b[0m\u001b[1;33m\u001b[0m\u001b[1;33m\u001b[0m\u001b[0m\n\u001b[1;32m--> 670\u001b[1;33m             httplib_response = self._make_request(\n\u001b[0m\u001b[0;32m    671\u001b[0m                 \u001b[0mconn\u001b[0m\u001b[1;33m,\u001b[0m\u001b[1;33m\u001b[0m\u001b[1;33m\u001b[0m\u001b[0m\n",
      "\u001b[1;32m~\\.conda\\envs\\study1\\lib\\site-packages\\urllib3\\connectionpool.py\u001b[0m in \u001b[0;36m_make_request\u001b[1;34m(self, conn, method, url, timeout, chunked, **httplib_request_kw)\u001b[0m\n\u001b[0;32m    425\u001b[0m                     \u001b[1;31m# Otherwise it looks like a bug in the code.\u001b[0m\u001b[1;33m\u001b[0m\u001b[1;33m\u001b[0m\u001b[1;33m\u001b[0m\u001b[0m\n\u001b[1;32m--> 426\u001b[1;33m                     \u001b[0msix\u001b[0m\u001b[1;33m.\u001b[0m\u001b[0mraise_from\u001b[0m\u001b[1;33m(\u001b[0m\u001b[0me\u001b[0m\u001b[1;33m,\u001b[0m \u001b[1;32mNone\u001b[0m\u001b[1;33m)\u001b[0m\u001b[1;33m\u001b[0m\u001b[1;33m\u001b[0m\u001b[0m\n\u001b[0m\u001b[0;32m    427\u001b[0m         \u001b[1;32mexcept\u001b[0m \u001b[1;33m(\u001b[0m\u001b[0mSocketTimeout\u001b[0m\u001b[1;33m,\u001b[0m \u001b[0mBaseSSLError\u001b[0m\u001b[1;33m,\u001b[0m \u001b[0mSocketError\u001b[0m\u001b[1;33m)\u001b[0m \u001b[1;32mas\u001b[0m \u001b[0me\u001b[0m\u001b[1;33m:\u001b[0m\u001b[1;33m\u001b[0m\u001b[1;33m\u001b[0m\u001b[0m\n",
      "\u001b[1;32m~\\.conda\\envs\\study1\\lib\\site-packages\\urllib3\\packages\\six.py\u001b[0m in \u001b[0;36mraise_from\u001b[1;34m(value, from_value)\u001b[0m\n",
      "\u001b[1;32m~\\.conda\\envs\\study1\\lib\\site-packages\\urllib3\\connectionpool.py\u001b[0m in \u001b[0;36m_make_request\u001b[1;34m(self, conn, method, url, timeout, chunked, **httplib_request_kw)\u001b[0m\n\u001b[0;32m    420\u001b[0m                 \u001b[1;32mtry\u001b[0m\u001b[1;33m:\u001b[0m\u001b[1;33m\u001b[0m\u001b[1;33m\u001b[0m\u001b[0m\n\u001b[1;32m--> 421\u001b[1;33m                     \u001b[0mhttplib_response\u001b[0m \u001b[1;33m=\u001b[0m \u001b[0mconn\u001b[0m\u001b[1;33m.\u001b[0m\u001b[0mgetresponse\u001b[0m\u001b[1;33m(\u001b[0m\u001b[1;33m)\u001b[0m\u001b[1;33m\u001b[0m\u001b[1;33m\u001b[0m\u001b[0m\n\u001b[0m\u001b[0;32m    422\u001b[0m                 \u001b[1;32mexcept\u001b[0m \u001b[0mBaseException\u001b[0m \u001b[1;32mas\u001b[0m \u001b[0me\u001b[0m\u001b[1;33m:\u001b[0m\u001b[1;33m\u001b[0m\u001b[1;33m\u001b[0m\u001b[0m\n",
      "\u001b[1;32m~\\.conda\\envs\\study1\\lib\\http\\client.py\u001b[0m in \u001b[0;36mgetresponse\u001b[1;34m(self)\u001b[0m\n\u001b[0;32m   1331\u001b[0m             \u001b[1;32mtry\u001b[0m\u001b[1;33m:\u001b[0m\u001b[1;33m\u001b[0m\u001b[1;33m\u001b[0m\u001b[0m\n\u001b[1;32m-> 1332\u001b[1;33m                 \u001b[0mresponse\u001b[0m\u001b[1;33m.\u001b[0m\u001b[0mbegin\u001b[0m\u001b[1;33m(\u001b[0m\u001b[1;33m)\u001b[0m\u001b[1;33m\u001b[0m\u001b[1;33m\u001b[0m\u001b[0m\n\u001b[0m\u001b[0;32m   1333\u001b[0m             \u001b[1;32mexcept\u001b[0m \u001b[0mConnectionError\u001b[0m\u001b[1;33m:\u001b[0m\u001b[1;33m\u001b[0m\u001b[1;33m\u001b[0m\u001b[0m\n",
      "\u001b[1;32m~\\.conda\\envs\\study1\\lib\\http\\client.py\u001b[0m in \u001b[0;36mbegin\u001b[1;34m(self)\u001b[0m\n\u001b[0;32m    302\u001b[0m         \u001b[1;32mwhile\u001b[0m \u001b[1;32mTrue\u001b[0m\u001b[1;33m:\u001b[0m\u001b[1;33m\u001b[0m\u001b[1;33m\u001b[0m\u001b[0m\n\u001b[1;32m--> 303\u001b[1;33m             \u001b[0mversion\u001b[0m\u001b[1;33m,\u001b[0m \u001b[0mstatus\u001b[0m\u001b[1;33m,\u001b[0m \u001b[0mreason\u001b[0m \u001b[1;33m=\u001b[0m \u001b[0mself\u001b[0m\u001b[1;33m.\u001b[0m\u001b[0m_read_status\u001b[0m\u001b[1;33m(\u001b[0m\u001b[1;33m)\u001b[0m\u001b[1;33m\u001b[0m\u001b[1;33m\u001b[0m\u001b[0m\n\u001b[0m\u001b[0;32m    304\u001b[0m             \u001b[1;32mif\u001b[0m \u001b[0mstatus\u001b[0m \u001b[1;33m!=\u001b[0m \u001b[0mCONTINUE\u001b[0m\u001b[1;33m:\u001b[0m\u001b[1;33m\u001b[0m\u001b[1;33m\u001b[0m\u001b[0m\n",
      "\u001b[1;32m~\\.conda\\envs\\study1\\lib\\http\\client.py\u001b[0m in \u001b[0;36m_read_status\u001b[1;34m(self)\u001b[0m\n\u001b[0;32m    263\u001b[0m     \u001b[1;32mdef\u001b[0m \u001b[0m_read_status\u001b[0m\u001b[1;33m(\u001b[0m\u001b[0mself\u001b[0m\u001b[1;33m)\u001b[0m\u001b[1;33m:\u001b[0m\u001b[1;33m\u001b[0m\u001b[1;33m\u001b[0m\u001b[0m\n\u001b[1;32m--> 264\u001b[1;33m         \u001b[0mline\u001b[0m \u001b[1;33m=\u001b[0m \u001b[0mstr\u001b[0m\u001b[1;33m(\u001b[0m\u001b[0mself\u001b[0m\u001b[1;33m.\u001b[0m\u001b[0mfp\u001b[0m\u001b[1;33m.\u001b[0m\u001b[0mreadline\u001b[0m\u001b[1;33m(\u001b[0m\u001b[0m_MAXLINE\u001b[0m \u001b[1;33m+\u001b[0m \u001b[1;36m1\u001b[0m\u001b[1;33m)\u001b[0m\u001b[1;33m,\u001b[0m \u001b[1;34m\"iso-8859-1\"\u001b[0m\u001b[1;33m)\u001b[0m\u001b[1;33m\u001b[0m\u001b[1;33m\u001b[0m\u001b[0m\n\u001b[0m\u001b[0;32m    265\u001b[0m         \u001b[1;32mif\u001b[0m \u001b[0mlen\u001b[0m\u001b[1;33m(\u001b[0m\u001b[0mline\u001b[0m\u001b[1;33m)\u001b[0m \u001b[1;33m>\u001b[0m \u001b[0m_MAXLINE\u001b[0m\u001b[1;33m:\u001b[0m\u001b[1;33m\u001b[0m\u001b[1;33m\u001b[0m\u001b[0m\n",
      "\u001b[1;32m~\\.conda\\envs\\study1\\lib\\socket.py\u001b[0m in \u001b[0;36mreadinto\u001b[1;34m(self, b)\u001b[0m\n\u001b[0;32m    668\u001b[0m             \u001b[1;32mtry\u001b[0m\u001b[1;33m:\u001b[0m\u001b[1;33m\u001b[0m\u001b[1;33m\u001b[0m\u001b[0m\n\u001b[1;32m--> 669\u001b[1;33m                 \u001b[1;32mreturn\u001b[0m \u001b[0mself\u001b[0m\u001b[1;33m.\u001b[0m\u001b[0m_sock\u001b[0m\u001b[1;33m.\u001b[0m\u001b[0mrecv_into\u001b[0m\u001b[1;33m(\u001b[0m\u001b[0mb\u001b[0m\u001b[1;33m)\u001b[0m\u001b[1;33m\u001b[0m\u001b[1;33m\u001b[0m\u001b[0m\n\u001b[0m\u001b[0;32m    670\u001b[0m             \u001b[1;32mexcept\u001b[0m \u001b[0mtimeout\u001b[0m\u001b[1;33m:\u001b[0m\u001b[1;33m\u001b[0m\u001b[1;33m\u001b[0m\u001b[0m\n",
      "\u001b[1;32m~\\.conda\\envs\\study1\\lib\\ssl.py\u001b[0m in \u001b[0;36mrecv_into\u001b[1;34m(self, buffer, nbytes, flags)\u001b[0m\n\u001b[0;32m   1240\u001b[0m                   self.__class__)\n\u001b[1;32m-> 1241\u001b[1;33m             \u001b[1;32mreturn\u001b[0m \u001b[0mself\u001b[0m\u001b[1;33m.\u001b[0m\u001b[0mread\u001b[0m\u001b[1;33m(\u001b[0m\u001b[0mnbytes\u001b[0m\u001b[1;33m,\u001b[0m \u001b[0mbuffer\u001b[0m\u001b[1;33m)\u001b[0m\u001b[1;33m\u001b[0m\u001b[1;33m\u001b[0m\u001b[0m\n\u001b[0m\u001b[0;32m   1242\u001b[0m         \u001b[1;32melse\u001b[0m\u001b[1;33m:\u001b[0m\u001b[1;33m\u001b[0m\u001b[1;33m\u001b[0m\u001b[0m\n",
      "\u001b[1;32m~\\.conda\\envs\\study1\\lib\\ssl.py\u001b[0m in \u001b[0;36mread\u001b[1;34m(self, len, buffer)\u001b[0m\n\u001b[0;32m   1098\u001b[0m             \u001b[1;32mif\u001b[0m \u001b[0mbuffer\u001b[0m \u001b[1;32mis\u001b[0m \u001b[1;32mnot\u001b[0m \u001b[1;32mNone\u001b[0m\u001b[1;33m:\u001b[0m\u001b[1;33m\u001b[0m\u001b[1;33m\u001b[0m\u001b[0m\n\u001b[1;32m-> 1099\u001b[1;33m                 \u001b[1;32mreturn\u001b[0m \u001b[0mself\u001b[0m\u001b[1;33m.\u001b[0m\u001b[0m_sslobj\u001b[0m\u001b[1;33m.\u001b[0m\u001b[0mread\u001b[0m\u001b[1;33m(\u001b[0m\u001b[0mlen\u001b[0m\u001b[1;33m,\u001b[0m \u001b[0mbuffer\u001b[0m\u001b[1;33m)\u001b[0m\u001b[1;33m\u001b[0m\u001b[1;33m\u001b[0m\u001b[0m\n\u001b[0m\u001b[0;32m   1100\u001b[0m             \u001b[1;32melse\u001b[0m\u001b[1;33m:\u001b[0m\u001b[1;33m\u001b[0m\u001b[1;33m\u001b[0m\u001b[0m\n",
      "\u001b[1;31mTimeoutError\u001b[0m: [WinError 10060] 연결된 구성원으로부터 응답이 없어 연결하지 못했거나, 호스트로부터 응답이 없어 연결이 끊어졌습니다",
      "\nDuring handling of the above exception, another exception occurred:\n",
      "\u001b[1;31mProtocolError\u001b[0m                             Traceback (most recent call last)",
      "\u001b[1;32m~\\.conda\\envs\\study1\\lib\\site-packages\\requests\\adapters.py\u001b[0m in \u001b[0;36msend\u001b[1;34m(self, request, stream, timeout, verify, cert, proxies)\u001b[0m\n\u001b[0;32m    438\u001b[0m             \u001b[1;32mif\u001b[0m \u001b[1;32mnot\u001b[0m \u001b[0mchunked\u001b[0m\u001b[1;33m:\u001b[0m\u001b[1;33m\u001b[0m\u001b[1;33m\u001b[0m\u001b[0m\n\u001b[1;32m--> 439\u001b[1;33m                 resp = conn.urlopen(\n\u001b[0m\u001b[0;32m    440\u001b[0m                     \u001b[0mmethod\u001b[0m\u001b[1;33m=\u001b[0m\u001b[0mrequest\u001b[0m\u001b[1;33m.\u001b[0m\u001b[0mmethod\u001b[0m\u001b[1;33m,\u001b[0m\u001b[1;33m\u001b[0m\u001b[1;33m\u001b[0m\u001b[0m\n",
      "\u001b[1;32m~\\.conda\\envs\\study1\\lib\\site-packages\\urllib3\\connectionpool.py\u001b[0m in \u001b[0;36murlopen\u001b[1;34m(self, method, url, body, headers, retries, redirect, assert_same_host, timeout, pool_timeout, release_conn, chunked, body_pos, **response_kw)\u001b[0m\n\u001b[0;32m    723\u001b[0m \u001b[1;33m\u001b[0m\u001b[0m\n\u001b[1;32m--> 724\u001b[1;33m             retries = retries.increment(\n\u001b[0m\u001b[0;32m    725\u001b[0m                 \u001b[0mmethod\u001b[0m\u001b[1;33m,\u001b[0m \u001b[0murl\u001b[0m\u001b[1;33m,\u001b[0m \u001b[0merror\u001b[0m\u001b[1;33m=\u001b[0m\u001b[0me\u001b[0m\u001b[1;33m,\u001b[0m \u001b[0m_pool\u001b[0m\u001b[1;33m=\u001b[0m\u001b[0mself\u001b[0m\u001b[1;33m,\u001b[0m \u001b[0m_stacktrace\u001b[0m\u001b[1;33m=\u001b[0m\u001b[0msys\u001b[0m\u001b[1;33m.\u001b[0m\u001b[0mexc_info\u001b[0m\u001b[1;33m(\u001b[0m\u001b[1;33m)\u001b[0m\u001b[1;33m[\u001b[0m\u001b[1;36m2\u001b[0m\u001b[1;33m]\u001b[0m\u001b[1;33m\u001b[0m\u001b[1;33m\u001b[0m\u001b[0m\n",
      "\u001b[1;32m~\\.conda\\envs\\study1\\lib\\site-packages\\urllib3\\util\\retry.py\u001b[0m in \u001b[0;36mincrement\u001b[1;34m(self, method, url, response, error, _pool, _stacktrace)\u001b[0m\n\u001b[0;32m    402\u001b[0m             \u001b[1;32mif\u001b[0m \u001b[0mread\u001b[0m \u001b[1;32mis\u001b[0m \u001b[1;32mFalse\u001b[0m \u001b[1;32mor\u001b[0m \u001b[1;32mnot\u001b[0m \u001b[0mself\u001b[0m\u001b[1;33m.\u001b[0m\u001b[0m_is_method_retryable\u001b[0m\u001b[1;33m(\u001b[0m\u001b[0mmethod\u001b[0m\u001b[1;33m)\u001b[0m\u001b[1;33m:\u001b[0m\u001b[1;33m\u001b[0m\u001b[1;33m\u001b[0m\u001b[0m\n\u001b[1;32m--> 403\u001b[1;33m                 \u001b[1;32mraise\u001b[0m \u001b[0msix\u001b[0m\u001b[1;33m.\u001b[0m\u001b[0mreraise\u001b[0m\u001b[1;33m(\u001b[0m\u001b[0mtype\u001b[0m\u001b[1;33m(\u001b[0m\u001b[0merror\u001b[0m\u001b[1;33m)\u001b[0m\u001b[1;33m,\u001b[0m \u001b[0merror\u001b[0m\u001b[1;33m,\u001b[0m \u001b[0m_stacktrace\u001b[0m\u001b[1;33m)\u001b[0m\u001b[1;33m\u001b[0m\u001b[1;33m\u001b[0m\u001b[0m\n\u001b[0m\u001b[0;32m    404\u001b[0m             \u001b[1;32melif\u001b[0m \u001b[0mread\u001b[0m \u001b[1;32mis\u001b[0m \u001b[1;32mnot\u001b[0m \u001b[1;32mNone\u001b[0m\u001b[1;33m:\u001b[0m\u001b[1;33m\u001b[0m\u001b[1;33m\u001b[0m\u001b[0m\n",
      "\u001b[1;32m~\\.conda\\envs\\study1\\lib\\site-packages\\urllib3\\packages\\six.py\u001b[0m in \u001b[0;36mreraise\u001b[1;34m(tp, value, tb)\u001b[0m\n\u001b[0;32m    733\u001b[0m             \u001b[1;32mif\u001b[0m \u001b[0mvalue\u001b[0m\u001b[1;33m.\u001b[0m\u001b[0m__traceback__\u001b[0m \u001b[1;32mis\u001b[0m \u001b[1;32mnot\u001b[0m \u001b[0mtb\u001b[0m\u001b[1;33m:\u001b[0m\u001b[1;33m\u001b[0m\u001b[1;33m\u001b[0m\u001b[0m\n\u001b[1;32m--> 734\u001b[1;33m                 \u001b[1;32mraise\u001b[0m \u001b[0mvalue\u001b[0m\u001b[1;33m.\u001b[0m\u001b[0mwith_traceback\u001b[0m\u001b[1;33m(\u001b[0m\u001b[0mtb\u001b[0m\u001b[1;33m)\u001b[0m\u001b[1;33m\u001b[0m\u001b[1;33m\u001b[0m\u001b[0m\n\u001b[0m\u001b[0;32m    735\u001b[0m             \u001b[1;32mraise\u001b[0m \u001b[0mvalue\u001b[0m\u001b[1;33m\u001b[0m\u001b[1;33m\u001b[0m\u001b[0m\n",
      "\u001b[1;32m~\\.conda\\envs\\study1\\lib\\site-packages\\urllib3\\connectionpool.py\u001b[0m in \u001b[0;36murlopen\u001b[1;34m(self, method, url, body, headers, retries, redirect, assert_same_host, timeout, pool_timeout, release_conn, chunked, body_pos, **response_kw)\u001b[0m\n\u001b[0;32m    669\u001b[0m             \u001b[1;31m# Make the request on the httplib connection object.\u001b[0m\u001b[1;33m\u001b[0m\u001b[1;33m\u001b[0m\u001b[1;33m\u001b[0m\u001b[0m\n\u001b[1;32m--> 670\u001b[1;33m             httplib_response = self._make_request(\n\u001b[0m\u001b[0;32m    671\u001b[0m                 \u001b[0mconn\u001b[0m\u001b[1;33m,\u001b[0m\u001b[1;33m\u001b[0m\u001b[1;33m\u001b[0m\u001b[0m\n",
      "\u001b[1;32m~\\.conda\\envs\\study1\\lib\\site-packages\\urllib3\\connectionpool.py\u001b[0m in \u001b[0;36m_make_request\u001b[1;34m(self, conn, method, url, timeout, chunked, **httplib_request_kw)\u001b[0m\n\u001b[0;32m    425\u001b[0m                     \u001b[1;31m# Otherwise it looks like a bug in the code.\u001b[0m\u001b[1;33m\u001b[0m\u001b[1;33m\u001b[0m\u001b[1;33m\u001b[0m\u001b[0m\n\u001b[1;32m--> 426\u001b[1;33m                     \u001b[0msix\u001b[0m\u001b[1;33m.\u001b[0m\u001b[0mraise_from\u001b[0m\u001b[1;33m(\u001b[0m\u001b[0me\u001b[0m\u001b[1;33m,\u001b[0m \u001b[1;32mNone\u001b[0m\u001b[1;33m)\u001b[0m\u001b[1;33m\u001b[0m\u001b[1;33m\u001b[0m\u001b[0m\n\u001b[0m\u001b[0;32m    427\u001b[0m         \u001b[1;32mexcept\u001b[0m \u001b[1;33m(\u001b[0m\u001b[0mSocketTimeout\u001b[0m\u001b[1;33m,\u001b[0m \u001b[0mBaseSSLError\u001b[0m\u001b[1;33m,\u001b[0m \u001b[0mSocketError\u001b[0m\u001b[1;33m)\u001b[0m \u001b[1;32mas\u001b[0m \u001b[0me\u001b[0m\u001b[1;33m:\u001b[0m\u001b[1;33m\u001b[0m\u001b[1;33m\u001b[0m\u001b[0m\n",
      "\u001b[1;32m~\\.conda\\envs\\study1\\lib\\site-packages\\urllib3\\packages\\six.py\u001b[0m in \u001b[0;36mraise_from\u001b[1;34m(value, from_value)\u001b[0m\n",
      "\u001b[1;32m~\\.conda\\envs\\study1\\lib\\site-packages\\urllib3\\connectionpool.py\u001b[0m in \u001b[0;36m_make_request\u001b[1;34m(self, conn, method, url, timeout, chunked, **httplib_request_kw)\u001b[0m\n\u001b[0;32m    420\u001b[0m                 \u001b[1;32mtry\u001b[0m\u001b[1;33m:\u001b[0m\u001b[1;33m\u001b[0m\u001b[1;33m\u001b[0m\u001b[0m\n\u001b[1;32m--> 421\u001b[1;33m                     \u001b[0mhttplib_response\u001b[0m \u001b[1;33m=\u001b[0m \u001b[0mconn\u001b[0m\u001b[1;33m.\u001b[0m\u001b[0mgetresponse\u001b[0m\u001b[1;33m(\u001b[0m\u001b[1;33m)\u001b[0m\u001b[1;33m\u001b[0m\u001b[1;33m\u001b[0m\u001b[0m\n\u001b[0m\u001b[0;32m    422\u001b[0m                 \u001b[1;32mexcept\u001b[0m \u001b[0mBaseException\u001b[0m \u001b[1;32mas\u001b[0m \u001b[0me\u001b[0m\u001b[1;33m:\u001b[0m\u001b[1;33m\u001b[0m\u001b[1;33m\u001b[0m\u001b[0m\n",
      "\u001b[1;32m~\\.conda\\envs\\study1\\lib\\http\\client.py\u001b[0m in \u001b[0;36mgetresponse\u001b[1;34m(self)\u001b[0m\n\u001b[0;32m   1331\u001b[0m             \u001b[1;32mtry\u001b[0m\u001b[1;33m:\u001b[0m\u001b[1;33m\u001b[0m\u001b[1;33m\u001b[0m\u001b[0m\n\u001b[1;32m-> 1332\u001b[1;33m                 \u001b[0mresponse\u001b[0m\u001b[1;33m.\u001b[0m\u001b[0mbegin\u001b[0m\u001b[1;33m(\u001b[0m\u001b[1;33m)\u001b[0m\u001b[1;33m\u001b[0m\u001b[1;33m\u001b[0m\u001b[0m\n\u001b[0m\u001b[0;32m   1333\u001b[0m             \u001b[1;32mexcept\u001b[0m \u001b[0mConnectionError\u001b[0m\u001b[1;33m:\u001b[0m\u001b[1;33m\u001b[0m\u001b[1;33m\u001b[0m\u001b[0m\n",
      "\u001b[1;32m~\\.conda\\envs\\study1\\lib\\http\\client.py\u001b[0m in \u001b[0;36mbegin\u001b[1;34m(self)\u001b[0m\n\u001b[0;32m    302\u001b[0m         \u001b[1;32mwhile\u001b[0m \u001b[1;32mTrue\u001b[0m\u001b[1;33m:\u001b[0m\u001b[1;33m\u001b[0m\u001b[1;33m\u001b[0m\u001b[0m\n\u001b[1;32m--> 303\u001b[1;33m             \u001b[0mversion\u001b[0m\u001b[1;33m,\u001b[0m \u001b[0mstatus\u001b[0m\u001b[1;33m,\u001b[0m \u001b[0mreason\u001b[0m \u001b[1;33m=\u001b[0m \u001b[0mself\u001b[0m\u001b[1;33m.\u001b[0m\u001b[0m_read_status\u001b[0m\u001b[1;33m(\u001b[0m\u001b[1;33m)\u001b[0m\u001b[1;33m\u001b[0m\u001b[1;33m\u001b[0m\u001b[0m\n\u001b[0m\u001b[0;32m    304\u001b[0m             \u001b[1;32mif\u001b[0m \u001b[0mstatus\u001b[0m \u001b[1;33m!=\u001b[0m \u001b[0mCONTINUE\u001b[0m\u001b[1;33m:\u001b[0m\u001b[1;33m\u001b[0m\u001b[1;33m\u001b[0m\u001b[0m\n",
      "\u001b[1;32m~\\.conda\\envs\\study1\\lib\\http\\client.py\u001b[0m in \u001b[0;36m_read_status\u001b[1;34m(self)\u001b[0m\n\u001b[0;32m    263\u001b[0m     \u001b[1;32mdef\u001b[0m \u001b[0m_read_status\u001b[0m\u001b[1;33m(\u001b[0m\u001b[0mself\u001b[0m\u001b[1;33m)\u001b[0m\u001b[1;33m:\u001b[0m\u001b[1;33m\u001b[0m\u001b[1;33m\u001b[0m\u001b[0m\n\u001b[1;32m--> 264\u001b[1;33m         \u001b[0mline\u001b[0m \u001b[1;33m=\u001b[0m \u001b[0mstr\u001b[0m\u001b[1;33m(\u001b[0m\u001b[0mself\u001b[0m\u001b[1;33m.\u001b[0m\u001b[0mfp\u001b[0m\u001b[1;33m.\u001b[0m\u001b[0mreadline\u001b[0m\u001b[1;33m(\u001b[0m\u001b[0m_MAXLINE\u001b[0m \u001b[1;33m+\u001b[0m \u001b[1;36m1\u001b[0m\u001b[1;33m)\u001b[0m\u001b[1;33m,\u001b[0m \u001b[1;34m\"iso-8859-1\"\u001b[0m\u001b[1;33m)\u001b[0m\u001b[1;33m\u001b[0m\u001b[1;33m\u001b[0m\u001b[0m\n\u001b[0m\u001b[0;32m    265\u001b[0m         \u001b[1;32mif\u001b[0m \u001b[0mlen\u001b[0m\u001b[1;33m(\u001b[0m\u001b[0mline\u001b[0m\u001b[1;33m)\u001b[0m \u001b[1;33m>\u001b[0m \u001b[0m_MAXLINE\u001b[0m\u001b[1;33m:\u001b[0m\u001b[1;33m\u001b[0m\u001b[1;33m\u001b[0m\u001b[0m\n",
      "\u001b[1;32m~\\.conda\\envs\\study1\\lib\\socket.py\u001b[0m in \u001b[0;36mreadinto\u001b[1;34m(self, b)\u001b[0m\n\u001b[0;32m    668\u001b[0m             \u001b[1;32mtry\u001b[0m\u001b[1;33m:\u001b[0m\u001b[1;33m\u001b[0m\u001b[1;33m\u001b[0m\u001b[0m\n\u001b[1;32m--> 669\u001b[1;33m                 \u001b[1;32mreturn\u001b[0m \u001b[0mself\u001b[0m\u001b[1;33m.\u001b[0m\u001b[0m_sock\u001b[0m\u001b[1;33m.\u001b[0m\u001b[0mrecv_into\u001b[0m\u001b[1;33m(\u001b[0m\u001b[0mb\u001b[0m\u001b[1;33m)\u001b[0m\u001b[1;33m\u001b[0m\u001b[1;33m\u001b[0m\u001b[0m\n\u001b[0m\u001b[0;32m    670\u001b[0m             \u001b[1;32mexcept\u001b[0m \u001b[0mtimeout\u001b[0m\u001b[1;33m:\u001b[0m\u001b[1;33m\u001b[0m\u001b[1;33m\u001b[0m\u001b[0m\n",
      "\u001b[1;32m~\\.conda\\envs\\study1\\lib\\ssl.py\u001b[0m in \u001b[0;36mrecv_into\u001b[1;34m(self, buffer, nbytes, flags)\u001b[0m\n\u001b[0;32m   1240\u001b[0m                   self.__class__)\n\u001b[1;32m-> 1241\u001b[1;33m             \u001b[1;32mreturn\u001b[0m \u001b[0mself\u001b[0m\u001b[1;33m.\u001b[0m\u001b[0mread\u001b[0m\u001b[1;33m(\u001b[0m\u001b[0mnbytes\u001b[0m\u001b[1;33m,\u001b[0m \u001b[0mbuffer\u001b[0m\u001b[1;33m)\u001b[0m\u001b[1;33m\u001b[0m\u001b[1;33m\u001b[0m\u001b[0m\n\u001b[0m\u001b[0;32m   1242\u001b[0m         \u001b[1;32melse\u001b[0m\u001b[1;33m:\u001b[0m\u001b[1;33m\u001b[0m\u001b[1;33m\u001b[0m\u001b[0m\n",
      "\u001b[1;32m~\\.conda\\envs\\study1\\lib\\ssl.py\u001b[0m in \u001b[0;36mread\u001b[1;34m(self, len, buffer)\u001b[0m\n\u001b[0;32m   1098\u001b[0m             \u001b[1;32mif\u001b[0m \u001b[0mbuffer\u001b[0m \u001b[1;32mis\u001b[0m \u001b[1;32mnot\u001b[0m \u001b[1;32mNone\u001b[0m\u001b[1;33m:\u001b[0m\u001b[1;33m\u001b[0m\u001b[1;33m\u001b[0m\u001b[0m\n\u001b[1;32m-> 1099\u001b[1;33m                 \u001b[1;32mreturn\u001b[0m \u001b[0mself\u001b[0m\u001b[1;33m.\u001b[0m\u001b[0m_sslobj\u001b[0m\u001b[1;33m.\u001b[0m\u001b[0mread\u001b[0m\u001b[1;33m(\u001b[0m\u001b[0mlen\u001b[0m\u001b[1;33m,\u001b[0m \u001b[0mbuffer\u001b[0m\u001b[1;33m)\u001b[0m\u001b[1;33m\u001b[0m\u001b[1;33m\u001b[0m\u001b[0m\n\u001b[0m\u001b[0;32m   1100\u001b[0m             \u001b[1;32melse\u001b[0m\u001b[1;33m:\u001b[0m\u001b[1;33m\u001b[0m\u001b[1;33m\u001b[0m\u001b[0m\n",
      "\u001b[1;31mProtocolError\u001b[0m: ('Connection aborted.', TimeoutError(10060, '연결된 구성원으로부터 응답이 없어 연결하지 못했거나, 호스트로부터 응답이 없어 연결이 끊어졌습니다', None, 10060, None))",
      "\nDuring handling of the above exception, another exception occurred:\n",
      "\u001b[1;31mConnectionError\u001b[0m                           Traceback (most recent call last)",
      "\u001b[1;32m<ipython-input-67-bee17669d71b>\u001b[0m in \u001b[0;36m<module>\u001b[1;34m\u001b[0m\n\u001b[0;32m     11\u001b[0m \u001b[1;31m# }\u001b[0m\u001b[1;33m\u001b[0m\u001b[1;33m\u001b[0m\u001b[1;33m\u001b[0m\u001b[0m\n\u001b[0;32m     12\u001b[0m \u001b[1;31m#resp=requests.get(url, params=params)\u001b[0m\u001b[1;33m\u001b[0m\u001b[1;33m\u001b[0m\u001b[1;33m\u001b[0m\u001b[0m\n\u001b[1;32m---> 13\u001b[1;33m \u001b[0mresp\u001b[0m\u001b[1;33m=\u001b[0m\u001b[0mrequests\u001b[0m\u001b[1;33m.\u001b[0m\u001b[0mget\u001b[0m\u001b[1;33m(\u001b[0m\u001b[0mCoupang_url\u001b[0m\u001b[1;33m)\u001b[0m\u001b[1;33m\u001b[0m\u001b[1;33m\u001b[0m\u001b[0m\n\u001b[0m\u001b[0;32m     14\u001b[0m \u001b[0mresp\u001b[0m\u001b[1;33m\u001b[0m\u001b[1;33m\u001b[0m\u001b[0m\n\u001b[0;32m     15\u001b[0m \u001b[1;33m\u001b[0m\u001b[0m\n",
      "\u001b[1;32m~\\.conda\\envs\\study1\\lib\\site-packages\\requests\\api.py\u001b[0m in \u001b[0;36mget\u001b[1;34m(url, params, **kwargs)\u001b[0m\n\u001b[0;32m     74\u001b[0m \u001b[1;33m\u001b[0m\u001b[0m\n\u001b[0;32m     75\u001b[0m     \u001b[0mkwargs\u001b[0m\u001b[1;33m.\u001b[0m\u001b[0msetdefault\u001b[0m\u001b[1;33m(\u001b[0m\u001b[1;34m'allow_redirects'\u001b[0m\u001b[1;33m,\u001b[0m \u001b[1;32mTrue\u001b[0m\u001b[1;33m)\u001b[0m\u001b[1;33m\u001b[0m\u001b[1;33m\u001b[0m\u001b[0m\n\u001b[1;32m---> 76\u001b[1;33m     \u001b[1;32mreturn\u001b[0m \u001b[0mrequest\u001b[0m\u001b[1;33m(\u001b[0m\u001b[1;34m'get'\u001b[0m\u001b[1;33m,\u001b[0m \u001b[0murl\u001b[0m\u001b[1;33m,\u001b[0m \u001b[0mparams\u001b[0m\u001b[1;33m=\u001b[0m\u001b[0mparams\u001b[0m\u001b[1;33m,\u001b[0m \u001b[1;33m**\u001b[0m\u001b[0mkwargs\u001b[0m\u001b[1;33m)\u001b[0m\u001b[1;33m\u001b[0m\u001b[1;33m\u001b[0m\u001b[0m\n\u001b[0m\u001b[0;32m     77\u001b[0m \u001b[1;33m\u001b[0m\u001b[0m\n\u001b[0;32m     78\u001b[0m \u001b[1;33m\u001b[0m\u001b[0m\n",
      "\u001b[1;32m~\\.conda\\envs\\study1\\lib\\site-packages\\requests\\api.py\u001b[0m in \u001b[0;36mrequest\u001b[1;34m(method, url, **kwargs)\u001b[0m\n\u001b[0;32m     59\u001b[0m     \u001b[1;31m# cases, and look like a memory leak in others.\u001b[0m\u001b[1;33m\u001b[0m\u001b[1;33m\u001b[0m\u001b[1;33m\u001b[0m\u001b[0m\n\u001b[0;32m     60\u001b[0m     \u001b[1;32mwith\u001b[0m \u001b[0msessions\u001b[0m\u001b[1;33m.\u001b[0m\u001b[0mSession\u001b[0m\u001b[1;33m(\u001b[0m\u001b[1;33m)\u001b[0m \u001b[1;32mas\u001b[0m \u001b[0msession\u001b[0m\u001b[1;33m:\u001b[0m\u001b[1;33m\u001b[0m\u001b[1;33m\u001b[0m\u001b[0m\n\u001b[1;32m---> 61\u001b[1;33m         \u001b[1;32mreturn\u001b[0m \u001b[0msession\u001b[0m\u001b[1;33m.\u001b[0m\u001b[0mrequest\u001b[0m\u001b[1;33m(\u001b[0m\u001b[0mmethod\u001b[0m\u001b[1;33m=\u001b[0m\u001b[0mmethod\u001b[0m\u001b[1;33m,\u001b[0m \u001b[0murl\u001b[0m\u001b[1;33m=\u001b[0m\u001b[0murl\u001b[0m\u001b[1;33m,\u001b[0m \u001b[1;33m**\u001b[0m\u001b[0mkwargs\u001b[0m\u001b[1;33m)\u001b[0m\u001b[1;33m\u001b[0m\u001b[1;33m\u001b[0m\u001b[0m\n\u001b[0m\u001b[0;32m     62\u001b[0m \u001b[1;33m\u001b[0m\u001b[0m\n\u001b[0;32m     63\u001b[0m \u001b[1;33m\u001b[0m\u001b[0m\n",
      "\u001b[1;32m~\\.conda\\envs\\study1\\lib\\site-packages\\requests\\sessions.py\u001b[0m in \u001b[0;36mrequest\u001b[1;34m(self, method, url, params, data, headers, cookies, files, auth, timeout, allow_redirects, proxies, hooks, stream, verify, cert, json)\u001b[0m\n\u001b[0;32m    528\u001b[0m         }\n\u001b[0;32m    529\u001b[0m         \u001b[0msend_kwargs\u001b[0m\u001b[1;33m.\u001b[0m\u001b[0mupdate\u001b[0m\u001b[1;33m(\u001b[0m\u001b[0msettings\u001b[0m\u001b[1;33m)\u001b[0m\u001b[1;33m\u001b[0m\u001b[1;33m\u001b[0m\u001b[0m\n\u001b[1;32m--> 530\u001b[1;33m         \u001b[0mresp\u001b[0m \u001b[1;33m=\u001b[0m \u001b[0mself\u001b[0m\u001b[1;33m.\u001b[0m\u001b[0msend\u001b[0m\u001b[1;33m(\u001b[0m\u001b[0mprep\u001b[0m\u001b[1;33m,\u001b[0m \u001b[1;33m**\u001b[0m\u001b[0msend_kwargs\u001b[0m\u001b[1;33m)\u001b[0m\u001b[1;33m\u001b[0m\u001b[1;33m\u001b[0m\u001b[0m\n\u001b[0m\u001b[0;32m    531\u001b[0m \u001b[1;33m\u001b[0m\u001b[0m\n\u001b[0;32m    532\u001b[0m         \u001b[1;32mreturn\u001b[0m \u001b[0mresp\u001b[0m\u001b[1;33m\u001b[0m\u001b[1;33m\u001b[0m\u001b[0m\n",
      "\u001b[1;32m~\\.conda\\envs\\study1\\lib\\site-packages\\requests\\sessions.py\u001b[0m in \u001b[0;36msend\u001b[1;34m(self, request, **kwargs)\u001b[0m\n\u001b[0;32m    641\u001b[0m \u001b[1;33m\u001b[0m\u001b[0m\n\u001b[0;32m    642\u001b[0m         \u001b[1;31m# Send the request\u001b[0m\u001b[1;33m\u001b[0m\u001b[1;33m\u001b[0m\u001b[1;33m\u001b[0m\u001b[0m\n\u001b[1;32m--> 643\u001b[1;33m         \u001b[0mr\u001b[0m \u001b[1;33m=\u001b[0m \u001b[0madapter\u001b[0m\u001b[1;33m.\u001b[0m\u001b[0msend\u001b[0m\u001b[1;33m(\u001b[0m\u001b[0mrequest\u001b[0m\u001b[1;33m,\u001b[0m \u001b[1;33m**\u001b[0m\u001b[0mkwargs\u001b[0m\u001b[1;33m)\u001b[0m\u001b[1;33m\u001b[0m\u001b[1;33m\u001b[0m\u001b[0m\n\u001b[0m\u001b[0;32m    644\u001b[0m \u001b[1;33m\u001b[0m\u001b[0m\n\u001b[0;32m    645\u001b[0m         \u001b[1;31m# Total elapsed time of the request (approximately)\u001b[0m\u001b[1;33m\u001b[0m\u001b[1;33m\u001b[0m\u001b[1;33m\u001b[0m\u001b[0m\n",
      "\u001b[1;32m~\\.conda\\envs\\study1\\lib\\site-packages\\requests\\adapters.py\u001b[0m in \u001b[0;36msend\u001b[1;34m(self, request, stream, timeout, verify, cert, proxies)\u001b[0m\n\u001b[0;32m    496\u001b[0m \u001b[1;33m\u001b[0m\u001b[0m\n\u001b[0;32m    497\u001b[0m         \u001b[1;32mexcept\u001b[0m \u001b[1;33m(\u001b[0m\u001b[0mProtocolError\u001b[0m\u001b[1;33m,\u001b[0m \u001b[0msocket\u001b[0m\u001b[1;33m.\u001b[0m\u001b[0merror\u001b[0m\u001b[1;33m)\u001b[0m \u001b[1;32mas\u001b[0m \u001b[0merr\u001b[0m\u001b[1;33m:\u001b[0m\u001b[1;33m\u001b[0m\u001b[1;33m\u001b[0m\u001b[0m\n\u001b[1;32m--> 498\u001b[1;33m             \u001b[1;32mraise\u001b[0m \u001b[0mConnectionError\u001b[0m\u001b[1;33m(\u001b[0m\u001b[0merr\u001b[0m\u001b[1;33m,\u001b[0m \u001b[0mrequest\u001b[0m\u001b[1;33m=\u001b[0m\u001b[0mrequest\u001b[0m\u001b[1;33m)\u001b[0m\u001b[1;33m\u001b[0m\u001b[1;33m\u001b[0m\u001b[0m\n\u001b[0m\u001b[0;32m    499\u001b[0m \u001b[1;33m\u001b[0m\u001b[0m\n\u001b[0;32m    500\u001b[0m         \u001b[1;32mexcept\u001b[0m \u001b[0mMaxRetryError\u001b[0m \u001b[1;32mas\u001b[0m \u001b[0me\u001b[0m\u001b[1;33m:\u001b[0m\u001b[1;33m\u001b[0m\u001b[1;33m\u001b[0m\u001b[0m\n",
      "\u001b[1;31mConnectionError\u001b[0m: ('Connection aborted.', TimeoutError(10060, '연결된 구성원으로부터 응답이 없어 연결하지 못했거나, 호스트로부터 응답이 없어 연결이 끊어졌습니다', None, 10060, None))"
     ]
    }
   ],
   "source": [
    "import requests\n",
    "from bs4 import BeautifulSoup\n",
    "import json\n",
    "#Coupang_url='https://www.coupang.com/np/search?q=%ED%8A%B9%EA%B0%80&channel=recent&component=&eventCategory=SRP&trcid=&traid=&sorter=scoreDesc&minPrice=&maxPrice=&priceRange=&filterType=&listSize=36&filter=&isPriceRange=false&brand=&offerCondition=&rating=0&page=1&rocketAll=false&searchIndexingToken=1=4&backgroundColor='\n",
    "Coupang_url='https://www.coupang.com/np/search?q=%ED%8A%B9%EA%B0%80&channel=recent'\n",
    "# params={\n",
    "#     'q':'%ED%8A%B9%EA%B0%80',\n",
    "#     'channel':'user',\n",
    "#     'component':None,\n",
    "    \n",
    "# }\n",
    "#resp=requests.get(url, params=params)\n",
    "resp=requests.get(Coupang_url)\n",
    "resp\n",
    "\n",
    "# soup=BeautifulSoup(resp.text)\n",
    "\n",
    "\n",
    "# Coupang_product_list=soup.select('ul.search-product-list>li>a>dl>dd>div>div:nth-child(2)')\n",
    "\n",
    "# Coupang_result_list=[]\n",
    "# for product in Coupang_product_list:\n",
    "#     Coupang_result_list.append({\n",
    "#         'product':product.text\n",
    "#     })\n",
    "# Coupang_result_list"
   ]
  },
  {
   "cell_type": "code",
   "execution_count": 84,
   "metadata": {
    "collapsed": true
   },
   "outputs": [
    {
     "data": {
      "text/plain": [
       "[{'product': '폰즈  매직 비비 파우더 50g 3개 골라담기', 'price': '4,900원'},\n",
       " {'product': '징', 'price': '93,700원'},\n",
       " {'product': '라이트웨이트 펜슬/슬림핏 치노 2종 택1(119525/119524)', 'price': '7,700원'},\n",
       " {'product': '멀티탭정리함 콘센트 전선정리박스', 'price': '7,900원'},\n",
       " {'product': '버츄오 플러스 캡슐커피머신 화이트', 'price': '242,100원'},\n",
       " {'product': '듀라모 SL FV8786', 'price': '34,000원'},\n",
       " {'product': '웃', 'price': '93,900원'},\n",
       " {'product': '샤오미 미밴드5 AMOLED XMSH10HM 표준버전 블랙 한글화 지원', 'price': '35,910원'},\n",
       " {'product': '안심 클래식 키친타올 120매 4롤 4팩', 'price': '12,900원'},\n",
       " {'product': '프레시지 블랙라벨파히타 2인분 외 10종택1', 'price': '12,900원'},\n",
       " {'product': '리', 'price': '58,500원'},\n",
       " {'product': '오', 'price': '136,400원'},\n",
       " {'product': 'NEW 신제품 얇은피 교자만두 8봉 골라담기', 'price': '28,900원'},\n",
       " {'product': '학', 'price': '15,200원'},\n",
       " {'product': '내추럴 헤어 에센셜 퍼퓸 샴푸 1100ml 2개+180g 증정', 'price': '12,900원'},\n",
       " {'product': '름', 'price': '5,520원'},\n",
       " {'product': '수블리 제주 스파클링 350mlx20병 (라임)', 'price': '7,600원'},\n",
       " {'product': '+', 'price': '17,300원'},\n",
       " {'product': '노랑열매 인견 누비이불 SS 세트', 'price': '44,900원'},\n",
       " {'product': '디', 'price': '33,900원'},\n",
       " {'product': '무항생제 훈제오리 200gX10팩 (총 2kg)', 'price': '27,500원'},\n",
       " {'product': '디어마 다용도 신발건조기 신발살균 / 양발건조/ 탈취', 'price': '25,500원'},\n",
       " {'product': '리시아 데오드란트 스프레이 150ml 5종 2개 골라담기', 'price': '9,900원'},\n",
       " {'product': '트롬 16kg 듀얼인버터 올뉴건조기 RH16VNAN', 'price': '1,239,000원'},\n",
       " {'product': 'P', 'price': '56,200원'},\n",
       " {'product': '덴탈헬스플러스 소형50P 딸기2 + 블루베리2 0039b0037b', 'price': '11,300원'},\n",
       " {'product': 'ABKO 헤드셋 HACKER B90  화이트', 'price': '13,710원'},\n",
       " {'product': '선진팜 겉바속촉 돈까스 에어 돈까스 튀김 모음 행사', 'price': '14,900원'},\n",
       " {'product': '한', 'price': '16,900원'},\n",
       " {'product': '레거시 디럭스 워크팩 블랙 / 19033101', 'price': '92,000원'}]"
      ]
     },
     "execution_count": 84,
     "metadata": {},
     "output_type": "execute_result"
    }
   ],
   "source": [
    "import requests\n",
    "from bs4 import BeautifulSoup\n",
    "import json\n",
    "#Coupang_url='https://www.coupang.com/np/search?q=%ED%8A%B9%EA%B0%80&channel=recent&component=&eventCategory=SRP&trcid=&traid=&sorter=scoreDesc&minPrice=&maxPrice=&priceRange=&filterType=&listSize=36&filter=&isPriceRange=false&brand=&offerCondition=&rating=0&page=1&rocketAll=false&searchIndexingToken=1=4&backgroundColor='\n",
    "G9_url='https://www.g9.co.kr/Display/HotDeal'\n",
    "\n",
    "resp=requests.get(G9_url)\n",
    "resp\n",
    "\n",
    "soup=BeautifulSoup(resp.text)\n",
    "\n",
    "\n",
    "G9_product_list=soup.select('ul.format-itemcard-list>li>div>div.itemcard__info>div>a>span')\n",
    "G9_price_list=soup.select('ul.format-itemcard-list>li>div>div.itemcard__info>div>a>p>span>strong')\n",
    "\n",
    "\n",
    "G9_result_list=[]\n",
    "for product,price  in zip(G9_product_list, G9_price_list):\n",
    "    \n",
    "    product=product.text.strip()\n",
    "    if '\\n' in product: #띄어쓰기 해서 중복된 아이템명 있어서 중복제거용.\n",
    "        product=product.split('\\n')\n",
    "    \n",
    "    G9_result_list.append({\n",
    "        'product':product[1],\n",
    "        'price':price.text+'원' # 출력 ex) 10000원\n",
    "    })\n",
    "G9_result_list\n",
    "\n",
    "\n",
    "\n"
   ]
  },
  {
   "cell_type": "code",
   "execution_count": 185,
   "metadata": {
    "collapsed": true
   },
   "outputs": [
    {
     "data": {
      "text/plain": [
       "'{\"page_list\":[{\"NEWS_SERVICE_TIME\":\"(16:50)\",\"IMG_YN\":\"Y\",\"ROW_NUM\":1,\"NEWS_CONTENTS_350\":\"더불어민주당 당 대표 경선에 나선 이낙연, 김부겸 후보가 영남권 대의원대회에서 내년 4월 보궐선거 후보 공천 여부를 놓고 신경전을 벌였습니다. 4월 선거에 부산시장이 포함돼 있고, 오늘 대의원대회가 창원과 부산, 울산에서 열린 만큼, 공천 여부는 지역에서 더 민감한 이슈일 수밖에 없습니다. 이낙연 후보는 당이 후보를 낼지, 그 결정을 서두를 필요는 없다는 ...\",\"NEWS_REG_DATE\":\"2020.08.01 (16:50)\",\"NEWS_CONTENTS_250\":\"더불어민주당 당 대표 경선에 나선 이낙연, 김부겸 후보가 영남권 대의원대회에서 내년 4월 보궐선거 후보 공천 여부를 놓고 신경전을 벌였습니다. 4월 선거에 부산시장이 포함돼 있고, 오늘 대의원대회가 창원과 부산, 울산에서 열린 만큼, 공천 여부는 지역에서 더 ...\",\"CONTENTS_CODE\":\"0003\",\"CONTENTS_NAME\":\"정치\",\"NEWS_CONTENTS_150\":\"더불어민주당 당 대표 경선에 나선 이낙연, 김부겸 후보가 영남권 대의원대회에서 내년 4월 보궐선거 후보 공천 여부를 놓고 신경전을 벌였습니다. 4월 ...\",\"NEWS_TITLE\":\"4월 보궐선거 나비효과…“후보는 누가 지키나?”\",\"NEWS_REPORTOR_NAMES\":\"송명희\",\"RNUM\":1,\"VOD_YN\":\"N\",\"NEWS_CONTENTS\":\"더불어민주당 당 대표 경선에 나선 이낙연, 김부겸 후보가 영남권 대의원대회에서 내년 4월 ...\",\"RELATE_NEWS_LIST\":null,\"PAGE_NO\":1,\"NEWS_SOURCE_CODE\":\"150\",\"RELATE_YN\":\"N\",\"NEWS_CODE\":4507932,\"MENU_NAME\":\"취재K\",\"NEWS_IMG_URL\":\"/data/news/2020/08/01/4507932_1eh.jpg\",\"NEWS_SERVICE_DATE\":\"2020.08.01\",\"MENU_CODE\":\"0933\"},{\"NEWS_SERVICE_TIME\":\"(14:27)\",\"MOD_DATE\":\"2020.08.01 (14:34)\",\"IMG_YN\":\"Y\",\"ROW_NUM\":1,\"NEWS_CONTENTS_350\":\"정세균 국무총리가 대전 정림동의 침수피해 현장을 방문해 주민들을 위로하고, 현장을 점검했습니다. 정 총리는 이 자리에서 \\\\\"재난을 당했을 때 임시방편이 아닌, 항구적인 대책을 세우는 노력이 필요하다\\\\\"고 말했습니다. 정 총리는 특히, 비가 많이 온 것은 사실이지만, 이 정도의 비는 감당할 수 있는 준비가 돼 있어야 한다고 강조했습니다. 정세균 총리는 이어 이재민들을 ...\",\"NEWS_REG_DATE\":\"2020.08.01 (14:27)\",\"NEWS_CONTENTS_250\":\"정세균 국무총리가 대전 정림동의 침수피해 현장을 방문해 주민들을 위로하고, 현장을 점검했습니다. 정 총리는 이 자리에서 \\\\\"재난을 당했을 때 임시방편이 아닌, 항구적인 대책을 세우는 노력이 필요하다\\\\\"고 말했습니다. 정 총리는 특히, 비가 많이 온 것은 ...\",\"CONTENTS_CODE\":\"0003\",\"CONTENTS_NAME\":\"정치\",\"NEWS_CONTENTS_150\":\"정세균 국무총리가 대전 정림동의 침수피해 현장을 방문해 주민들을 위로하고, 현장을 점검했습니다. 정 총리는 이 자리에서 \\\\\"재난을 당했을 때 임시방편이 ...\",\"NEWS_TITLE\":\"정세균 총리 “임시방편 아닌 항구적인 재난 대책 세워야”\",\"NEWS_REPORTOR_NAMES\":\"홍성희\",\"RNUM\":2,\"VOD_YN\":\"N\",\"NEWS_CONTENTS\":\"정세균 국무총리가 대전 정림동의 침수피해 현장을 방문해 주민들을 위로하고, 현장을 점검했습니다. ...\",\"RELATE_NEWS_LIST\":null,\"PAGE_NO\":2,\"NEWS_SOURCE_CODE\":\"150\",\"RELATE_YN\":\"N\",\"NEWS_CODE\":4507919,\"NEWS_IMG_URL\":\"/data/news/2020/08/01/4507919_TZt.jpg\",\"NEWS_SERVICE_DATE\":\"2020.08.01\"},{\"NEWS_SERVICE_TIME\":\"(13:50)\",\"MOD_DATE\":\"2020.08.01 (13:53)\",\"IMG_YN\":\"Y\",\"ROW_NUM\":1,\"NEWS_CONTENTS_350\":\"장마전선이 북상하는 가운데 북한 당국이 비 피해를 줄이기 위한 대책 마련에 나섰습니다. 북한 관영 라디오 조선중앙방송은 \\\\\"오늘(1일)부터 4일까지 평안북도 향산, 자강도 희천, 평안남도 덕천을 비롯한 청천강 유역과 대동강 유역 등 여러 지역에서 폭우를 동반한 300∼500㎜의 매우 많은 비가 내릴 것으로 보고 있다\\\\\"고 보도했습니다. 이어 \\\\\"장마전선이 점차 ...\",\"NEWS_REG_DATE\":\"2020.08.01 (13:50)\",\"NEWS_CONTENTS_250\":\"장마전선이 북상하는 가운데 북한 당국이 비 피해를 줄이기 위한 대책 마련에 나섰습니다. 북한 관영 라디오 조선중앙방송은 \\\\\"오늘(1일)부터 4일까지 평안북도 향산, 자강도 희천, 평안남도 덕천을 비롯한 청천강 유역과 대동강 유역 등 여러 지역에서 폭우를 동반한 ...\",\"CONTENTS_CODE\":\"0003\",\"CONTENTS_NAME\":\"정치\",\"NEWS_CONTENTS_150\":\"장마전선이 북상하는 가운데 북한 당국이 비 피해를 줄이기 위한 대책 마련에 나섰습니다. 북한 관영 라디오 조선중앙방송은 \\\\\"오늘(1일)부터 4일까지 ...\",\"NEWS_TITLE\":\"북한 “장마전선, 8월 상순 전국에 영향…폭우 대책 철저히”\",\"NEWS_REPORTOR_NAMES\":\"조빛나\",\"RNUM\":3,\"VOD_YN\":\"N\",\"NEWS_CONTENTS\":\"장마전선이 북상하는 가운데 북한 당국이 비 피해를 줄이기 위한 대책 마련에 나섰습니다. 북한 관영 ...\",\"RELATE_NEWS_LIST\":null,\"PAGE_NO\":3,\"NEWS_SOURCE_CODE\":\"150\",\"RELATE_YN\":\"N\",\"NEWS_CODE\":4507910,\"NEWS_IMG_URL\":\"/data/news/2020/08/01/4507910_sYz.jpg\",\"NEWS_SERVICE_DATE\":\"2020.08.01\"},{\"NEWS_SERVICE_TIME\":\"(11:38)\",\"MOD_DATE\":\"2020.08.01 (11:44)\",\"IMG_YN\":\"Y\",\"ROW_NUM\":1,\"NEWS_CONTENTS_350\":\"국제 인권단체 휴먼라이트워치(HRW)가 통일부에 특정 대북단체를 대상으로 한 사무검사를 중단하라고 촉구했습니다. HRW의 필 로버트슨 아시아 담당 부국장은 오늘(1일) \\'한국, 인권단체에 대한 위협을 중단하라\\'는 제목의 성명을 통해 \\\\\"대북 전단에 대한 논란이 북한 당국에 인권을 존중하라고 압박하는 다양한 시민사회를 위한 지원·보호 필요성을 가로막아서는 안 ...\",\"NEWS_REG_DATE\":\"2020.08.01 (11:38)\",\"NEWS_CONTENTS_250\":\"국제 인권단체 휴먼라이트워치(HRW)가 통일부에 특정 대북단체를 대상으로 한 사무검사를 중단하라고 촉구했습니다. HRW의 필 로버트슨 아시아 담당 부국장은 오늘(1일) \\'한국, 인권단체에 대한 위협을 중단하라\\'는 제목의 성명을 통해 \\\\\"대북 전단에 대한 논란이 북한 ...\",\"CONTENTS_CODE\":\"0003\",\"CONTENTS_NAME\":\"정치\",\"NEWS_CONTENTS_150\":\"국제 인권단체 휴먼라이트워치(HRW)가 통일부에 특정 대북단체를 대상으로 한 사무검사를 중단하라고 촉구했습니다. HRW의 필 로버트슨 아시아 담당 부국장은 ...\",\"NEWS_TITLE\":\"국제 인권단체 HRW “한국 정부, 대북단체 위협 중단해야”\",\"NEWS_REPORTOR_NAMES\":\"조빛나\",\"RNUM\":4,\"VOD_YN\":\"N\",\"NEWS_CONTENTS\":\"국제 인권단체 휴먼라이트워치(HRW)가 통일부에 특정 대북단체를 대상으로 한 사무검사를 중단하라고 ...\",\"RELATE_NEWS_LIST\":null,\"PAGE_NO\":4,\"NEWS_SOURCE_CODE\":\"150\",\"RELATE_YN\":\"N\",\"NEWS_CODE\":4507898,\"NEWS_IMG_URL\":\"/data/news/2020/08/01/4507898_0X9.jpg\",\"NEWS_SERVICE_DATE\":\"2020.08.01\"},{\"NEWS_SERVICE_TIME\":\"(11:07)\",\"MOD_DATE\":\"2020.08.01 (11:35)\",\"IMG_YN\":\"Y\",\"ROW_NUM\":1,\"NEWS_CONTENTS_350\":\"프랑스가 23만 달러, 우리 돈으로 2억 8천만 원 가량을 국제 비정부기구를 통해 북한에 지원했다고 자유아시아방송(RFA)이 보도했습니다. 방송은, 유엔 인도주의업무조정국(OCHA)이 공개한 \\'국제사회 대북지원 현황자료\\'를 인용해 프랑스 정부가 지난달 27일 국제비정부기구(NG0) \\'트라이앵글 제너레이션 휴메니테어\\'와 \\'프리미어 어전스\\'의 대북지원 사업에 각각 약 ...\",\"NEWS_REG_DATE\":\"2020.08.01 (11:07)\",\"NEWS_CONTENTS_250\":\"프랑스가 23만 달러, 우리 돈으로 2억 8천만 원 가량을 국제 비정부기구를 통해 북한에 지원했다고 자유아시아방송(RFA)이 보도했습니다. 방송은, 유엔 인도주의업무조정국(OCHA)이 공개한 \\'국제사회 대북지원 현황자료\\'를 인용해 프랑스 정부가 지난달 27일 ...\",\"CONTENTS_CODE\":\"0003\",\"CONTENTS_NAME\":\"정치\",\"NEWS_CONTENTS_150\":\"프랑스가 23만 달러, 우리 돈으로 2억 8천만 원 가량을 국제 비정부기구를 통해 북한에 지원했다고 자유아시아방송(RFA)이 보도했습니다. 방송은, 유엔 ...\",\"NEWS_TITLE\":\"“프랑스, NGO통해 북한에 20만 유로 지원” RFA보도\",\"NEWS_REPORTOR_NAMES\":\"조빛나\",\"RNUM\":5,\"VOD_YN\":\"N\",\"NEWS_CONTENTS\":\"프랑스가 23만 달러, 우리 돈으로 2억 8천만 원 가량을 국제 비정부기구를 통해 북한에 ...\",\"RELATE_NEWS_LIST\":null,\"PAGE_NO\":5,\"NEWS_SOURCE_CODE\":\"150\",\"RELATE_YN\":\"N\",\"NEWS_CODE\":4507897,\"NEWS_IMG_URL\":\"/data/news/2020/08/01/4507897_xQZ.jpg\",\"NEWS_SERVICE_DATE\":\"2020.08.01\"},{\"MOD_DATE\":\"2020.08.01 (07:56)\",\"IMG_YN\":\"Y\",\"CONTENTS_CODE\":\"0003\",\"NEWS_TITLE\":\"탈북민 ‘월북’ 왜 쉬웠나? 군 경계 전반 ‘허점’\",\"VOD_YN\":\"Y\",\"NEWS_CONTENTS\":\"[앵커] 인천 강화도 접경지역 발생한 탈북민 \\'월북 사건\\'에 대한 군의 조사결과가 나왔습니다. 월북 ...\",\"RELATE_NEWS_LIST\":null,\"PAGE_NO\":6,\"BROAD_CODE\":\"0003\",\"RELATE_YN\":\"N\",\"NEWS_CODE\":4507867,\"NEWS_IMG_URL\":\"/data/news/2020/08/01/4507867_200.jpg\",\"NEWS_SERVICE_TIME\":\"(07:26)\",\"ROW_NUM\":1,\"NEWS_CONTENTS_350\":\"[앵커] 인천 강화도 접경지역 발생한 탈북민 \\'월북 사건\\'에 대한 군의 조사결과가 나왔습니다. 월북 과정에서 감시 장비에 여러 차례 포착됐지만 현장에서 눈치채지 못했고, 경계 태세는 물론 시설 점검도 미흡했던 것으로 드러났습니다. 조빛나 기자가 보도합니다. [리포트] 탈북민 김 씨가 택시로 강화도 월곳리에 도착한 18일 새벽 2시 18분. 민통선 초소 병사는 택시 ...\",\"NEWS_REG_DATE\":\"2020.08.01 (07:26)\",\"NEWS_VOD_DURATION\":\"02:06\",\"NEWS_CONTENTS_250\":\"[앵커] 인천 강화도 접경지역 발생한 탈북민 \\'월북 사건\\'에 대한 군의 조사결과가 나왔습니다. 월북 과정에서 감시 장비에 여러 차례 포착됐지만 현장에서 눈치채지 못했고, 경계 태세는 물론 시설 점검도 미흡했던 것으로 드러났습니다. 조빛나 기자가 보도합니다. ...\",\"CONTENTS_NAME\":\"정치\",\"NEWS_CONTENTS_150\":\"[앵커] 인천 강화도 접경지역 발생한 탈북민 \\'월북 사건\\'에 대한 군의 조사결과가 나왔습니다. 월북 과정에서 감시 장비에 여러 차례 포착됐지만 현장에서 ...\",\"NEWS_REPORTOR_NAMES\":\"조빛나\",\"RNUM\":6,\"NEWS_SOURCE_CODE\":\"200\",\"BROAD_NAME\":\"뉴스광장\",\"NEWS_SERVICE_DATE\":\"2020.08.01\"},{\"MOD_DATE\":\"2020.08.01 (07:54)\",\"IMG_YN\":\"Y\",\"CONTENTS_CODE\":\"0003\",\"NEWS_TITLE\":\"靑, 경찰 ‘수사체계·전문성’ 조직 진단…“역량 강화 시급”\",\"VOD_YN\":\"Y\",\"NEWS_CONTENTS\":\"[앵커] 검찰과 경찰의 수사권조정으로 경찰은 비대해집니다. \\'공룡경찰\\'이라는 말이 나오는 ...\",\"RELATE_NEWS_LIST\":null,\"PAGE_NO\":7,\"BROAD_CODE\":\"0003\",\"RELATE_YN\":\"N\",\"NEWS_CODE\":4507866,\"NEWS_IMG_URL\":\"/data/news/2020/08/01/4507866_190.jpg\",\"NEWS_SERVICE_TIME\":\"(07:23)\",\"ROW_NUM\":1,\"NEWS_CONTENTS_350\":\"[앵커] 검찰과 경찰의 수사권조정으로 경찰은 비대해집니다. \\'공룡경찰\\'이라는 말이 나오는 이유인데요. 그런데 경찰이 효율적인 체계와 그만한 수사 역량을 갖추었는지 우려들이 있어 왔습니다. 대통령 직속 수사권 조정 후속 추진단이 곧 경찰에 대한 조직진단에 착수하는 것으로 확인됐습니다. 홍성희 기자입니다. [리포트] 검찰의 직접 수사 범위가 좁혀지면서경찰 수사는 ...\",\"NEWS_REG_DATE\":\"2020.08.01 (07:23)\",\"NEWS_VOD_DURATION\":\"02:25\",\"NEWS_CONTENTS_250\":\"[앵커] 검찰과 경찰의 수사권조정으로 경찰은 비대해집니다. \\'공룡경찰\\'이라는 말이 나오는 이유인데요. 그런데 경찰이 효율적인 체계와 그만한 수사 역량을 갖추었는지 우려들이 있어 왔습니다. 대통령 직속 수사권 조정 후속 추진단이 곧 경찰에 대한 조직진단에 ...\",\"CONTENTS_NAME\":\"정치\",\"NEWS_CONTENTS_150\":\"[앵커] 검찰과 경찰의 수사권조정으로 경찰은 비대해집니다. \\'공룡경찰\\'이라는 말이 나오는 이유인데요. 그런데 경찰이 효율적인 체계와 그만한 수사 역량을 ...\",\"NEWS_REPORTOR_NAMES\":\"홍성희\",\"RNUM\":7,\"NEWS_SOURCE_CODE\":\"200\",\"BROAD_NAME\":\"뉴스광장\",\"NEWS_SERVICE_DATE\":\"2020.08.01\"},{\"MOD_DATE\":\"2020.08.01 (07:47)\",\"IMG_YN\":\"Y\",\"CONTENTS_CODE\":\"0003\",\"NEWS_TITLE\":\"靑 “다주택 고위참모 8명 처분 중…다음달까지 매매계약서 제출”\",\"VOD_YN\":\"Y\",\"NEWS_CONTENTS\":\"[앵커] 어제는 청와대가 다주택 참모들에게 실거주 1채를 제외한 나머지 주택들을 처분하라고 ...\",\"RELATE_NEWS_LIST\":null,\"PAGE_NO\":8,\"BROAD_CODE\":\"0003\",\"RELATE_YN\":\"N\",\"NEWS_CODE\":4507853,\"NEWS_IMG_URL\":\"/data/news/2020/08/01/4507853_90.jpg\",\"NEWS_SERVICE_TIME\":\"(07:10)\",\"ROW_NUM\":1,\"NEWS_CONTENTS_350\":\"[앵커] 어제는 청와대가 다주택 참모들에게 실거주 1채를 제외한 나머지 주택들을 처분하라고 권고한 마지막날이었습니다. 청와대는 자체 파악 결과 8명이 다주택자인데 모두 처분 절차를 진행중이라며, 이달까지 매매계약서를 제출해 달라고 했다고 밝혔습니다. 정창화 기자가 보도합니다. [리포트] 지난 달 주택을 처분한 참모는 3명입니다. 처분 권고 당사자인 노영민 ...\",\"NEWS_REG_DATE\":\"2020.08.01 (07:10)\",\"NEWS_VOD_DURATION\":\"01:49\",\"NEWS_CONTENTS_250\":\"[앵커] 어제는 청와대가 다주택 참모들에게 실거주 1채를 제외한 나머지 주택들을 처분하라고 권고한 마지막날이었습니다. 청와대는 자체 파악 결과 8명이 다주택자인데 모두 처분 절차를 진행중이라며, 이달까지 매매계약서를 제출해 달라고 했다고 밝혔습니다. ...\",\"CONTENTS_NAME\":\"정치\",\"NEWS_CONTENTS_150\":\"[앵커] 어제는 청와대가 다주택 참모들에게 실거주 1채를 제외한 나머지 주택들을 처분하라고 권고한 마지막날이었습니다. 청와대는 자체 파악 결과 8명이 ...\",\"NEWS_REPORTOR_NAMES\":\"정창화\",\"RNUM\":8,\"NEWS_SOURCE_CODE\":\"200\",\"BROAD_NAME\":\"뉴스광장\",\"NEWS_SERVICE_DATE\":\"2020.08.01\"},{\"MOD_DATE\":\"2020.08.01 (08:08)\",\"IMG_YN\":\"Y\",\"CONTENTS_CODE\":\"0003\",\"NEWS_TITLE\":\"새 주택임대차보호법 발표…나머지 법안은 이달 4일 통과될 듯\",\"VOD_YN\":\"Y\",\"NEWS_CONTENTS\":\"[앵커] 임차인이 전세계약연장을 요구할 수 있고, 전월세 인상은 최대 5%로 제한하는 새 ...\",\"RELATE_NEWS_LIST\":null,\"PAGE_NO\":9,\"BROAD_CODE\":\"0003\",\"RELATE_YN\":\"N\",\"NEWS_CODE\":4507851,\"NEWS_IMG_URL\":\"/data/news/2020/08/01/4507851_80.jpg\",\"NEWS_SERVICE_TIME\":\"(07:08)\",\"ROW_NUM\":1,\"NEWS_CONTENTS_350\":\"[앵커] 임차인이 전세계약연장을 요구할 수 있고, 전월세 인상은 최대 5%로 제한하는 새 주택임대차보호법이 어제부터 발효됐습니다. 정부와 여당은 이번 주 상임위를 통과한 나머지 부동산투기 대책 법안들을 이달 4일 본회의에서 모두 처리하고 공급 대책도 내놓겠다는 계획입니다. 손은혜 기자가 보도합니다. [리포트] 정부는 새 주택임대차보호법이 발효될 수 있도록 ...\",\"NEWS_REG_DATE\":\"2020.08.01 (07:08)\",\"NEWS_VOD_DURATION\":\"01:56\",\"NEWS_CONTENTS_250\":\"[앵커] 임차인이 전세계약연장을 요구할 수 있고, 전월세 인상은 최대 5%로 제한하는 새 주택임대차보호법이 어제부터 발효됐습니다. 정부와 여당은 이번 주 상임위를 통과한 나머지 부동산투기 대책 법안들을 이달 4일 본회의에서 모두 처리하고 공급 대책도 ...\",\"CONTENTS_NAME\":\"정치\",\"NEWS_CONTENTS_150\":\"[앵커] 임차인이 전세계약연장을 요구할 수 있고, 전월세 인상은 최대 5%로 제한하는 새 주택임대차보호법이 어제부터 발효됐습니다. 정부와 여당은 이번 주 ...\",\"NEWS_REPORTOR_NAMES\":\"손은혜\",\"RNUM\":9,\"NEWS_SOURCE_CODE\":\"200\",\"BROAD_NAME\":\"뉴스광장\",\"NEWS_SERVICE_DATE\":\"2020.08.01\"},{\"MOD_DATE\":\"2020.08.01 (09:53)\",\"IMG_YN\":\"Y\",\"CONTENTS_CODE\":\"0003\",\"NEWS_TITLE\":\"북한 강원 부근 규모 2.0 지진\",\"VOD_YN\":\"Y\",\"NEWS_CONTENTS\":\"오늘 새벽 2시 58분에 북한 강원 부근 지역에서 규모 2.0의 지진이 발생했습니다. 이번 지진의 ...\",\"RELATE_NEWS_LIST\":null,\"PAGE_NO\":10,\"BROAD_CODE\":\"0003\",\"RELATE_YN\":\"N\",\"NEWS_CODE\":4507848,\"NEWS_IMG_URL\":\"/data/news/2020/08/01/4507848_60.jpg\",\"MENU_CODE\":\"0924\",\"NEWS_SERVICE_TIME\":\"(07:05)\",\"ROW_NUM\":1,\"NEWS_CONTENTS_350\":\"오늘 새벽 2시 58분에 북한 강원 부근 지역에서 규모 2.0의 지진이 발생했습니다. 이번 지진의 진앙은 북한 강원 평강 북북서쪽 29km 지역으로 분석됐습니다. 기상청은 이번 지진이 자연 지진으로 분석된다며 지진피해는 없을 것으로 예상했습니다. ...\",\"NEWS_REG_DATE\":\"2020.08.01 (07:05)\",\"NEWS_VOD_DURATION\":\"00:21\",\"NEWS_CONTENTS_250\":\"오늘 새벽 2시 58분에 북한 강원 부근 지역에서 규모 2.0의 지진이 발생했습니다. 이번 지진의 진앙은 북한 강원 평강 북북서쪽 29km 지역으로 분석됐습니다. 기상청은 이번 지진이 자연 지진으로 분석된다며 지진피해는 없을 것으로 예상했습니다. ...\",\"CONTENTS_NAME\":\"정치\",\"NEWS_CONTENTS_150\":\"오늘 새벽 2시 58분에 북한 강원 부근 지역에서 규모 2.0의 지진이 발생했습니다. 이번 지진의 진앙은 북한 강원 평강 북북서쪽 29km 지역으로 ...\",\"NEWS_REPORTOR_NAMES\":\"KBS\",\"RNUM\":10,\"NEWS_SOURCE_CODE\":\"200\",\"MENU_NAME\":\"자연재난\",\"BROAD_NAME\":\"뉴스광장\",\"NEWS_SERVICE_DATE\":\"2020.08.01\"},{\"MOD_DATE\":\"2020.08.01 (08:09)\",\"IMG_YN\":\"Y\",\"CONTENTS_CODE\":\"0003\",\"NEWS_TITLE\":\"“정부, 보건 의료 민간 협력 적극 지원”…北 평양은 ‘준봉쇄’\",\"VOD_YN\":\"Y\",\"NEWS_CONTENTS\":\"[앵커] 취임 사흘 만에 코로나19 방역 물품의 대북 반출을 승인했던 통일부 장관이 이번엔 남북 ...\",\"RELATE_NEWS_LIST\":null,\"PAGE_NO\":11,\"BROAD_CODE\":\"0004\",\"RELATE_YN\":\"N\",\"NEWS_CODE\":4507852,\"NEWS_IMG_URL\":\"/data/news/2020/08/01/4507852_300.jpg\",\"NEWS_SERVICE_TIME\":\"(06:49)\",\"ROW_NUM\":1,\"NEWS_CONTENTS_350\":\"[앵커] 취임 사흘 만에 코로나19 방역 물품의 대북 반출을 승인했던 통일부 장관이 이번엔 남북 민간협력 단체들을 만났습니다. 방역 협력을 통해 대화 물꼬를 트겠다는 의지를 분명히 한 것으로 보이는 데 북한은 개성에 이어 평양까지 준봉쇄령을 내려 주목됩니다. 신선민 기자가 보도합니다. [리포트] 보건의료 분야 관련 대북협력 민간단체들이 통일부를 찾았습니다. ...\",\"NEWS_REG_DATE\":\"2020.08.01 (06:49)\",\"NEWS_VOD_DURATION\":\"01:49\",\"NEWS_CONTENTS_250\":\"[앵커] 취임 사흘 만에 코로나19 방역 물품의 대북 반출을 승인했던 통일부 장관이 이번엔 남북 민간협력 단체들을 만났습니다. 방역 협력을 통해 대화 물꼬를 트겠다는 의지를 분명히 한 것으로 보이는 데 북한은 개성에 이어 평양까지 준봉쇄령을 내려 주목됩니다. ...\",\"CONTENTS_NAME\":\"정치\",\"NEWS_CONTENTS_150\":\"[앵커] 취임 사흘 만에 코로나19 방역 물품의 대북 반출을 승인했던 통일부 장관이 이번엔 남북 민간협력 단체들을 만났습니다. 방역 협력을 통해 대화 ...\",\"NEWS_REPORTOR_NAMES\":\"신선민\",\"RNUM\":11,\"NEWS_SOURCE_CODE\":\"200\",\"BROAD_NAME\":\"뉴스광장 1부\",\"NEWS_SERVICE_DATE\":\"2020.08.01\"},{\"MOD_DATE\":\"2020.08.01 (07:41)\",\"IMG_YN\":\"Y\",\"CONTENTS_CODE\":\"0003\",\"NEWS_TITLE\":\"청와대, 경찰 ‘수사체계·전문성’ 조직 진단…“역량 강화 시급”\",\"VOD_YN\":\"Y\",\"NEWS_CONTENTS\":\"[앵커] 검찰과 경찰의 수사권조정으로 경찰은 비대해집니다. \\'공룡경찰\\'이라는 말이 나오는 ...\",\"RELATE_NEWS_LIST\":null,\"PAGE_NO\":12,\"BROAD_CODE\":\"0004\",\"RELATE_YN\":\"N\",\"NEWS_CODE\":4507846,\"NEWS_IMG_URL\":\"/data/news/2020/08/01/4507846_280.jpg\",\"NEWS_SERVICE_TIME\":\"(06:44)\",\"ROW_NUM\":1,\"NEWS_CONTENTS_350\":\"[앵커] 검찰과 경찰의 수사권조정으로 경찰은 비대해집니다. \\'공룡경찰\\'이라는 말이 나오는 이유인데요. 그런데 경찰이 효율적인 체계와 그만한 수사 역량을 갖추었는지 우려들이 있어 왔습니다. 대통령 직속 수사권 조정 후속 추진단이 곧 경찰에 대한 조직진단에 착수하는 것으로 확인됐습니다. 홍성희 기자입니다. [리포트] 검찰의 직접 수사 범위가 좁혀지면서경찰 수사는 ...\",\"NEWS_REG_DATE\":\"2020.08.01 (06:44)\",\"NEWS_VOD_DURATION\":\"02:26\",\"NEWS_CONTENTS_250\":\"[앵커] 검찰과 경찰의 수사권조정으로 경찰은 비대해집니다. \\'공룡경찰\\'이라는 말이 나오는 이유인데요. 그런데 경찰이 효율적인 체계와 그만한 수사 역량을 갖추었는지 우려들이 있어 왔습니다. 대통령 직속 수사권 조정 후속 추진단이 곧 경찰에 대한 조직진단에 ...\",\"CONTENTS_NAME\":\"정치\",\"NEWS_CONTENTS_150\":\"[앵커] 검찰과 경찰의 수사권조정으로 경찰은 비대해집니다. \\'공룡경찰\\'이라는 말이 나오는 이유인데요. 그런데 경찰이 효율적인 체계와 그만한 수사 역량을 ...\",\"NEWS_REPORTOR_NAMES\":\"홍성희\",\"RNUM\":12,\"NEWS_SOURCE_CODE\":\"200\",\"BROAD_NAME\":\"뉴스광장 1부\",\"NEWS_SERVICE_DATE\":\"2020.08.01\"},{\"MOD_DATE\":\"2020.08.01 (06:50)\",\"IMG_YN\":\"Y\",\"CONTENTS_CODE\":\"0003\",\"NEWS_TITLE\":\"靑 “다주택 고위참모 8명 처분 중…다음달까지 매매계약서 제출”\",\"VOD_YN\":\"Y\",\"NEWS_CONTENTS\":\"[앵커] 어제는 청와대가 다주택 참모들에게 실거주 1채를 제외한 나머지 주택들을 처분하라고 ...\",\"RELATE_NEWS_LIST\":null,\"PAGE_NO\":13,\"BROAD_CODE\":\"0004\",\"RELATE_YN\":\"N\",\"NEWS_CODE\":4507834,\"NEWS_IMG_URL\":\"/data/news/2020/08/01/4507834_240.jpg\",\"NEWS_SERVICE_TIME\":\"(06:37)\",\"ROW_NUM\":1,\"NEWS_CONTENTS_350\":\"[앵커] 어제는 청와대가 다주택 참모들에게 실거주 1채를 제외한 나머지 주택들을 처분하라고 권고한 마지막날이었습니다. 청와대는 자체 파악 결과 8명이 다주택자인데 모두 처분 절차를 진행중이라며, 이달까지 매매계약서를 제출해 달라고 했다고 밝혔습니다. 정창화 기자가 보도합니다. [리포트] 지난 달 주택을 처분한 참모는 3명입니다. 처분 권고 당사자인 노영민 ...\",\"NEWS_REG_DATE\":\"2020.08.01 (06:37)\",\"NEWS_VOD_DURATION\":\"01:51\",\"NEWS_CONTENTS_250\":\"[앵커] 어제는 청와대가 다주택 참모들에게 실거주 1채를 제외한 나머지 주택들을 처분하라고 권고한 마지막날이었습니다. 청와대는 자체 파악 결과 8명이 다주택자인데 모두 처분 절차를 진행중이라며, 이달까지 매매계약서를 제출해 달라고 했다고 밝혔습니다. ...\",\"CONTENTS_NAME\":\"정치\",\"NEWS_CONTENTS_150\":\"[앵커] 어제는 청와대가 다주택 참모들에게 실거주 1채를 제외한 나머지 주택들을 처분하라고 권고한 마지막날이었습니다. 청와대는 자체 파악 결과 8명이 ...\",\"NEWS_REPORTOR_NAMES\":\"정창화\",\"RNUM\":13,\"NEWS_SOURCE_CODE\":\"200\",\"BROAD_NAME\":\"뉴스광장 1부\",\"NEWS_SERVICE_DATE\":\"2020.08.01\"},{\"MOD_DATE\":\"2020.08.01 (06:50)\",\"IMG_YN\":\"Y\",\"CONTENTS_CODE\":\"0003\",\"NEWS_TITLE\":\"새 주택임대차보호법 발표…나머지 법안은 이달 4일 통과될 듯\",\"VOD_YN\":\"Y\",\"NEWS_CONTENTS\":\"[앵커] 임차인이 전세계약연장을 요구할 수 있고, 전월세 인상은 최대 5%로 제한하는 새 ...\",\"RELATE_NEWS_LIST\":null,\"PAGE_NO\":14,\"BROAD_CODE\":\"0004\",\"RELATE_YN\":\"N\",\"NEWS_CODE\":4507833,\"NEWS_IMG_URL\":\"/data/news/2020/08/01/4507833_230.jpg\",\"NEWS_SERVICE_TIME\":\"(06:35)\",\"ROW_NUM\":1,\"NEWS_CONTENTS_350\":\"[앵커] 임차인이 전세계약연장을 요구할 수 있고, 전월세 인상은 최대 5%로 제한하는 새 주택임대차보호법이 어제부터 발효됐습니다. 정부와 여당은 이번 주 상임위를 통과한 나머지 부동산투기 대책 법안들을 이달 4일 본회의에서 모두 처리하고 공급 대책도 내놓겠다는 계획입니다. 손은혜 기자가 보도합니다. [리포트] 정부는 새 주택임대차보호법이 발효될 수 있도록 ...\",\"NEWS_REG_DATE\":\"2020.08.01 (06:35)\",\"NEWS_VOD_DURATION\":\"01:57\",\"NEWS_CONTENTS_250\":\"[앵커] 임차인이 전세계약연장을 요구할 수 있고, 전월세 인상은 최대 5%로 제한하는 새 주택임대차보호법이 어제부터 발효됐습니다. 정부와 여당은 이번 주 상임위를 통과한 나머지 부동산투기 대책 법안들을 이달 4일 본회의에서 모두 처리하고 공급 대책도 ...\",\"CONTENTS_NAME\":\"정치\",\"NEWS_CONTENTS_150\":\"[앵커] 임차인이 전세계약연장을 요구할 수 있고, 전월세 인상은 최대 5%로 제한하는 새 주택임대차보호법이 어제부터 발효됐습니다. 정부와 여당은 이번 주 ...\",\"NEWS_REPORTOR_NAMES\":\"손은혜\",\"RNUM\":14,\"NEWS_SOURCE_CODE\":\"200\",\"BROAD_NAME\":\"뉴스광장 1부\",\"NEWS_SERVICE_DATE\":\"2020.08.01\"},{\"MOD_DATE\":\"2020.08.01 (06:46)\",\"IMG_YN\":\"Y\",\"CONTENTS_CODE\":\"0003\",\"NEWS_TITLE\":\"탈북민 ‘월북’ 왜 쉬웠나? 군 경계 전반 ‘허점’\",\"VOD_YN\":\"Y\",\"NEWS_CONTENTS\":\"[앵커] 인천 강화도 접경지역 발생한 탈북민 \\'월북 사건\\'에 대한 군의 조사결과가 나왔습니다. 월북 ...\",\"RELATE_NEWS_LIST\":null,\"PAGE_NO\":15,\"BROAD_CODE\":\"0004\",\"RELATE_YN\":\"N\",\"NEWS_CODE\":4507826,\"NEWS_IMG_URL\":\"/data/news/2020/08/01/4507826_160.jpg\",\"NEWS_SERVICE_TIME\":\"(06:25)\",\"ROW_NUM\":1,\"NEWS_CONTENTS_350\":\"[앵커] 인천 강화도 접경지역 발생한 탈북민 \\'월북 사건\\'에 대한 군의 조사결과가 나왔습니다. 월북 과정에서 감시 장비에 여러 차례 포착됐지만 현장에서 눈치채지 못했고, 경계 태세는 물론 시설 점검도 미흡했던 것으로 드러났습니다. 조빛나 기자가 보도합니다. [리포트] 탈북민 김 씨가 택시로 강화도 월곳리에 도착한 18일 새벽 2시 18분. 민통선 초소 병사는 택시 ...\",\"NEWS_REG_DATE\":\"2020.08.01 (06:25)\",\"NEWS_VOD_DURATION\":\"02:06\",\"NEWS_CONTENTS_250\":\"[앵커] 인천 강화도 접경지역 발생한 탈북민 \\'월북 사건\\'에 대한 군의 조사결과가 나왔습니다. 월북 과정에서 감시 장비에 여러 차례 포착됐지만 현장에서 눈치채지 못했고, 경계 태세는 물론 시설 점검도 미흡했던 것으로 드러났습니다. 조빛나 기자가 보도합니다. ...\",\"CONTENTS_NAME\":\"정치\",\"NEWS_CONTENTS_150\":\"[앵커] 인천 강화도 접경지역 발생한 탈북민 \\'월북 사건\\'에 대한 군의 조사결과가 나왔습니다. 월북 과정에서 감시 장비에 여러 차례 포착됐지만 현장에서 ...\",\"NEWS_REPORTOR_NAMES\":\"조빛나\",\"RNUM\":15,\"NEWS_SOURCE_CODE\":\"200\",\"BROAD_NAME\":\"뉴스광장 1부\",\"NEWS_SERVICE_DATE\":\"2020.08.01\"},{\"MOD_DATE\":\"2020.08.01 (06:20)\",\"IMG_YN\":\"Y\",\"CONTENTS_CODE\":\"0003\",\"NEWS_TITLE\":\"靑 “다주택 고위참모 8명 처분 중…다음달까지 매매계약서 제출”\",\"VOD_YN\":\"Y\",\"NEWS_CONTENTS\":\"[앵커] 어제는 청와대가 다주택 참모들에게 실거주 1채를 제외한 나머지 주택들을 처분하라고 ...\",\"RELATE_NEWS_LIST\":null,\"PAGE_NO\":16,\"BROAD_CODE\":\"0004\",\"RELATE_YN\":\"N\",\"NEWS_CODE\":4507820,\"NEWS_IMG_URL\":\"/data/news/2020/08/01/4507820_100.jpg\",\"NEWS_SERVICE_TIME\":\"(06:14)\",\"ROW_NUM\":1,\"NEWS_CONTENTS_350\":\"[앵커] 어제는 청와대가 다주택 참모들에게 실거주 1채를 제외한 나머지 주택들을 처분하라고 권고한 마지막날이었습니다. 청와대는 자체 파악 결과 8명이 다주택자인데 모두 처분 절차를 진행중이라며, 이달까지 매매계약서를 제출해 달라고 했다고 밝혔습니다. 정창화 기자가 보도합니다. [리포트] 지난 달 주택을 처분한 참모는 3명입니다. 처분 권고 당사자인 노영민 ...\",\"NEWS_REG_DATE\":\"2020.08.01 (06:14)\",\"NEWS_VOD_DURATION\":\"01:49\",\"NEWS_CONTENTS_250\":\"[앵커] 어제는 청와대가 다주택 참모들에게 실거주 1채를 제외한 나머지 주택들을 처분하라고 권고한 마지막날이었습니다. 청와대는 자체 파악 결과 8명이 다주택자인데 모두 처분 절차를 진행중이라며, 이달까지 매매계약서를 제출해 달라고 했다고 밝혔습니다. ...\",\"CONTENTS_NAME\":\"정치\",\"NEWS_CONTENTS_150\":\"[앵커] 어제는 청와대가 다주택 참모들에게 실거주 1채를 제외한 나머지 주택들을 처분하라고 권고한 마지막날이었습니다. 청와대는 자체 파악 결과 8명이 ...\",\"NEWS_REPORTOR_NAMES\":\"정창화\",\"RNUM\":16,\"NEWS_SOURCE_CODE\":\"200\",\"BROAD_NAME\":\"뉴스광장 1부\",\"NEWS_SERVICE_DATE\":\"2020.08.01\"},{\"MOD_DATE\":\"2020.08.01 (07:28)\",\"IMG_YN\":\"Y\",\"CONTENTS_CODE\":\"0003\",\"NEWS_TITLE\":\"새 주택임대차보호법 발표…나머지 법안은 이달 4일 통과될 듯\",\"VOD_YN\":\"Y\",\"NEWS_CONTENTS\":\"[앵커] 임차인이 전세계약연장을 요구할 수 있고, 전월세 인상은 최대 5%로 제한하는 새 ...\",\"RELATE_NEWS_LIST\":null,\"PAGE_NO\":17,\"BROAD_CODE\":\"0004\",\"RELATE_YN\":\"N\",\"NEWS_CODE\":4507818,\"NEWS_IMG_URL\":\"/data/news/2020/08/01/4507818_80.jpg\",\"NEWS_SERVICE_TIME\":\"(06:10)\",\"ROW_NUM\":1,\"NEWS_CONTENTS_350\":\"[앵커] 임차인이 전세계약연장을 요구할 수 있고, 전월세 인상은 최대 5%로 제한하는 새 주택임대차보호법이 어제부터 발효됐습니다. 정부와 여당은 이번 주 상임위를 통과한 나머지 부동산투기 대책 법안들을 이달 4일 본회의에서 모두 처리하고 공급 대책도 내놓겠다는 계획입니다. 손은혜 기자가 보도합니다. [리포트] 정부는 새 주택임대차보호법이 발효될 수 있도록 ...\",\"NEWS_REG_DATE\":\"2020.08.01 (06:10)\",\"NEWS_VOD_DURATION\":\"01:55\",\"NEWS_CONTENTS_250\":\"[앵커] 임차인이 전세계약연장을 요구할 수 있고, 전월세 인상은 최대 5%로 제한하는 새 주택임대차보호법이 어제부터 발효됐습니다. 정부와 여당은 이번 주 상임위를 통과한 나머지 부동산투기 대책 법안들을 이달 4일 본회의에서 모두 처리하고 공급 대책도 ...\",\"CONTENTS_NAME\":\"정치\",\"NEWS_CONTENTS_150\":\"[앵커] 임차인이 전세계약연장을 요구할 수 있고, 전월세 인상은 최대 5%로 제한하는 새 주택임대차보호법이 어제부터 발효됐습니다. 정부와 여당은 이번 주 ...\",\"NEWS_REPORTOR_NAMES\":\"손은혜\",\"RNUM\":17,\"NEWS_SOURCE_CODE\":\"200\",\"BROAD_NAME\":\"뉴스광장 1부\",\"NEWS_SERVICE_DATE\":\"2020.08.01\"},{\"MOD_DATE\":\"2020.08.01 (06:10)\",\"IMG_YN\":\"Y\",\"CONTENTS_CODE\":\"0003\",\"NEWS_TITLE\":\"북한 강원 부근 규모 2.0 지진\",\"VOD_YN\":\"Y\",\"NEWS_CONTENTS\":\"오늘 새벽 2시 58분에 북한 강원 부근 지역에서 규모 2.0의 지진이 발생했습니다. 이번 지진의 ...\",\"RELATE_NEWS_LIST\":null,\"PAGE_NO\":18,\"BROAD_CODE\":\"0004\",\"RELATE_YN\":\"N\",\"NEWS_CODE\":4507816,\"NEWS_IMG_URL\":\"/data/news/2020/08/01/4507816_60.jpg\",\"NEWS_SERVICE_TIME\":\"(06:08)\",\"ROW_NUM\":1,\"NEWS_CONTENTS_350\":\"오늘 새벽 2시 58분에 북한 강원 부근 지역에서 규모 2.0의 지진이 발생했습니다. 이번 지진의 진앙은 북한 강원 평강 북북서쪽 29km 지역으로 분석됐습니다. 기상청은 이번 지진이 자연 지진으로 분석된다며 지진피해는 없을 것으로 예상했습니다. ...\",\"NEWS_REG_DATE\":\"2020.08.01 (06:08)\",\"NEWS_VOD_DURATION\":\"00:21\",\"NEWS_CONTENTS_250\":\"오늘 새벽 2시 58분에 북한 강원 부근 지역에서 규모 2.0의 지진이 발생했습니다. 이번 지진의 진앙은 북한 강원 평강 북북서쪽 29km 지역으로 분석됐습니다. 기상청은 이번 지진이 자연 지진으로 분석된다며 지진피해는 없을 것으로 예상했습니다. ...\",\"CONTENTS_NAME\":\"정치\",\"NEWS_CONTENTS_150\":\"오늘 새벽 2시 58분에 북한 강원 부근 지역에서 규모 2.0의 지진이 발생했습니다. 이번 지진의 진앙은 북한 강원 평강 북북서쪽 29km 지역으로 ...\",\"NEWS_REPORTOR_NAMES\":\"KBS\",\"RNUM\":18,\"NEWS_SOURCE_CODE\":\"200\",\"BROAD_NAME\":\"뉴스광장 1부\",\"NEWS_SERVICE_DATE\":\"2020.08.01\"},{\"NEWS_SERVICE_TIME\":\"(03:44)\",\"MOD_DATE\":\"2020.08.01 (03:54)\",\"IMG_YN\":\"Y\",\"ROW_NUM\":1,\"NEWS_CONTENTS_350\":\"오늘 02시 58분에 북한 강원 부근 지역에서 규모 2.0의 지진이 발생했습니다. 이번 지진의 진앙은 북한 강원 평강 북북서쪽 29km 지역으로 분석됐습니다. 기상청은 이번 지진에 대해 “지진피해 없을 것으로 예상됨 자연지진으로 분석됨”(이)라고 밝혔습니다. ...\",\"NEWS_REG_DATE\":\"2020.08.01 (03:44)\",\"NEWS_CONTENTS_250\":\"오늘 02시 58분에 북한 강원 부근 지역에서 규모 2.0의 지진이 발생했습니다. 이번 지진의 진앙은 북한 강원 평강 북북서쪽 29km 지역으로 분석됐습니다. 기상청은 이번 지진에 대해 “지진피해 없을 것으로 예상됨 자연지진으로 분석됨”(이)라고 밝혔습니다. ...\",\"CONTENTS_CODE\":\"0003\",\"CONTENTS_NAME\":\"정치\",\"NEWS_CONTENTS_150\":\"오늘 02시 58분에 북한 강원 부근 지역에서 규모 2.0의 지진이 발생했습니다. 이번 지진의 진앙은 북한 강원 평강 북북서쪽 29km 지역으로 ...\",\"NEWS_TITLE\":\"북한 강원 부근 지역, 규모 2.0 지진\",\"NEWS_REPORTOR_NAMES\":\"김민철\",\"RNUM\":19,\"VOD_YN\":\"N\",\"NEWS_CONTENTS\":\"오늘 02시 58분에 북한 강원 부근 지역에서 규모 2.0의 지진이 발생했습니다. 이번 지진의 ...\",\"RELATE_NEWS_LIST\":null,\"PAGE_NO\":19,\"NEWS_SOURCE_CODE\":\"150\",\"RELATE_YN\":\"N\",\"NEWS_CODE\":4507807,\"NEWS_IMG_URL\":\"/data/news/2020/08/01/4507807_idi.jpg\",\"NEWS_SERVICE_DATE\":\"2020.08.01\"}],\"page_pagePerPage\":10,\"page_rowPerPage\":50,\"page_totalSize\":19,\"page_currentPageNo\":1,\"arguList\":[],\"SSO_RTN_URL\":\"http://news.kbs.co.kr/news/getContentsNewsList.do?CURRENT_PAGE_NO=1&ROW_PER_PAGE=50&SEARCH_DATE=20200801&SEARCH_CONTENTS_CODE=0003&LAST_DATE=20200803&\",\"NEWS_EXEC_RESULT\":\"success\"}'"
      ]
     },
     "execution_count": 185,
     "metadata": {},
     "output_type": "execute_result"
    }
   ],
   "source": [
    "import requests\n",
    "from bs4 import BeautifulSoup\n",
    "\n",
    "url = 'http://news.kbs.co.kr/news/getContentsNewsList.do'\n",
    "data = {\n",
    "    'CURRENT_PAGE_NO': 1,\n",
    "    'ROW_PER_PAGE': 50,\n",
    "    'SEARCH_DATE': '20200801',\n",
    "    'SEARCH_CONTENTS_CODE': '0003',\n",
    "    'LAST_DATE': '20200803'\n",
    "}\n",
    "\n",
    "resp = requests.post(url, data)\n",
    "resp.text"
   ]
  },
  {
   "cell_type": "code",
   "execution_count": 174,
   "metadata": {},
   "outputs": [],
   "source": [
    "\n"
   ]
  },
  {
   "cell_type": "code",
   "execution_count": null,
   "metadata": {},
   "outputs": [],
   "source": []
  },
  {
   "cell_type": "code",
   "execution_count": 5,
   "metadata": {
    "scrolled": true
   },
   "outputs": [
    {
     "data": {
      "text/plain": [
       "[<div class=\"c-inner newslist-grid\">\n",
       " <ul class=\"list-type list-thumb\" id=\"thumbnailNewsList\"></ul>\n",
       " <button class=\"btn-list-more\" onclick=\"javascript:moreList();\" type=\"button\">12개 더보기</button>\n",
       " </div>]"
      ]
     },
     "execution_count": 5,
     "metadata": {},
     "output_type": "execute_result"
    }
   ],
   "source": [
    "import requests\n",
    "from bs4 import BeautifulSoup\n",
    "import json\n",
    "KBS_url='http://news.kbs.co.kr/news/list.do?ctcd=0003&ref=pMenu#20200803&3'\n",
    "\n",
    "resp=requests.get(KBS_url)\n",
    "\n",
    "soup=BeautifulSoup(resp.text)\n",
    "##thumbnailNewsList\n",
    "#KBS_news_list=soup.find_all('div', class_='c-submain')\n",
    "#> ul.list-type>li>a>span>em.tit\n",
    "KBS_news_list=soup.select('div.c-submain>div.newslist-grid')\n",
    "#KBS=KBS_news_list.find_all('ul',class_='list-type list-thumb')\n",
    "KBS_news_list\n"
   ]
  },
  {
   "cell_type": "code",
   "execution_count": null,
   "metadata": {},
   "outputs": [],
   "source": []
  },
  {
   "cell_type": "code",
   "execution_count": null,
   "metadata": {},
   "outputs": [],
   "source": []
  },
  {
   "cell_type": "code",
   "execution_count": null,
   "metadata": {},
   "outputs": [],
   "source": []
  },
  {
   "cell_type": "code",
   "execution_count": null,
   "metadata": {},
   "outputs": [],
   "source": []
  },
  {
   "cell_type": "code",
   "execution_count": null,
   "metadata": {},
   "outputs": [],
   "source": []
  },
  {
   "cell_type": "code",
   "execution_count": null,
   "metadata": {},
   "outputs": [],
   "source": []
  },
  {
   "cell_type": "code",
   "execution_count": null,
   "metadata": {},
   "outputs": [],
   "source": []
  },
  {
   "cell_type": "code",
   "execution_count": null,
   "metadata": {},
   "outputs": [],
   "source": []
  },
  {
   "cell_type": "code",
   "execution_count": null,
   "metadata": {},
   "outputs": [],
   "source": [
    "#백업본\n",
    "import requests\n",
    "from bs4 import BeautifulSoup\n",
    "import json\n",
    "\n",
    "def MBN_News_Function(category):\n",
    "    \n",
    "# 오류참고. 이렇게 쓰면 category에 다른게 들어와도 '사회'로 인식됨.\n",
    "#     if category == '사회'or'society':\n",
    "#         category_s='society'\n",
    "#         MBN_url='https://www.mbn.co.kr/news/society/'\n",
    "    \n",
    "    if category in ('사회'or'society'):\n",
    "        category_s='society'\n",
    "        MBN_url='https://www.mbn.co.kr/news/society/'\n",
    "        \n",
    "    elif category in ('경제'or'economy'):\n",
    "        category_s='economy'\n",
    "        MBN_url='https://www.mbn.co.kr/news/economy/'\n",
    "        \n",
    "    elif category in ('국제'or'world'):\n",
    "        category_s='world'\n",
    "        MBN_url='https://www.mbn.co.kr/news/world/'\n",
    "        \n",
    "    elif category in ('문화'or'culture'):\n",
    "        category_s='category'\n",
    "        MBN_url='https://www.mbn.co.kr/news/category/'\n",
    "        \n",
    "    elif category in ('스포츠'or'sports'):\n",
    "        category_s='sports'\n",
    "        MBN_url='https://www.mbn.co.kr/news/sports/'\n",
    "        \n",
    "    elif category in ('연예'or'entertain'):\n",
    "        category_s='entertain'\n",
    "        MBN_url='https://www.mbn.co.kr/news/entertain/'\n",
    "        \n",
    "    elif category in ('생활건강'or'life'):\n",
    "        category_s='life'\n",
    "        MBN_url='https://www.mbn.co.kr/news/life/'\n",
    "    \n",
    "    \n",
    "    result_list=[]\n",
    "    \n",
    "    for i in range(1,3): #페이지번호\n",
    "        params={\n",
    "            'page':i,\n",
    "            'vod':None,\n",
    "            'category':category_s\n",
    "        }\n",
    "        resp=requests.get(MBN_url, params=params)\n",
    "\n",
    "        resp.encoding='eur-kr'\n",
    "        soup=BeautifulSoup(resp.text)\n",
    "\n",
    "        #print(\"{}번째 확인\".format(i))\n",
    "        \n",
    "        MBN_news_list=soup.select('div.list_area>dl.article_list>dt.tit>a')\n",
    "\n",
    "        news_list=[]\n",
    "        for news in MBN_news_list:\n",
    "            \n",
    "            news=news.text.strip() #제목 내 띄어쓰기 제거\n",
    "            news=news.replace(\"\\'\" , \" \") #제목 내 따옴표 제거\n",
    "\n",
    "            news_list.append(news)\n",
    "        \n",
    "        #print(news_list)\n",
    "        result_list.extend(news_list)\n",
    "\n",
    "    return result_list\n",
    "\n",
    "\n",
    "\n",
    "category=input(\"카테고리 입력 : \")\n",
    "MBN_News_Function(category)"
   ]
  },
  {
   "cell_type": "code",
   "execution_count": 141,
   "metadata": {
    "scrolled": true
   },
   "outputs": [
    {
     "name": "stdout",
     "output_type": "stream",
     "text": [
      "카테고리 입력 : 사회\n",
      "날짜입력 : 20200803\n"
     ]
    },
    {
     "data": {
      "text/plain": [
       "['도봉구청, 확진자 동선 공개 “일시적으로 마스크 내린 적 있어”',\n",
       " '\"홍천 캠핑 확진자, 커피점 방문\" 연관성 일부 확인',\n",
       " '김주하의 8월 3일  이 한 장의 사진 ',\n",
       " '중부 최고 500mm↑ 폭우…이번 주 내내 중부 비',\n",
       " '한국 청소년 평균 수면시간 7시간 18분…절반 이상 수면 부족',\n",
       " '내일부터 징용기업 일본제철 자산 압류…매각 절차는?',\n",
       " '[종합뉴스 단신] 검찰  공직선거법 위반  혐의 윤준병 의원 기소',\n",
       " '가평에서 토사에 펜션 완파…3명 숨진 채 발견',\n",
       " '내일까지 최대 300mm 비…홍수 위험 아직 없어',\n",
       " '잠수교 통행금지…서울 주요 도로 곳곳 통제',\n",
       " '평택 공장에 토사 덮쳐 근로자 매몰…3명 사망, 1명 중상',\n",
       " '친구 시신 여행가방에 담아 유기한 20대들 뒤늦게 자수',\n",
       " '홍천 캠핑 확진자, 선릉역 커피전문점에 30분 머물러…\"연쇄 감염 확인 중\"',\n",
       " '북한강 댐 모두 수문 열어…춘천댐 초당 800톤 방류',\n",
       " '엇갈리는 피해자-서울시 관계자 진술…경찰 \"거짓말 탐지기 검토\"',\n",
       " ' 전자팔찌  차면 보석 가능해진다…훼손·도주 허점은 우려']"
      ]
     },
     "execution_count": 141,
     "metadata": {},
     "output_type": "execute_result"
    }
   ],
   "source": [
    "import requests\n",
    "from bs4 import BeautifulSoup\n",
    "import json\n",
    "\n",
    "def MBN_News_Function(category,time):\n",
    "    \n",
    "# 오류참고. 이렇게 쓰면 category에 다른게 들어와도 '사회'로 인식됨.\n",
    "#     if category == '사회'or'society':\n",
    "#         category_s='society'\n",
    "#         MBN_url='https://www.mbn.co.kr/news/society/'\n",
    "    \n",
    "    if category in ('사회'or'society'):\n",
    "        category_s='society'\n",
    "        MBN_url='https://www.mbn.co.kr/news/society/'\n",
    "        \n",
    "    elif category in ('경제'or'economy'):\n",
    "        category_s='economy'\n",
    "        MBN_url='https://www.mbn.co.kr/news/economy/'\n",
    "        \n",
    "    elif category in ('국제'or'world'):\n",
    "        category_s='world'\n",
    "        MBN_url='https://www.mbn.co.kr/news/world/'\n",
    "        \n",
    "    elif category in ('문화'or'culture'):\n",
    "        category_s='category'\n",
    "        MBN_url='https://www.mbn.co.kr/news/category/'\n",
    "        \n",
    "    elif category in ('스포츠'or'sports'):\n",
    "        category_s='sports'\n",
    "        MBN_url='https://www.mbn.co.kr/news/sports/'\n",
    "        \n",
    "    elif category in ('연예'or'entertain'):\n",
    "        category_s='entertain'\n",
    "        MBN_url='https://www.mbn.co.kr/news/entertain/'\n",
    "        \n",
    "    elif category in ('생활건강'or'life'):\n",
    "        category_s='life'\n",
    "        MBN_url='https://www.mbn.co.kr/news/life/'\n",
    "    \n",
    "    \n",
    "    result_list=[]\n",
    "    \n",
    "    for i in range(1,9): #페이지번호\n",
    "        params={\n",
    "            'page':i,\n",
    "            'vod':None,\n",
    "            'category':category_s\n",
    "        }\n",
    "        resp=requests.get(MBN_url, params=params)\n",
    "\n",
    "        resp.encoding='eur-kr'\n",
    "        soup=BeautifulSoup(resp.text)\n",
    "        \n",
    "        MBN_news_list=soup.select('div.list_area>dl.article_list>dt.tit>a')\n",
    "        MBN_news_list_date=soup.select('div.list_area>dl.article_list>dd.desc>span.date')\n",
    "\n",
    "        news_list=[]\n",
    "        for news,date in zip(MBN_news_list, MBN_news_list_date):\n",
    "            \n",
    "            news=news.text.strip() #제목 내 띄어쓰기 제거\n",
    "            news=news.replace(\"\\'\" , \" \") #제목 내 따옴표 제거\n",
    "\n",
    "            date=date.text[0:10].replace(\"-\",\"\")\n",
    "            \n",
    "            if date == time:\n",
    "                news_list.append(news)\n",
    "        \n",
    "        #print(news_list)\n",
    "        result_list.extend(news_list)\n",
    "\n",
    "    return result_list\n",
    "\n",
    "\n",
    "\n",
    "category=input(\"카테고리 입력 : \")\n",
    "day=input(\"날짜입력 : \")\n",
    "MBN_News_Function(category, day)"
   ]
  },
  {
   "cell_type": "code",
   "execution_count": null,
   "metadata": {},
   "outputs": [],
   "source": []
  },
  {
   "cell_type": "code",
   "execution_count": null,
   "metadata": {},
   "outputs": [],
   "source": []
  },
  {
   "cell_type": "code",
   "execution_count": null,
   "metadata": {},
   "outputs": [],
   "source": []
  },
  {
   "cell_type": "code",
   "execution_count": null,
   "metadata": {},
   "outputs": [],
   "source": []
  },
  {
   "cell_type": "code",
   "execution_count": 139,
   "metadata": {
    "collapsed": true
   },
   "outputs": [
    {
     "name": "stdout",
     "output_type": "stream",
     "text": [
      "카테고리 입력: (입력예 사회) 사회\n",
      "날짜 입력: (입력예 20200804) 20200804\n",
      "[]\n",
      "[]\n",
      "2번\n",
      "[]\n",
      "[]\n",
      "2번\n",
      "[]\n",
      "[]\n",
      "2번\n",
      "[]\n",
      "[]\n",
      "2번\n",
      "[]\n",
      "[]\n",
      "2번\n",
      "[]\n",
      "[]\n",
      "2번\n",
      "[]\n",
      "[]\n",
      "2번\n",
      "[]\n",
      "[]\n",
      "2번\n",
      "[]\n",
      "[]\n",
      "2번\n"
     ]
    },
    {
     "data": {
      "text/plain": [
       "[]"
      ]
     },
     "execution_count": 139,
     "metadata": {},
     "output_type": "execute_result"
    }
   ],
   "source": [
    "#######수정중\n",
    "###################\n",
    "#################\n",
    "import requests\n",
    "from bs4 import BeautifulSoup\n",
    "import json\n",
    "\n",
    "def MBN_News_Function(category, time):\n",
    "    \n",
    "    if category in ('사회'or'society'):\n",
    "        category_s='society'\n",
    "        MBN_url='https://www.mbn.co.kr/news/society/'\n",
    "        \n",
    "    elif category in ('경제'or'economy'):\n",
    "        category_s='economy'\n",
    "        MBN_url='https://www.mbn.co.kr/news/economy/'\n",
    "        \n",
    "    elif category in ('국제'or'world'):\n",
    "        category_s='world'\n",
    "        MBN_url='https://www.mbn.co.kr/news/world/'\n",
    "        \n",
    "    elif category in ('문화'or'culture'):\n",
    "        category_s='category'\n",
    "        MBN_url='https://www.mbn.co.kr/news/category/'\n",
    "        \n",
    "    elif category in ('스포츠'or'sports'):\n",
    "        category_s='sports'\n",
    "        MBN_url='https://www.mbn.co.kr/news/sports/'\n",
    "        \n",
    "    elif category in ('연예'or'entertain'):\n",
    "        category_s='entertain'\n",
    "        MBN_url='https://www.mbn.co.kr/news/entertain/'\n",
    "        \n",
    "    elif category in ('생활건강'or'life'):\n",
    "        category_s='life'\n",
    "        MBN_url='https://www.mbn.co.kr/news/life/'\n",
    "    \n",
    "    result_list=[]\n",
    "    for i in range(9): #페이지번호\n",
    "        params={\n",
    "            'page':i,\n",
    "            'vod':None,\n",
    "            'category':category\n",
    "        }\n",
    "        resp=requests.get(MBN_url, params=params)\n",
    "        \n",
    "        resp.encoding='eur-kr'\n",
    "        soup=BeautifulSoup(resp.text)\n",
    "\n",
    "        MBN_news_list=soup.select('div.list_area>dl.article_list>dt.tit>a') # 뉴스 제목\n",
    "        MBN_news_list_date=soup.select('div.list_area>dl.article_list>dd.desc>span.date') # 뉴스 날짜, 시간\n",
    "        \n",
    "        print(MBN_news_list)\n",
    "        print(MBN_news_list_date)\n",
    "        \n",
    "        news_list=[]\n",
    "#         for news,date in zip(MBN_news_list,MBN_news_list_date):\n",
    "#             news=news.text.strip() #제목 내 띄어쓰기 제거\n",
    "#             news=news.replace(\"\\'\" , \" \") #제목 내 따옴표 제거\n",
    "\n",
    "#             date=date.text[0:10].replace(\"-\" , \"\")\n",
    "            \n",
    "#             if time==date:\n",
    "#                 news_list.append(news)\n",
    "        for news in MBN_news_list:\n",
    "            news=news.text.strip().replace(\"\\'\" , \" \")\n",
    "            news_list.append(news)\n",
    "            print(\"for문\")\n",
    "            \n",
    "            \n",
    "        result_list.extend(news_list)\n",
    "        print(\"2번\")\n",
    "            \n",
    "    return result_list\n",
    "\n",
    "category=input(\"카테고리 입력: (입력예 사회) \")\n",
    "time=input(\"날짜 입력: (입력예 20200804) \")\n",
    "MBN_News_Function(category,time)"
   ]
  },
  {
   "cell_type": "code",
   "execution_count": 55,
   "metadata": {
    "collapsed": true
   },
   "outputs": [
    {
     "name": "stdout",
     "output_type": "stream",
     "text": [
      "카테고리 입력 : 사회\n"
     ]
    },
    {
     "data": {
      "text/plain": [
       "[['과천시장 \"강남 집값 잡으려 과천을 수단으로 생각\" 공개반발',\n",
       "  '경실련 \"윤희숙 `레전드 연설`? 얼토당토않은 말에 박수치다니\"',\n",
       "  '양금희 의원, 제2의  박원순 사건  근절 위한 간담회 개최',\n",
       "  '日정부, 일본제철 자산압류에 보복 예고…\"온갖 선택지로 대응\"',\n",
       "  '심상정 \"정부의 성급한 주택공급 발표, 목적이 뭔지 혼란스럽다\"',\n",
       "  '정 총리 \"집중호우 피해 지역, 특별재난지역으로 선포해야\"',\n",
       "  '日정부, 한국 정부 강제 매각시 맞대응 시사…\"온갖 선택지 가능\"',\n",
       "  '김종인 \"박원순, 처벌 알기에 목숨끊어…與 조폭문화 피해자 `연약한 여인들`\"',\n",
       "  '부동산 정책 규탄하고 나선 통합 \"우격다짐으로는 해결 안 돼\"',\n",
       "  '주호영 \"文 대통령, 국정 무너지는데 말없이 야당 무시\"',\n",
       "  '[레이더P] 김종인 \"여권, 조폭 문화와 비슷…조직 배반하면 죽는 분위기\"',\n",
       "  '주호영 \" 10가지 공개 질의 에 답변하겠다던 청와대, 감감무소식\"',\n",
       "  '이낙연·이재명 견제할 야권 비밀병기는 `윤석열`?',\n",
       "  '[레이더P] 노무현이 당했던 `연좌 프레임`…친문 `처남연좌`로  김부겸 공격',\n",
       "  '원희룡 \"윤석열과 맞서는 사람 보면 누가 민주주의자인지 보여\"',\n",
       "  '[속보] 文 대통령, 4일 오후 2시 집중호우 대응 점검회의 주재',\n",
       "  '[속보] 문대통령, 오늘 오후 집중호우 점검 긴급회의',\n",
       "  '北 \"남조선에서 삼복 열기보다 뜨거운 게 부동산 논란\"',\n",
       "  '김종인 \"이 정부 경제정책, 완전한 실패…규제 일변도\"',\n",
       "  '정총리 \"집중호우 피해 지역 특별재난지역 선포 검토\"'],\n",
       " ['과천시장 \"강남 집값 잡으려 과천을 수단으로 생각\" 공개반발',\n",
       "  '경실련 \"윤희숙 `레전드 연설`? 얼토당토않은 말에 박수치다니\"',\n",
       "  '양금희 의원, 제2의  박원순 사건  근절 위한 간담회 개최',\n",
       "  '日정부, 일본제철 자산압류에 보복 예고…\"온갖 선택지로 대응\"',\n",
       "  '심상정 \"정부의 성급한 주택공급 발표, 목적이 뭔지 혼란스럽다\"',\n",
       "  '정 총리 \"집중호우 피해 지역, 특별재난지역으로 선포해야\"',\n",
       "  '日정부, 한국 정부 강제 매각시 맞대응 시사…\"온갖 선택지 가능\"',\n",
       "  '김종인 \"박원순, 처벌 알기에 목숨끊어…與 조폭문화 피해자 `연약한 여인들`\"',\n",
       "  '부동산 정책 규탄하고 나선 통합 \"우격다짐으로는 해결 안 돼\"',\n",
       "  '주호영 \"文 대통령, 국정 무너지는데 말없이 야당 무시\"',\n",
       "  '[레이더P] 김종인 \"여권, 조폭 문화와 비슷…조직 배반하면 죽는 분위기\"',\n",
       "  '주호영 \" 10가지 공개 질의 에 답변하겠다던 청와대, 감감무소식\"',\n",
       "  '이낙연·이재명 견제할 야권 비밀병기는 `윤석열`?',\n",
       "  '[레이더P] 노무현이 당했던 `연좌 프레임`…친문 `처남연좌`로  김부겸 공격',\n",
       "  '원희룡 \"윤석열과 맞서는 사람 보면 누가 민주주의자인지 보여\"',\n",
       "  '[속보] 文 대통령, 4일 오후 2시 집중호우 대응 점검회의 주재',\n",
       "  '[속보] 문대통령, 오늘 오후 집중호우 점검 긴급회의',\n",
       "  '北 \"남조선에서 삼복 열기보다 뜨거운 게 부동산 논란\"',\n",
       "  '김종인 \"이 정부 경제정책, 완전한 실패…규제 일변도\"',\n",
       "  '정총리 \"집중호우 피해 지역 특별재난지역 선포 검토\"']]"
      ]
     },
     "execution_count": 55,
     "metadata": {},
     "output_type": "execute_result"
    }
   ],
   "source": []
  },
  {
   "cell_type": "code",
   "execution_count": 131,
   "metadata": {},
   "outputs": [
    {
     "name": "stdout",
     "output_type": "stream",
     "text": [
      "날자 : 20200804\n"
     ]
    },
    {
     "data": {
      "text/plain": [
       "[]"
      ]
     },
     "execution_count": 131,
     "metadata": {},
     "output_type": "execute_result"
    }
   ],
   "source": [
    "import requests\n",
    "from bs4 import BeautifulSoup\n",
    "import json\n",
    "\n",
    "def func_(time):\n",
    "    MBN_url='https://www.mbn.co.kr/news/society/?page=9&vod=&category=society'\n",
    "\n",
    "    resp=requests.get(MBN_url)\n",
    "    resp.encoding='eur-kr'\n",
    "    soup=BeautifulSoup(resp.text)\n",
    "\n",
    "    MBN_news_list=soup.select('div.list_area>dl.article_list>dt.tit>a')\n",
    "    MBN_news_list_date=soup.select('div.list_area>dl.article_list>dd.desc>span.date')\n",
    "\n",
    "    result_list=[]\n",
    "    for news,date in zip(MBN_news_list,MBN_news_list_date):\n",
    "\n",
    "\n",
    "        date=date.text[0:10].replace(\"-\",\"\")\n",
    "\n",
    "        if time==date:\n",
    "\n",
    "            result_list.append({\n",
    "                news.text.strip()\n",
    "\n",
    "                })\n",
    "    \n",
    "    return result_list\n",
    "\n",
    "a=input(\"날자 : \")\n",
    "#func_('20200803')\n",
    "func_(a)\n"
   ]
  },
  {
   "cell_type": "code",
   "execution_count": null,
   "metadata": {},
   "outputs": [],
   "source": []
  },
  {
   "cell_type": "code",
   "execution_count": null,
   "metadata": {},
   "outputs": [],
   "source": []
  },
  {
   "cell_type": "markdown",
   "metadata": {},
   "source": [
    "# 정치"
   ]
  },
  {
   "cell_type": "code",
   "execution_count": 64,
   "metadata": {},
   "outputs": [
    {
     "data": {
      "text/plain": [
       "[[], []]"
      ]
     },
     "execution_count": 64,
     "metadata": {},
     "output_type": "execute_result"
    }
   ],
   "source": [
    "import requests\n",
    "from bs4 import BeautifulSoup\n",
    "import json\n",
    "\n",
    "# 여러 시도들\n",
    "# res=req.urlopen(MBN_url).read()\n",
    "# content = res.decode('euc-kr','replace').encode('utf-8','replace')\n",
    "\n",
    "result_list=[]\n",
    "for i in range(2): #페이지번호\n",
    "    MBN_url='https://www.mbn.co.kr/news/politics/?page=1&vod=&category=politics'\n",
    "    params={\n",
    "        'page':i,\n",
    "        'vod':None,\n",
    "        'category':'politics'\n",
    "    }\n",
    "    resp=requests.get(MBN_url, params=params)\n",
    "\n",
    "\n",
    "    resp=requests.get(MBN_url)\n",
    "    resp.encoding='eur-kr'\n",
    "    soup=BeautifulSoup(resp.text)\n",
    "    #soup=BeautifulSoup(resp.text, 'html.parser',from_encoding='euc-kr')\n",
    "\n",
    "    MBN_news_list=soup.select('div.list_area>dl.article_list>dt.tit>a')\n",
    "\n",
    "    news_list=[]\n",
    "    for news in MBN_news_list:\n",
    "        news=news.text.strip()\n",
    "        news=news.replace(\"\\'\" , \" \")\n",
    "        \n",
    "        news_list.append(news)\n",
    "        \n",
    "    result_list.append(news_list)\n",
    "    \n",
    "result_list\n",
    "\n"
   ]
  },
  {
   "cell_type": "markdown",
   "metadata": {},
   "source": [
    "# 사회"
   ]
  },
  {
   "cell_type": "code",
   "execution_count": 63,
   "metadata": {},
   "outputs": [
    {
     "data": {
      "text/plain": [
       "[]"
      ]
     },
     "execution_count": 63,
     "metadata": {},
     "output_type": "execute_result"
    }
   ],
   "source": [
    "import requests\n",
    "from bs4 import BeautifulSoup\n",
    "import json\n",
    "\n",
    "def func_(time):\n",
    "    MBN_url='https://www.mbn.co.kr/news/society/?page=1&vod=&category=society'\n",
    "\n",
    "    resp=requests.get(MBN_url)\n",
    "    resp.encoding='eur-kr'\n",
    "    soup=BeautifulSoup(resp.text)\n",
    "\n",
    "    MBN_news_list=soup.select('div.list_area>dl.article_list>dt.tit>a')\n",
    "    MBN_news_list_date=soup.select('div.list_area>dl.article_list>dd.desc>span.date')\n",
    "\n",
    "    result_list=[]\n",
    "    for news,date in zip(MBN_news_list,MBN_news_list_date):\n",
    "\n",
    "\n",
    "        #date=date.text[0:10].replace(\"-\",\"\")\n",
    "        date=date.text[11:]\n",
    "\n",
    "        if time==date:\n",
    "\n",
    "            result_list.append({\n",
    "                news.text.strip()\n",
    "\n",
    "                })\n",
    "    \n",
    "    return result_list\n",
    "\n",
    "func_('14:23')\n",
    "\n"
   ]
  },
  {
   "cell_type": "markdown",
   "metadata": {},
   "source": [
    "# 경제"
   ]
  },
  {
   "cell_type": "code",
   "execution_count": 45,
   "metadata": {
    "collapsed": true
   },
   "outputs": [
    {
     "data": {
      "text/plain": [
       "['라쉬반, 성각스님 작품 담긴 마스크 출시',\n",
       " '제테마, 5500억원 규모 中 톡신 공급 및 라이센싱 계약 체결',\n",
       " '퀀타매트릭스, 증권신고서 제출…코스닥 상장 절차 본격 돌입',\n",
       " '나스미디어, 2분기 영업이익 56억원…전분기比 35%↑',\n",
       " '보험사 金상품도 못믿을판…투자자 `멘붕`',\n",
       " '역대급 홍수에…中인프라株 `상승 데자뷔`?',\n",
       " '다이어트 강자 `팜스빌`, 국내외시장 사로잡았다',\n",
       " '[코스닥 공시] 앤씨앤 / 잉글우드랩',\n",
       " '[유가증권시장 공시] 자이에스앤디',\n",
       " 'EY한영 컨설팅 강화 조직개편',\n",
       " '오늘의 증시 일정 (8월 5일)',\n",
       " '`온라인 주총` 가능해질까…김병욱 의원 개정안 발의',\n",
       " '오늘의 레이더M 뉴스 (8월 5일)',\n",
       " '발표 3시간만에…서울시 \"은마·잠실 재건축 50층아닌 35층\" 반발',\n",
       " '예고대로 `용적률 500%` 재건축 시동…늘어난 기부채납·공공참여 수용 관건',\n",
       " '용산 캠프킴·서초 조달청 `깜짝 선정`…서울 주택공급에 숨통',\n",
       " '30대·신혼부부에 유리한 `지분적립형 아파트` 나온다',\n",
       " '\"중장기 공급효과 기대되지만…집값 급한불 끄기엔 역부족\"',\n",
       " '\"양도세·보유세 내느니 물려준다\"…7월 강남아파트 증여 12배로 폭증',\n",
       " '3기 신도시도 `공급 풀가동`…용적률 높여 8천가구 추가']"
      ]
     },
     "execution_count": 45,
     "metadata": {},
     "output_type": "execute_result"
    }
   ],
   "source": [
    "import requests\n",
    "from bs4 import BeautifulSoup\n",
    "import json\n",
    "\n",
    "MBN_url='https://www.mbn.co.kr/news/society/?page=1&vod=&category=economy'\n",
    "\n",
    "resp=requests.get(MBN_url)\n",
    "resp.encoding='eur-kr'\n",
    "soup=BeautifulSoup(resp.text, 'lxml')\n",
    "\n",
    "MBN_news_list=soup.select('div.list_area > dl.article_list > dt.tit > a')\n",
    "result_list=[]\n",
    "for news in MBN_news_list:\n",
    "    result_list.append(news.text.strip())\n",
    "result_list\n",
    "\n",
    "\n"
   ]
  },
  {
   "cell_type": "markdown",
   "metadata": {},
   "source": [
    "# 국제"
   ]
  },
  {
   "cell_type": "code",
   "execution_count": 43,
   "metadata": {},
   "outputs": [
    {
     "data": {
      "text/plain": [
       "[]"
      ]
     },
     "execution_count": 43,
     "metadata": {},
     "output_type": "execute_result"
    }
   ],
   "source": [
    "import requests\n",
    "from bs4 import BeautifulSoup\n",
    "import json\n",
    "\n",
    "MBN_url='https://www.mbn.co.kr/news/society/?page=1&vod=&category=world'\n",
    "\n",
    "resp=requests.get(MBN_url)\n",
    "resp.encoding='eur-kr'\n",
    "soup=BeautifulSoup(resp.text, 'lxml')\n",
    "\n",
    "MBN_news_list=soup.select(\"div.list_area>dl.article_list > dt.tit > a\")\n",
    "MBN_news_list\n",
    "\n",
    "result_list=[]\n",
    "for news in MBN_news_list:\n",
    "    result_list.append(news.text.strip())\n",
    "result_list\n"
   ]
  },
  {
   "cell_type": "markdown",
   "metadata": {},
   "source": [
    "# 문화"
   ]
  },
  {
   "cell_type": "code",
   "execution_count": 46,
   "metadata": {},
   "outputs": [
    {
     "data": {
      "text/plain": [
       "['SM-JYP, 온라인 콘서트 합작사 설립',\n",
       " \"'보이스트롯' 김재엽·이만기 등 '영웅본색' 팀, 비 '깡' 파격변신\",\n",
       " '위클리, 첫 미니앨범 ‘위 아’ 공식 음반 활동 종료',\n",
       " \"'모범형사' 손현주X장승조, 오정세의 비열한 역습에 위기\",\n",
       " '오는 8일 서울시국악관현악단 `숲으로의 초대` 공연',\n",
       " '경기필하모닉, `앤솔러지 시리즈 스페셜` 공연한다',\n",
       " '성남아트센터 5개월 만에 운영재개…`세비야의 이발사` 상연',\n",
       " \"유재석 출연 tvN 신규 예능 '식스센스' 다음 달 첫 방송\",\n",
       " '700년 전 침몰한 신안 보물선, 오늘부터 온라인 공개',\n",
       " '유아인의 `#살아있다` 결국 살아남았다…손익분기점 돌파',\n",
       " '강동원의 `반도` 아시아에서만 500억원 벌었다…미국서도 먹힐까?',\n",
       " '한국의 영페미는 셀린 시아마 영화를 본다…코로나19에도 흥행질주',\n",
       " \"영화 '반도', 아시아 8개국 매출 4천만 달러 넘겼다\",\n",
       " '한국방문위원회, 비대면 관광안내시스템 전국 확대 운영',\n",
       " '한국문화예술위원회, 롯데시네마와 업무협약 체결',\n",
       " 'B1A4 산들 ‘생각집 EP.1’ 내지 일부 공개',\n",
       " '빅톤 한승우, 미니 1집 ‘페임’ 트랙리스트 공개',\n",
       " '[신간] 사실, 당신이 보석입니다',\n",
       " '온앤오프, 신곡 ‘스쿰빗스위밍’ 단체 티저 공개',\n",
       " '지니뮤직, BC카드 1만명 고객에게 구독형 음악서비스 혜택 제공']"
      ]
     },
     "execution_count": 46,
     "metadata": {},
     "output_type": "execute_result"
    }
   ],
   "source": [
    "import requests\n",
    "from bs4 import BeautifulSoup\n",
    "import json\n",
    "\n",
    "MBN_url='https://www.mbn.co.kr/news/society/?page=1&vod=&category=culture'\n",
    "\n",
    "resp=requests.get(MBN_url)\n",
    "resp.encoding='eur-kr'\n",
    "soup=BeautifulSoup(resp.text)\n",
    "\n",
    "MBN_news_list=soup.select('div.list_area > dl.article_list > dt.tit > a')\n",
    "\n",
    "result_list=[]\n",
    "for news in MBN_news_list:\n",
    "    result_list.append(news.text.strip())\n",
    "result_list"
   ]
  },
  {
   "cell_type": "markdown",
   "metadata": {},
   "source": [
    "# 스포츠"
   ]
  },
  {
   "cell_type": "code",
   "execution_count": 25,
   "metadata": {},
   "outputs": [
    {
     "data": {
      "text/plain": [
       "['프로축구연맹 \"ACL 일정 전후로 K리그 경기 진행 검토\"',\n",
       " '일본 프로야구 소프트뱅크 선수 이어 구단 직원도 코로나19 확진',\n",
       " '제이엠 골프 어드바이저, 세계적인 골프코스 설계자 7인과 업무협약',\n",
       " '레반도프스키, \"가장 좋아하는 감독 클롭…감독과 아버지 오가는 두 얼굴\"',\n",
       " '프로야구 LG-KIA, 3주 간 8경기 대격돌…누가 웃을까',\n",
       " \"세인트루이스 김광현, 코로나19 '음성' 판정\",\n",
       " '오늘 프로야구 잠실·수원 경기 폭우로 모두 취소',\n",
       " '중국 축구 해설진 \"코로나 양성 선수 불참에 감사\" 발언 논란',\n",
       " '양키스 저지 5경기 연속 홈런…이부문 세계 신기록은 이대호',\n",
       " '류현진, 애틀랜타전서 토론토 이적 후 첫 승 재도전',\n",
       " '류현진, 6일 애틀랜타전서 선발 등판…토론토 이적 후 첫 승 재도전',\n",
       " \"'슈퍼 루키' 유해란, 역대 최소타 타이 우승\",\n",
       " '[종합] 5개월 만의 LPGA투어 첫 대회 주인공은 대니엘 강…통산 4승',\n",
       " '광주 챔피언스필드 관중석 마침내 개방…KIA, 홈팬 앞에서 LG와 대결',\n",
       " \"추신수, 2경기 연속 홈런포 '폭발'…텍사스 2연패 탈출\",\n",
       " \"PGA 투어 '황금세대' 저스틴 토머스, 통산 13승…안병훈 공동 12위\",\n",
       " '5개월 만의 LPGA투어 첫 대회서 대니엘 강 우승…통산 4승',\n",
       " '[속보] 대니엘 강, LPGA 투어 재개 첫 대회 드라이브온 챔피언십 합계 7언더파 우승…통산 4승',\n",
       " '대니엘 강, LPGA 투어 재개 첫 대회 드라이브온 챔피언십 합계 7언더파 우승',\n",
       " '추신수, 매코비만에 빠지는 장외 홈런…시즌 2호']"
      ]
     },
     "execution_count": 25,
     "metadata": {},
     "output_type": "execute_result"
    }
   ],
   "source": [
    "import requests\n",
    "from bs4 import BeautifulSoup\n",
    "import json\n",
    "\n",
    "MBN_url='https://www.mbn.co.kr/news/society/?page=1&vod=&category=sports'\n",
    "\n",
    "resp=requests.get(MBN_url)\n",
    "resp.encoding='eur-kr'\n",
    "soup=BeautifulSoup(resp.text, 'html.parser',from_encoding='euc-kr')\n",
    "\n",
    "MBN_news_list=soup.select('div.list_area>dl.article_list>dt.tit>a')\n",
    "\n",
    "result_list=[]\n",
    "for news in MBN_news_list:\n",
    "    result_list.append(news.text.strip())\n",
    "result_list\n",
    "\n"
   ]
  },
  {
   "cell_type": "markdown",
   "metadata": {},
   "source": [
    "# 연예"
   ]
  },
  {
   "cell_type": "code",
   "execution_count": 26,
   "metadata": {
    "collapsed": true
   },
   "outputs": [
    {
     "data": {
      "text/plain": [
       "['`이휘재♥` 문정원, 수재민 위해 3천만원 쾌척 `기부 동참`',\n",
       " '송중기 기부 “집중호우 수재민 도와 달라” 5천만원 쾌척',\n",
       " '기은세, 수재민 위해 1천만원 기부...꾸준한 선행',\n",
       " '김윤지, 인어공주 변신…\"시간을 내서 살자\"',\n",
       " '`최파타` 제시 \"어릴 때 자신감 없었다...크면서 배워야 해\"',\n",
       " '박상철 해명 “불륜은 내 잘못, B씨의 주장은 거짓”',\n",
       " '온앤오프, `주간아` 출격...신곡 `스쿰빗스위밍` 최초 공개',\n",
       " '`임신` 김보미, ♥윤전일과 태교여행 대신 호캉스',\n",
       " '효연, 물오른 청순미...`몰라보겠어`',\n",
       " '[툭-tv] “행복했던 2주”...‘동상이몽2’ 김재우♥조유리, 떠나보낸 아들에 ‘울컥’',\n",
       " '`한다다` 손성윤, 웅빈이엔에스와 전속계약…이상엽 한솥밥',\n",
       " '`최파타` 제시 \"몸매 비결? 힙 라인까지 엄마 닮았다\"',\n",
       " '‘추석 아육대’ 코로나19 무관중 녹화…비대면 종목 신설',\n",
       " '‘뽕숭아학당’ F4 건강진단, 목 디스크 임영웅 VS 어깨 통증 영탁',\n",
       " '`출사표` 나나♥박성훈, 연애 시작 후 첫 사랑싸움?',\n",
       " 'YG 트레저, 데뷔 D-3 ‘들어와’ 음원 일부 공개',\n",
       " '`그놈이 그놈이다` 황정음 윤현민, 초밀착 키스 1초 전 포착',\n",
       " '예수정 `69세`, 8월 20일로 개봉일 변경',\n",
       " '[포토]김미례-심아정, 영화 관심 부탁드려요',\n",
       " '[포토]김미례 감독, 일 전범기업 연속폭파사건 다뤄']"
      ]
     },
     "execution_count": 26,
     "metadata": {},
     "output_type": "execute_result"
    }
   ],
   "source": [
    "import requests\n",
    "from bs4 import BeautifulSoup\n",
    "import json\n",
    "\n",
    "MBN_url='https://www.mbn.co.kr/news/society/?page=1&vod=&category=entertain'\n",
    "\n",
    "resp=requests.get(MBN_url)\n",
    "resp.encoding='eur-kr'\n",
    "soup=BeautifulSoup(resp.text, 'html.parser',from_encoding='euc-kr')\n",
    "\n",
    "MBN_news_list=soup.select('div.list_area>dl.article_list>dt.tit>a')\n",
    "\n",
    "result_list=[]\n",
    "for news in MBN_news_list:\n",
    "    result_list.append(news.text.strip())\n",
    "result_list\n",
    "\n"
   ]
  },
  {
   "cell_type": "markdown",
   "metadata": {},
   "source": [
    "# 생활/건강"
   ]
  },
  {
   "cell_type": "code",
   "execution_count": 30,
   "metadata": {
    "collapsed": true
   },
   "outputs": [
    {
     "data": {
      "text/plain": [
       "[\"'물폭탄' 중부지방은 병해충·'찜통' 남부지방은 가축 폐사 우려\",\n",
       " '전립선암 예측 가능한 AI 개발…전체 예측률 약 87%',\n",
       " '충남 집중호우에 주택 623채 침수…하루에만 이재민 620명',\n",
       " \"4호 태풍 '하구핏' 북상…전남 해안 '강한 바람·높은 물결' 주의\",\n",
       " '사망 7명·실종 2명…거세지는 장맛비',\n",
       " '기상청 \"전남 서해 먼바다에 풍랑주의보 발효\"',\n",
       " '청주서 외국인 3명 코로나19 확진…충북 총 76명',\n",
       " \"산림청, 서울·경기·경북 등 6개 시도 산사태 위기경보 '경계'로 상향\",\n",
       " '비 잦아들며 서울 여의상류·하류IC 통행 재개…잠수교는 통제',\n",
       " \"온난화 나비효과…'역대급 장마' 짧은 시간 퍼붓는 비\",\n",
       " '2020년 8월 4일 오늘의 운세',\n",
       " '[속보] 서울 올림픽대로 차량통제 해제…\"정상소통 가능\"',\n",
       " '서울 동부간선도로 오후 4시부터 통행 재개',\n",
       " '서울 올림픽대로 한강철교∼당산철교 양방향 교통통제',\n",
       " '부산 오전 11시 폭염주의보 발효',\n",
       " '경남 창원·김해·양산 폭염주의보…진주 등 15곳 폭염주의보 유지',\n",
       " '서울 동부간선도로 전면 교통통제…잠수교·증산교도 통제',\n",
       " '충북 진천·증평에 호우경보…옥천·보은에 호우주의보',\n",
       " '경기 광주·화성 시간당 80㎜ 폭우…1명 사망·1명 실종',\n",
       " '정세균 총리 \"비 오는 동안 불필요한 외출·야외 작업 자제\"']"
      ]
     },
     "execution_count": 30,
     "metadata": {},
     "output_type": "execute_result"
    }
   ],
   "source": [
    "import requests\n",
    "from bs4 import BeautifulSoup\n",
    "import json\n",
    "\n",
    "MBN_url='https://www.mbn.co.kr/news/society/?page=1&vod=&category=life'\n",
    "\n",
    "resp=requests.get(MBN_url)\n",
    "resp.encoding='eur-kr'\n",
    "soup=BeautifulSoup(resp.text, 'html.parser',from_encoding='euc-kr')\n",
    "\n",
    "MBN_news_list=soup.select('div.list_area>dl.article_list>dt.tit>a')\n",
    "\n",
    "result_list=[]\n",
    "for news in MBN_news_list:\n",
    "    result_list.append(news.text.strip())\n",
    "result_list\n",
    "\n"
   ]
  },
  {
   "cell_type": "code",
   "execution_count": null,
   "metadata": {},
   "outputs": [],
   "source": []
  },
  {
   "cell_type": "code",
   "execution_count": null,
   "metadata": {},
   "outputs": [],
   "source": []
  },
  {
   "cell_type": "code",
   "execution_count": null,
   "metadata": {},
   "outputs": [],
   "source": []
  },
  {
   "cell_type": "code",
   "execution_count": null,
   "metadata": {},
   "outputs": [],
   "source": []
  },
  {
   "cell_type": "code",
   "execution_count": null,
   "metadata": {},
   "outputs": [],
   "source": []
  },
  {
   "cell_type": "code",
   "execution_count": null,
   "metadata": {},
   "outputs": [],
   "source": []
  },
  {
   "cell_type": "code",
   "execution_count": null,
   "metadata": {},
   "outputs": [],
   "source": []
  },
  {
   "cell_type": "code",
   "execution_count": 60,
   "metadata": {},
   "outputs": [],
   "source": [
    "############################################################\n",
    "##########프로젝트 MBN 홈페이지 긁어오는 함수 코드##########\n",
    "############################################################\n",
    "\n",
    "\n",
    "import requests\n",
    "import sys\n",
    "from bs4 import BeautifulSoup\n",
    "import json\n",
    "\n",
    "\n",
    "def MBN_News_Function(category,time):\n",
    "    \n",
    "# 오류참고. 이렇게 쓰면 category에 다른게 들어와도 '사회'로 인식됨.\n",
    "#     if category == '사회'or'society':\n",
    "#         category_s='society'\n",
    "#         MBN_url='https://www.mbn.co.kr/news/society/'\n",
    "    \n",
    "    if category in ('사회'or'society'):\n",
    "        category_s='society'\n",
    "        MBN_url='https://www.mbn.co.kr/news/society/'\n",
    "        \n",
    "    elif category in ('경제'or'economy'):\n",
    "        category_s='economy'\n",
    "        MBN_url='https://www.mbn.co.kr/news/economy/'\n",
    "        \n",
    "    elif category in ('국제'or'world'):\n",
    "        category_s='world'\n",
    "        MBN_url='https://www.mbn.co.kr/news/world/'\n",
    "        \n",
    "    elif category in ('문화'or'culture'):\n",
    "        category_s='category'\n",
    "        MBN_url='https://www.mbn.co.kr/news/category/'\n",
    "        \n",
    "    elif category in ('스포츠'or'sports'):\n",
    "        category_s='sports'\n",
    "        MBN_url='https://www.mbn.co.kr/news/sports/'\n",
    "        \n",
    "    elif category in ('연예'or'entertain'):\n",
    "        category_s='entertain'\n",
    "        MBN_url='https://www.mbn.co.kr/news/entertain/'\n",
    "        \n",
    "    elif category in ('생활건강'or'life'):\n",
    "        category_s='life'\n",
    "        MBN_url='https://www.mbn.co.kr/news/life/'\n",
    "    \n",
    "    \n",
    "    result_list=[]\n",
    "    \n",
    "    for i in range(1,9): #페이지번호\n",
    "        params={\n",
    "            'page':i,\n",
    "            'vod':None,\n",
    "            'category':category_s\n",
    "        }\n",
    "        resp=requests.get(MBN_url, params=params)\n",
    "\n",
    "        resp.encoding='eur-kr'\n",
    "        soup=BeautifulSoup(resp.text)\n",
    "        \n",
    "        MBN_news_list=soup.select('div.list_area>dl.article_list>dt.tit>a')\n",
    "        MBN_news_list_date=soup.select('div.list_area>dl.article_list>dd.desc>span.date')\n",
    "\n",
    "        news_list=[]\n",
    "        for news,date in zip(MBN_news_list, MBN_news_list_date):\n",
    "            \n",
    "            news=news.text.strip() #제목 내 띄어쓰기 제거\n",
    "            news=news.replace(\"\\'\" , \" \") #제목 내 따옴표 제거\n",
    "\n",
    "            date=date.text[0:10].replace(\"-\",\"\")\n",
    "            \n",
    "            if date == time:\n",
    "                news_list.append(news)\n",
    "        \n",
    "        result_list.extend(news_list)\n",
    "\n",
    "    return result_list"
   ]
  },
  {
   "cell_type": "code",
   "execution_count": 61,
   "metadata": {},
   "outputs": [
    {
     "name": "stdout",
     "output_type": "stream",
     "text": [
      "카테고리 입력 : 사회\n",
      "날짜입력 : 20200803\n"
     ]
    },
    {
     "data": {
      "text/plain": [
       "[]"
      ]
     },
     "execution_count": 61,
     "metadata": {},
     "output_type": "execute_result"
    }
   ],
   "source": [
    "############################################################\n",
    "#########프로젝트 MBN 메모장으로 꺼내오는 함수 코드#########\n",
    "############################################################\n",
    "\n",
    "category=input(\"카테고리 입력 : \")\n",
    "day=input(\"날짜입력 : \")\n",
    "\n",
    "if category in ('사회'or'society'):\n",
    "    f=open('MBN_사회.txt', 'w')\n",
    "\n",
    "elif category in ('경제'or'economy'):\n",
    "    f=open('MBN_경제.txt', 'w')\n",
    "\n",
    "elif category in ('국제'or'world'):\n",
    "    f=open('MBN_국제.txt', 'w')\n",
    "\n",
    "elif category in ('문화'or'culture'):\n",
    "    f=open('MBN_문화.txt', 'w')\n",
    "\n",
    "elif category in ('스포츠'or'sports'):\n",
    "    f=open('MBN_스포츠.txt', 'w')\n",
    "\n",
    "elif category in ('연예'or'entertain'):\n",
    "    f=open('MBN_연예.txt', 'w')\n",
    "\n",
    "elif category in ('생활건강'or'life'):\n",
    "    f=open('MBN_생활건강.txt', 'w')\n",
    "\n",
    "    \n",
    "To_Memo=MBN_News_Function(category, day)        \n",
    "\n",
    "for i in To_Memo:\n",
    "    f.write(i)\n",
    "f.close()\n",
    "\n",
    "\n",
    "To_Memo"
   ]
  },
  {
   "cell_type": "code",
   "execution_count": 55,
   "metadata": {},
   "outputs": [],
   "source": [
    "import os #파일경로 바탕화면으로 수정\n",
    "path='C:/Users/user/Desktop'\n",
    "os.chdir(path)"
   ]
  },
  {
   "cell_type": "code",
   "execution_count": null,
   "metadata": {},
   "outputs": [],
   "source": []
  },
  {
   "cell_type": "code",
   "execution_count": null,
   "metadata": {},
   "outputs": [],
   "source": []
  },
  {
   "cell_type": "code",
   "execution_count": null,
   "metadata": {},
   "outputs": [],
   "source": []
  },
  {
   "cell_type": "code",
   "execution_count": null,
   "metadata": {},
   "outputs": [],
   "source": []
  },
  {
   "cell_type": "code",
   "execution_count": null,
   "metadata": {},
   "outputs": [],
   "source": []
  },
  {
   "cell_type": "code",
   "execution_count": 5,
   "metadata": {
    "collapsed": true
   },
   "outputs": [
    {
     "name": "stdout",
     "output_type": "stream",
     "text": [
      "Collecting konlpy\n",
      "  Using cached konlpy-0.5.2-py2.py3-none-any.whl (19.4 MB)\n",
      "Collecting lxml>=4.1.0\n",
      "  Downloading lxml-4.5.2-cp38-cp38-win_amd64.whl (3.5 MB)\n",
      "Collecting beautifulsoup4==4.6.0\n",
      "  Using cached beautifulsoup4-4.6.0-py3-none-any.whl (86 kB)\n",
      "Requirement already satisfied: colorama in c:\\users\\user\\.conda\\envs\\study1\\lib\\site-packages (from konlpy) (0.4.3)\n",
      "Collecting JPype1>=0.7.0\n",
      "  Using cached JPype1-1.0.1-cp38-cp38-win_amd64.whl (1.6 MB)\n",
      "Collecting tweepy>=3.7.0\n",
      "  Using cached tweepy-3.9.0-py2.py3-none-any.whl (30 kB)\n",
      "Requirement already satisfied: numpy>=1.6 in c:\\users\\user\\.conda\\envs\\study1\\lib\\site-packages (from konlpy) (1.18.5)\n",
      "Requirement already satisfied: requests[socks]>=2.11.1 in c:\\users\\user\\.conda\\envs\\study1\\lib\\site-packages (from tweepy>=3.7.0->konlpy) (2.24.0)\n",
      "Requirement already satisfied: six>=1.10.0 in c:\\users\\user\\.conda\\envs\\study1\\lib\\site-packages (from tweepy>=3.7.0->konlpy) (1.15.0)\n",
      "Collecting requests-oauthlib>=0.7.0\n",
      "  Using cached requests_oauthlib-1.3.0-py2.py3-none-any.whl (23 kB)\n",
      "Requirement already satisfied: urllib3!=1.25.0,!=1.25.1,<1.26,>=1.21.1 in c:\\users\\user\\.conda\\envs\\study1\\lib\\site-packages (from requests[socks]>=2.11.1->tweepy>=3.7.0->konlpy) (1.25.10)\n",
      "Requirement already satisfied: chardet<4,>=3.0.2 in c:\\users\\user\\.conda\\envs\\study1\\lib\\site-packages (from requests[socks]>=2.11.1->tweepy>=3.7.0->konlpy) (3.0.4)\n",
      "Requirement already satisfied: certifi>=2017.4.17 in c:\\users\\user\\.conda\\envs\\study1\\lib\\site-packages (from requests[socks]>=2.11.1->tweepy>=3.7.0->konlpy) (2020.6.20)\n",
      "Requirement already satisfied: idna<3,>=2.5 in c:\\users\\user\\.conda\\envs\\study1\\lib\\site-packages (from requests[socks]>=2.11.1->tweepy>=3.7.0->konlpy) (2.10)\n",
      "Requirement already satisfied: PySocks!=1.5.7,>=1.5.6; extra == \"socks\" in c:\\users\\user\\.conda\\envs\\study1\\lib\\site-packages (from requests[socks]>=2.11.1->tweepy>=3.7.0->konlpy) (1.7.1)\n",
      "Collecting oauthlib>=3.0.0\n",
      "  Using cached oauthlib-3.1.0-py2.py3-none-any.whl (147 kB)\n",
      "Installing collected packages: lxml, beautifulsoup4, JPype1, oauthlib, requests-oauthlib, tweepy, konlpy\n",
      "  Attempting uninstall: beautifulsoup4\n",
      "    Found existing installation: beautifulsoup4 4.9.1\n",
      "    Uninstalling beautifulsoup4-4.9.1:\n",
      "      Successfully uninstalled beautifulsoup4-4.9.1\n",
      "Successfully installed JPype1-1.0.1 beautifulsoup4-4.6.0 konlpy-0.5.2 lxml-4.5.2 oauthlib-3.1.0 requests-oauthlib-1.3.0 tweepy-3.9.0\n"
     ]
    }
   ],
   "source": [
    "!pip install konlpy"
   ]
  },
  {
   "cell_type": "code",
   "execution_count": 19,
   "metadata": {},
   "outputs": [],
   "source": [
    "############################################################\n",
    "#######프로젝트 MBN 빈출 단어 순서별로 추출하는 코드########\n",
    "############################################################\n",
    "\n",
    "\n",
    "from collections import Counter\n",
    "from konlpy.tag import Okt\n",
    "\n",
    "def get_tags(text, ntags=50):\n",
    "    spliter = Twitter()\n",
    "    # konlpy의 Twitter객체\n",
    "    nouns = spliter.nouns(text)\n",
    "    # nouns 함수를 통해서 text에서 명사만 분리/추출\n",
    "    count = Counter(nouns)\n",
    "    # Counter객체를 생성하고 참조변수 nouns할당\n",
    "    return_list = []  # 명사 빈도수 저장할 변수\n",
    "    for n, c in count.most_common(ntags):\n",
    "        temp = {'tag': n, 'count': c}\n",
    "        return_list.append(temp)\n",
    "    # most_common 메소드는 정수를 입력받아 객체 안의 명사중 빈도수\n",
    "    # 큰 명사부터 순서대로 입력받은 정수 갯수만큼 저장되어있는 객체 반환\n",
    "    # 명사와 사용된 갯수를 return_list에 저장합니다.\n",
    "    return return_list\n",
    " \n",
    "    \n",
    "def main():\n",
    "    text_file_name = \"MBN_사회.txt\"\n",
    "    # 분석할 파일\n",
    "    noun_count = 20\n",
    "    # 최대 많은 빈도수 부터 20개 명사 추출\n",
    "    output_file_name = \"count.txt\"\n",
    "    # count.txt 에 저장\n",
    "    #open_text_file = open(text_file_name, 'r',-1,\"utf-8\")\n",
    "    open_text_file = open(text_file_name, 'r',encoding='euc-kr')\n",
    "    # 분석할 파일을 open \n",
    "    text = open_text_file.read() #파일을 읽습니다.\n",
    "    tags = get_tags(text, noun_count) # get_tags 함수 실행\n",
    "    open_text_file.close()   #파일 close\n",
    "    open_output_file = open(output_file_name, 'w',-1,\"utf-8\")\n",
    "    # 결과로 쓰일 count.txt 열기\n",
    "    for tag in tags:\n",
    "        noun = tag['tag']\n",
    "        count = tag['count']\n",
    "        open_output_file.write('{} {}\\n'.format(noun, count))\n",
    "    # 결과 저장\n",
    "    open_output_file.close() \n",
    "\n",
    "    \n",
    "if __name__ == '__main__':\n",
    "    main()"
   ]
  },
  {
   "cell_type": "code",
   "execution_count": 37,
   "metadata": {
    "collapsed": true
   },
   "outputs": [
    {
     "name": "stdout",
     "output_type": "stream",
     "text": [
      "Requirement already up-to-date: pytagcloud in c:\\users\\user\\.conda\\envs\\study1\\lib\\site-packages (0.3.5)\n",
      "Requirement already satisfied: pygame in c:\\users\\user\\.conda\\envs\\study1\\lib\\site-packages (1.9.6)\n",
      "Collecting simplejson\n",
      "  Downloading simplejson-3.17.2.tar.gz (83 kB)\n",
      "Building wheels for collected packages: simplejson\n",
      "  Building wheel for simplejson (setup.py): started\n",
      "  Building wheel for simplejson (setup.py): finished with status 'done'\n",
      "  Created wheel for simplejson: filename=simplejson-3.17.2-py3-none-any.whl size=55464 sha256=3c7bcf89376acf87908662623fa299df6118881058c2175f9f60b9ecadd8bd94\n",
      "  Stored in directory: c:\\users\\user\\appdata\\local\\pip\\cache\\wheels\\17\\72\\7d\\df0984c925921e22322ea462a6f861e9d0617881192deb9b8d\n",
      "Successfully built simplejson\n",
      "Installing collected packages: simplejson\n",
      "Successfully installed simplejson-3.17.2\n"
     ]
    }
   ],
   "source": [
    "!pip install -U pytagcloud\n",
    "!pip install pygame\n",
    "!pip install simplejson"
   ]
  },
  {
   "cell_type": "code",
   "execution_count": 51,
   "metadata": {},
   "outputs": [
    {
     "ename": "TypeError",
     "evalue": "integer argument expected, got float",
     "output_type": "error",
     "traceback": [
      "\u001b[1;31m---------------------------------------------------------------------------\u001b[0m",
      "\u001b[1;31mTypeError\u001b[0m                                 Traceback (most recent call last)",
      "\u001b[1;32m<ipython-input-51-80c8113db193>\u001b[0m in \u001b[0;36m<module>\u001b[1;34m\u001b[0m\n\u001b[0;32m     34\u001b[0m \u001b[1;33m\u001b[0m\u001b[0m\n\u001b[0;32m     35\u001b[0m \u001b[1;32mif\u001b[0m \u001b[0m__name__\u001b[0m\u001b[1;33m==\u001b[0m\u001b[1;34m\"__main__\"\u001b[0m\u001b[1;33m:\u001b[0m\u001b[1;33m\u001b[0m\u001b[1;33m\u001b[0m\u001b[0m\n\u001b[1;32m---> 36\u001b[1;33m     \u001b[0mmain\u001b[0m\u001b[1;33m(\u001b[0m\u001b[1;33m)\u001b[0m\u001b[1;33m\u001b[0m\u001b[1;33m\u001b[0m\u001b[0m\n\u001b[0m",
      "\u001b[1;32m<ipython-input-51-80c8113db193>\u001b[0m in \u001b[0;36mmain\u001b[1;34m()\u001b[0m\n\u001b[0;32m     29\u001b[0m     \u001b[0mtext\u001b[0m\u001b[1;33m=\u001b[0m\u001b[0mtext_file\u001b[0m\u001b[1;33m.\u001b[0m\u001b[0mread\u001b[0m\u001b[1;33m(\u001b[0m\u001b[1;33m)\u001b[0m\u001b[1;33m\u001b[0m\u001b[1;33m\u001b[0m\u001b[0m\n\u001b[0;32m     30\u001b[0m     \u001b[0mtags\u001b[0m \u001b[1;33m=\u001b[0m \u001b[0mget_tags\u001b[0m\u001b[1;33m(\u001b[0m\u001b[0mtext\u001b[0m\u001b[1;33m)\u001b[0m\u001b[1;33m\u001b[0m\u001b[1;33m\u001b[0m\u001b[0m\n\u001b[1;32m---> 31\u001b[1;33m     \u001b[0mdraw_cloud\u001b[0m\u001b[1;33m(\u001b[0m\u001b[0mtags\u001b[0m\u001b[1;33m,\u001b[0m \u001b[1;34m'wordcloud.png'\u001b[0m\u001b[1;33m)\u001b[0m\u001b[1;33m\u001b[0m\u001b[1;33m\u001b[0m\u001b[0m\n\u001b[0m\u001b[0;32m     32\u001b[0m \u001b[1;33m\u001b[0m\u001b[0m\n\u001b[0;32m     33\u001b[0m     \u001b[0mtext_file\u001b[0m\u001b[1;33m.\u001b[0m\u001b[0mclose\u001b[0m\u001b[1;33m(\u001b[0m\u001b[1;33m)\u001b[0m\u001b[1;33m\u001b[0m\u001b[1;33m\u001b[0m\u001b[0m\n",
      "\u001b[1;32m<ipython-input-51-80c8113db193>\u001b[0m in \u001b[0;36mdraw_cloud\u001b[1;34m(tags, filename, fontname, size)\u001b[0m\n\u001b[0;32m     22\u001b[0m \u001b[1;33m\u001b[0m\u001b[0m\n\u001b[0;32m     23\u001b[0m \u001b[1;32mdef\u001b[0m \u001b[0mdraw_cloud\u001b[0m\u001b[1;33m(\u001b[0m\u001b[0mtags\u001b[0m\u001b[1;33m,\u001b[0m \u001b[0mfilename\u001b[0m\u001b[1;33m,\u001b[0m \u001b[0mfontname\u001b[0m\u001b[1;33m=\u001b[0m\u001b[1;34m'Neuton'\u001b[0m\u001b[1;33m,\u001b[0m \u001b[0msize\u001b[0m\u001b[1;33m=\u001b[0m\u001b[1;33m(\u001b[0m\u001b[1;36m800\u001b[0m\u001b[1;33m,\u001b[0m \u001b[1;36m600\u001b[0m\u001b[1;33m)\u001b[0m\u001b[1;33m)\u001b[0m\u001b[1;33m:\u001b[0m\u001b[1;33m\u001b[0m\u001b[1;33m\u001b[0m\u001b[0m\n\u001b[1;32m---> 24\u001b[1;33m     \u001b[0mpytagcloud\u001b[0m\u001b[1;33m.\u001b[0m\u001b[0mcreate_tag_image\u001b[0m\u001b[1;33m(\u001b[0m\u001b[0mtags\u001b[0m\u001b[1;33m,\u001b[0m \u001b[0mfilename\u001b[0m\u001b[1;33m,\u001b[0m \u001b[0mfontname\u001b[0m\u001b[1;33m=\u001b[0m\u001b[0mfontname\u001b[0m\u001b[1;33m,\u001b[0m \u001b[0msize\u001b[0m\u001b[1;33m=\u001b[0m\u001b[0msize\u001b[0m\u001b[1;33m)\u001b[0m\u001b[1;33m\u001b[0m\u001b[1;33m\u001b[0m\u001b[0m\n\u001b[0m\u001b[0;32m     25\u001b[0m     \u001b[0mwebbrowser\u001b[0m\u001b[1;33m.\u001b[0m\u001b[0mopen\u001b[0m\u001b[1;33m(\u001b[0m\u001b[0mfilename\u001b[0m\u001b[1;33m)\u001b[0m\u001b[1;33m\u001b[0m\u001b[1;33m\u001b[0m\u001b[0m\n\u001b[0;32m     26\u001b[0m \u001b[1;33m\u001b[0m\u001b[0m\n",
      "\u001b[1;32m~\\.conda\\envs\\study1\\lib\\site-packages\\pytagcloud\\__init__.py\u001b[0m in \u001b[0;36mcreate_tag_image\u001b[1;34m(tags, output, size, background, layout, fontname, rectangular)\u001b[0m\n\u001b[0;32m    338\u001b[0m         \u001b[1;32mreturn\u001b[0m\u001b[1;33m\u001b[0m\u001b[1;33m\u001b[0m\u001b[0m\n\u001b[0;32m    339\u001b[0m \u001b[1;33m\u001b[0m\u001b[0m\n\u001b[1;32m--> 340\u001b[1;33m     sizeRect, tag_store = _draw_cloud(tags,\n\u001b[0m\u001b[0;32m    341\u001b[0m                                       \u001b[0mlayout\u001b[0m\u001b[1;33m,\u001b[0m\u001b[1;33m\u001b[0m\u001b[1;33m\u001b[0m\u001b[0m\n\u001b[0;32m    342\u001b[0m                                       \u001b[0msize\u001b[0m\u001b[1;33m=\u001b[0m\u001b[0msize\u001b[0m\u001b[1;33m,\u001b[0m\u001b[1;33m\u001b[0m\u001b[1;33m\u001b[0m\u001b[0m\n",
      "\u001b[1;32m~\\.conda\\envs\\study1\\lib\\site-packages\\pytagcloud\\__init__.py\u001b[0m in \u001b[0;36m_draw_cloud\u001b[1;34m(tag_list, layout, size, fontname, rectangular)\u001b[0m\n\u001b[0;32m    273\u001b[0m     \u001b[0marea\u001b[0m \u001b[1;33m=\u001b[0m \u001b[1;36m0\u001b[0m\u001b[1;33m\u001b[0m\u001b[1;33m\u001b[0m\u001b[0m\n\u001b[0;32m    274\u001b[0m     \u001b[1;32mfor\u001b[0m \u001b[0mtag\u001b[0m \u001b[1;32min\u001b[0m \u001b[0mtag_list\u001b[0m\u001b[1;33m:\u001b[0m\u001b[1;33m\u001b[0m\u001b[1;33m\u001b[0m\u001b[0m\n\u001b[1;32m--> 275\u001b[1;33m         \u001b[0mtag_sprite\u001b[0m \u001b[1;33m=\u001b[0m \u001b[0mTag\u001b[0m\u001b[1;33m(\u001b[0m\u001b[0mtag\u001b[0m\u001b[1;33m,\u001b[0m \u001b[1;33m(\u001b[0m\u001b[1;36m0\u001b[0m\u001b[1;33m,\u001b[0m \u001b[1;36m0\u001b[0m\u001b[1;33m)\u001b[0m\u001b[1;33m,\u001b[0m \u001b[0mfontname\u001b[0m\u001b[1;33m=\u001b[0m\u001b[0mfontname\u001b[0m\u001b[1;33m)\u001b[0m\u001b[1;33m\u001b[0m\u001b[1;33m\u001b[0m\u001b[0m\n\u001b[0m\u001b[0;32m    276\u001b[0m         \u001b[0marea\u001b[0m \u001b[1;33m+=\u001b[0m \u001b[0mtag_sprite\u001b[0m\u001b[1;33m.\u001b[0m\u001b[0mmask\u001b[0m\u001b[1;33m.\u001b[0m\u001b[0mcount\u001b[0m\u001b[1;33m(\u001b[0m\u001b[1;33m)\u001b[0m\u001b[1;33m\u001b[0m\u001b[1;33m\u001b[0m\u001b[0m\n\u001b[0;32m    277\u001b[0m         \u001b[0mtag_sprites\u001b[0m\u001b[1;33m.\u001b[0m\u001b[0mappend\u001b[0m\u001b[1;33m(\u001b[0m\u001b[0mtag_sprite\u001b[0m\u001b[1;33m)\u001b[0m\u001b[1;33m\u001b[0m\u001b[1;33m\u001b[0m\u001b[0m\n",
      "\u001b[1;32m~\\.conda\\envs\\study1\\lib\\site-packages\\pytagcloud\\__init__.py\u001b[0m in \u001b[0;36m__init__\u001b[1;34m(self, tag, initial_position, fontname)\u001b[0m\n\u001b[0;32m     58\u001b[0m \u001b[1;33m\u001b[0m\u001b[0m\n\u001b[0;32m     59\u001b[0m         \u001b[0mself\u001b[0m\u001b[1;33m.\u001b[0m\u001b[0mfont_spec\u001b[0m \u001b[1;33m=\u001b[0m \u001b[0mload_font\u001b[0m\u001b[1;33m(\u001b[0m\u001b[0mfontname\u001b[0m\u001b[1;33m)\u001b[0m\u001b[1;33m\u001b[0m\u001b[1;33m\u001b[0m\u001b[0m\n\u001b[1;32m---> 60\u001b[1;33m         self.font = font.Font(os.path.join(FONT_DIR,\n\u001b[0m\u001b[0;32m     61\u001b[0m                                            self.font_spec['ttf']),\n\u001b[0;32m     62\u001b[0m                                            self.tag['size'])\n",
      "\u001b[1;31mTypeError\u001b[0m: integer argument expected, got float"
     ]
    }
   ],
   "source": [
    "from collections import Counter\n",
    "import urllib\n",
    "import random\n",
    "import webbrowser\n",
    " \n",
    "from konlpy.tag import Okt\n",
    "from lxml import html\n",
    "import sys\n",
    "import pytagcloud\n",
    "\n",
    "\n",
    "r = lambda: random.randint(0,255)\n",
    "# 글씨의 랜덤색깔\n",
    "color = lambda: (r(), r(), r())\n",
    " \n",
    "def get_tags(text, ntags=50, multiplier=3): #전에 했던 명사 탐색\n",
    "    spliter = Twitter()\n",
    "    nouns = spliter.nouns(text)\n",
    "    count = Counter(nouns)\n",
    "    return [{ 'color': color(), 'tag': n, 'size': (c*multiplier)/2 }\\\n",
    "                for n, c in count.most_common(ntags)]\n",
    " \n",
    "def draw_cloud(tags, filename, fontname='Neuton', size=(800, 600)):\n",
    "    pytagcloud.create_tag_image(tags, filename, fontname=fontname, size=size)\n",
    "    webbrowser.open(filename)\n",
    "\n",
    "def main():\n",
    "    text_file=open(\"count.txt\",'r', encoding='UTF8')\n",
    "    text=text_file.read()\n",
    "    tags = get_tags(text)\n",
    "    draw_cloud(tags, 'wordcloud.png')\n",
    " \n",
    "    text_file.close()\n",
    "\n",
    "if __name__==\"__main__\":\n",
    "    main()"
   ]
  },
  {
   "cell_type": "code",
   "execution_count": null,
   "metadata": {},
   "outputs": [],
   "source": []
  }
 ],
 "metadata": {
  "kernelspec": {
   "display_name": "Python 3",
   "language": "python",
   "name": "python3"
  },
  "language_info": {
   "codemirror_mode": {
    "name": "ipython",
    "version": 3
   },
   "file_extension": ".py",
   "mimetype": "text/x-python",
   "name": "python",
   "nbconvert_exporter": "python",
   "pygments_lexer": "ipython3",
   "version": "3.8.3"
  }
 },
 "nbformat": 4,
 "nbformat_minor": 4
}
